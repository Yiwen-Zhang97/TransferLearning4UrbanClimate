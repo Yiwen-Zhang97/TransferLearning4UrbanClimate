{
 "cells": [
  {
   "cell_type": "code",
   "execution_count": 12,
   "id": "55703ad5",
   "metadata": {},
   "outputs": [],
   "source": [
    "import torch\n",
    "import webdataset as wds\n",
    "import os \n",
    "from tqdm import tqdm\n",
    "import numpy as np\n",
    "\n",
    "PATH_TO_DATA = \"/mnt/sdc2/data/research_data/sharded_data/\" \n",
    "PATH_TO_STORE = \"/mnt/sdc2/data/research_data/rand_sharded_data/\""
   ]
  },
  {
   "cell_type": "code",
   "execution_count": 13,
   "id": "098d14b7",
   "metadata": {},
   "outputs": [],
   "source": [
    "files = []\n",
    "for dirpath, dirnames, filenames in os.walk(PATH_TO_DATA):\n",
    "    files.extend(filenames)\n",
    "    \n",
    "path_to_files = PATH_TO_DATA + \"shard-{000000..000208}.tar\""
   ]
  },
  {
   "cell_type": "code",
   "execution_count": 14,
   "id": "a6412d32",
   "metadata": {},
   "outputs": [],
   "source": [
    "dataset = wds.WebDataset(path_to_files).decode(\"rgb\").shuffle(100000, initial=100000)"
   ]
  },
  {
   "cell_type": "code",
   "execution_count": 15,
   "id": "009ab79a",
   "metadata": {},
   "outputs": [
    {
     "name": "stdout",
     "output_type": "stream",
     "text": [
      "# writing /mnt/sdc2/data/research_data/rand_sharded_data/shard-000000.tar 0 0.0 GB 0\n"
     ]
    },
    {
     "name": "stderr",
     "output_type": "stream",
     "text": [
      "  0%|▍                                                                                                     | 10093/2080000 [01:10<1:13:40, 468.24it/s]"
     ]
    },
    {
     "name": "stdout",
     "output_type": "stream",
     "text": [
      "# writing /mnt/sdc2/data/research_data/rand_sharded_data/shard-000001.tar 10000 0.4 GB 10000\n"
     ]
    },
    {
     "name": "stderr",
     "output_type": "stream",
     "text": [
      "  1%|▉                                                                                                     | 20052/2080000 [01:32<1:10:48, 484.86it/s]"
     ]
    },
    {
     "name": "stdout",
     "output_type": "stream",
     "text": [
      "# writing /mnt/sdc2/data/research_data/rand_sharded_data/shard-000002.tar 10000 0.4 GB 20000\n"
     ]
    },
    {
     "name": "stderr",
     "output_type": "stream",
     "text": [
      "  1%|█▍                                                                                                    | 30081/2080000 [01:52<1:11:27, 478.10it/s]"
     ]
    },
    {
     "name": "stdout",
     "output_type": "stream",
     "text": [
      "# writing /mnt/sdc2/data/research_data/rand_sharded_data/shard-000003.tar 10000 0.4 GB 30000\n"
     ]
    },
    {
     "name": "stderr",
     "output_type": "stream",
     "text": [
      "  2%|█▉                                                                                                    | 40071/2080000 [02:16<1:10:21, 483.20it/s]"
     ]
    },
    {
     "name": "stdout",
     "output_type": "stream",
     "text": [
      "# writing /mnt/sdc2/data/research_data/rand_sharded_data/shard-000004.tar 10000 0.4 GB 40000\n"
     ]
    },
    {
     "name": "stderr",
     "output_type": "stream",
     "text": [
      "  2%|██▍                                                                                                   | 50058/2080000 [02:40<1:14:46, 452.41it/s]"
     ]
    },
    {
     "name": "stdout",
     "output_type": "stream",
     "text": [
      "# writing /mnt/sdc2/data/research_data/rand_sharded_data/shard-000005.tar 10000 0.4 GB 50000\n"
     ]
    },
    {
     "name": "stderr",
     "output_type": "stream",
     "text": [
      "  3%|██▉                                                                                                   | 60055/2080000 [03:01<1:12:06, 466.85it/s]"
     ]
    },
    {
     "name": "stdout",
     "output_type": "stream",
     "text": [
      "# writing /mnt/sdc2/data/research_data/rand_sharded_data/shard-000006.tar 10000 0.4 GB 60000\n"
     ]
    },
    {
     "name": "stderr",
     "output_type": "stream",
     "text": [
      "  3%|███▍                                                                                                  | 70074/2080000 [03:26<1:15:03, 446.27it/s]"
     ]
    },
    {
     "name": "stdout",
     "output_type": "stream",
     "text": [
      "# writing /mnt/sdc2/data/research_data/rand_sharded_data/shard-000007.tar 10000 0.4 GB 70000\n"
     ]
    },
    {
     "name": "stderr",
     "output_type": "stream",
     "text": [
      "  4%|███▉                                                                                                  | 80087/2080000 [03:50<1:10:01, 475.99it/s]"
     ]
    },
    {
     "name": "stdout",
     "output_type": "stream",
     "text": [
      "# writing /mnt/sdc2/data/research_data/rand_sharded_data/shard-000008.tar 10000 0.4 GB 80000\n"
     ]
    },
    {
     "name": "stderr",
     "output_type": "stream",
     "text": [
      "  4%|████▍                                                                                                 | 90053/2080000 [04:10<1:09:52, 474.60it/s]"
     ]
    },
    {
     "name": "stdout",
     "output_type": "stream",
     "text": [
      "# writing /mnt/sdc2/data/research_data/rand_sharded_data/shard-000009.tar 10000 0.4 GB 90000\n"
     ]
    },
    {
     "name": "stderr",
     "output_type": "stream",
     "text": [
      "  5%|████▊                                                                                                | 100059/2080000 [04:35<1:10:33, 467.69it/s]"
     ]
    },
    {
     "name": "stdout",
     "output_type": "stream",
     "text": [
      "# writing /mnt/sdc2/data/research_data/rand_sharded_data/shard-000010.tar 10000 0.4 GB 100000\n"
     ]
    },
    {
     "name": "stderr",
     "output_type": "stream",
     "text": [
      "  5%|█████▎                                                                                               | 110072/2080000 [04:58<1:15:33, 434.50it/s]"
     ]
    },
    {
     "name": "stdout",
     "output_type": "stream",
     "text": [
      "# writing /mnt/sdc2/data/research_data/rand_sharded_data/shard-000011.tar 10000 0.4 GB 110000\n"
     ]
    },
    {
     "name": "stderr",
     "output_type": "stream",
     "text": [
      "  6%|█████▊                                                                                               | 120048/2080000 [05:19<1:11:16, 458.27it/s]"
     ]
    },
    {
     "name": "stdout",
     "output_type": "stream",
     "text": [
      "# writing /mnt/sdc2/data/research_data/rand_sharded_data/shard-000012.tar 10000 0.4 GB 120000\n"
     ]
    },
    {
     "name": "stderr",
     "output_type": "stream",
     "text": [
      "  6%|██████▎                                                                                              | 130092/2080000 [05:43<1:09:55, 464.74it/s]"
     ]
    },
    {
     "name": "stdout",
     "output_type": "stream",
     "text": [
      "# writing /mnt/sdc2/data/research_data/rand_sharded_data/shard-000013.tar 10000 0.4 GB 130000\n"
     ]
    },
    {
     "name": "stderr",
     "output_type": "stream",
     "text": [
      "  7%|██████▊                                                                                              | 140095/2080000 [06:08<1:12:54, 443.43it/s]"
     ]
    },
    {
     "name": "stdout",
     "output_type": "stream",
     "text": [
      "# writing /mnt/sdc2/data/research_data/rand_sharded_data/shard-000014.tar 10000 0.4 GB 140000\n"
     ]
    },
    {
     "name": "stderr",
     "output_type": "stream",
     "text": [
      "  7%|███████▎                                                                                             | 150058/2080000 [06:28<1:08:37, 468.68it/s]"
     ]
    },
    {
     "name": "stdout",
     "output_type": "stream",
     "text": [
      "# writing /mnt/sdc2/data/research_data/rand_sharded_data/shard-000015.tar 10000 0.4 GB 150000\n"
     ]
    },
    {
     "name": "stderr",
     "output_type": "stream",
     "text": [
      "  8%|███████▊                                                                                             | 160075/2080000 [06:52<1:05:40, 487.25it/s]"
     ]
    },
    {
     "name": "stdout",
     "output_type": "stream",
     "text": [
      "# writing /mnt/sdc2/data/research_data/rand_sharded_data/shard-000016.tar 10000 0.4 GB 160000\n"
     ]
    },
    {
     "name": "stderr",
     "output_type": "stream",
     "text": [
      "  8%|████████▎                                                                                            | 170070/2080000 [07:12<1:07:13, 473.53it/s]"
     ]
    },
    {
     "name": "stdout",
     "output_type": "stream",
     "text": [
      "# writing /mnt/sdc2/data/research_data/rand_sharded_data/shard-000017.tar 10000 0.4 GB 170000\n"
     ]
    },
    {
     "name": "stderr",
     "output_type": "stream",
     "text": [
      "  9%|████████▋                                                                                            | 180057/2080000 [07:37<1:10:54, 446.58it/s]"
     ]
    },
    {
     "name": "stdout",
     "output_type": "stream",
     "text": [
      "# writing /mnt/sdc2/data/research_data/rand_sharded_data/shard-000018.tar 10000 0.4 GB 180000\n"
     ]
    },
    {
     "name": "stderr",
     "output_type": "stream",
     "text": [
      "  9%|█████████▏                                                                                           | 190071/2080000 [08:02<1:07:09, 469.06it/s]"
     ]
    },
    {
     "name": "stdout",
     "output_type": "stream",
     "text": [
      "# writing /mnt/sdc2/data/research_data/rand_sharded_data/shard-000019.tar 10000 0.4 GB 190000\n"
     ]
    },
    {
     "name": "stderr",
     "output_type": "stream",
     "text": [
      " 10%|█████████▋                                                                                           | 200049/2080000 [08:22<1:08:24, 458.08it/s]"
     ]
    },
    {
     "name": "stdout",
     "output_type": "stream",
     "text": [
      "# writing /mnt/sdc2/data/research_data/rand_sharded_data/shard-000020.tar 10000 0.4 GB 200000\n"
     ]
    },
    {
     "name": "stderr",
     "output_type": "stream",
     "text": [
      " 10%|██████████▏                                                                                          | 210069/2080000 [08:46<1:06:03, 471.76it/s]"
     ]
    },
    {
     "name": "stdout",
     "output_type": "stream",
     "text": [
      "# writing /mnt/sdc2/data/research_data/rand_sharded_data/shard-000021.tar 10000 0.4 GB 210000\n"
     ]
    },
    {
     "name": "stderr",
     "output_type": "stream",
     "text": [
      " 11%|██████████▋                                                                                          | 220075/2080000 [09:11<1:07:22, 460.10it/s]"
     ]
    },
    {
     "name": "stdout",
     "output_type": "stream",
     "text": [
      "# writing /mnt/sdc2/data/research_data/rand_sharded_data/shard-000022.tar 10000 0.4 GB 220000\n"
     ]
    },
    {
     "name": "stderr",
     "output_type": "stream",
     "text": [
      " 11%|███████████▏                                                                                         | 230064/2080000 [09:31<1:05:20, 471.91it/s]"
     ]
    },
    {
     "name": "stdout",
     "output_type": "stream",
     "text": [
      "# writing /mnt/sdc2/data/research_data/rand_sharded_data/shard-000023.tar 10000 0.4 GB 230000\n"
     ]
    },
    {
     "name": "stderr",
     "output_type": "stream",
     "text": [
      " 12%|███████████▋                                                                                         | 240086/2080000 [09:55<1:06:17, 462.59it/s]"
     ]
    },
    {
     "name": "stdout",
     "output_type": "stream",
     "text": [
      "# writing /mnt/sdc2/data/research_data/rand_sharded_data/shard-000024.tar 10000 0.4 GB 240000\n"
     ]
    },
    {
     "name": "stderr",
     "output_type": "stream",
     "text": [
      " 12%|████████████▏                                                                                        | 250036/2080000 [10:15<1:11:26, 426.93it/s]"
     ]
    },
    {
     "name": "stdout",
     "output_type": "stream",
     "text": [
      "# writing /mnt/sdc2/data/research_data/rand_sharded_data/shard-000025.tar 10000 0.4 GB 250000\n"
     ]
    },
    {
     "name": "stderr",
     "output_type": "stream",
     "text": [
      " 13%|████████████▋                                                                                        | 260072/2080000 [10:39<1:03:59, 474.04it/s]"
     ]
    },
    {
     "name": "stdout",
     "output_type": "stream",
     "text": [
      "# writing /mnt/sdc2/data/research_data/rand_sharded_data/shard-000026.tar 10000 0.4 GB 260000\n"
     ]
    },
    {
     "name": "stderr",
     "output_type": "stream",
     "text": [
      " 13%|█████████████                                                                                        | 270057/2080000 [11:03<1:03:26, 475.47it/s]"
     ]
    },
    {
     "name": "stdout",
     "output_type": "stream",
     "text": [
      "# writing /mnt/sdc2/data/research_data/rand_sharded_data/shard-000027.tar 10000 0.4 GB 270000\n"
     ]
    },
    {
     "name": "stderr",
     "output_type": "stream",
     "text": [
      " 13%|█████████████▌                                                                                       | 280075/2080000 [11:23<1:03:07, 475.26it/s]"
     ]
    },
    {
     "name": "stdout",
     "output_type": "stream",
     "text": [
      "# writing /mnt/sdc2/data/research_data/rand_sharded_data/shard-000028.tar 10000 0.4 GB 280000\n"
     ]
    },
    {
     "name": "stderr",
     "output_type": "stream",
     "text": [
      " 14%|██████████████                                                                                       | 290062/2080000 [11:47<1:01:53, 482.03it/s]"
     ]
    },
    {
     "name": "stdout",
     "output_type": "stream",
     "text": [
      "# writing /mnt/sdc2/data/research_data/rand_sharded_data/shard-000029.tar 10000 0.4 GB 290000\n"
     ]
    },
    {
     "name": "stderr",
     "output_type": "stream",
     "text": [
      " 14%|██████████████▌                                                                                      | 300057/2080000 [12:11<1:03:08, 469.87it/s]"
     ]
    },
    {
     "name": "stdout",
     "output_type": "stream",
     "text": [
      "# writing /mnt/sdc2/data/research_data/rand_sharded_data/shard-000030.tar 10000 0.4 GB 300000\n"
     ]
    },
    {
     "name": "stderr",
     "output_type": "stream",
     "text": [
      " 15%|███████████████                                                                                      | 310087/2080000 [12:31<1:01:11, 482.01it/s]"
     ]
    },
    {
     "name": "stdout",
     "output_type": "stream",
     "text": [
      "# writing /mnt/sdc2/data/research_data/rand_sharded_data/shard-000031.tar 10000 0.4 GB 310000\n"
     ]
    },
    {
     "name": "stderr",
     "output_type": "stream",
     "text": [
      " 15%|███████████████▌                                                                                     | 320097/2080000 [12:55<1:01:03, 480.33it/s]"
     ]
    },
    {
     "name": "stdout",
     "output_type": "stream",
     "text": [
      "# writing /mnt/sdc2/data/research_data/rand_sharded_data/shard-000032.tar 10000 0.4 GB 320000\n"
     ]
    },
    {
     "name": "stderr",
     "output_type": "stream",
     "text": [
      " 16%|████████████████▎                                                                                      | 330054/2080000 [13:20<58:08, 501.63it/s]"
     ]
    },
    {
     "name": "stdout",
     "output_type": "stream",
     "text": [
      "# writing /mnt/sdc2/data/research_data/rand_sharded_data/shard-000033.tar 10000 0.4 GB 330000\n"
     ]
    },
    {
     "name": "stderr",
     "output_type": "stream",
     "text": [
      " 16%|████████████████▊                                                                                      | 340055/2080000 [13:40<58:05, 499.18it/s]"
     ]
    },
    {
     "name": "stdout",
     "output_type": "stream",
     "text": [
      "# writing /mnt/sdc2/data/research_data/rand_sharded_data/shard-000034.tar 10000 0.4 GB 340000\n"
     ]
    },
    {
     "name": "stderr",
     "output_type": "stream",
     "text": [
      " 17%|████████████████▉                                                                                    | 350059/2080000 [14:04<1:01:17, 470.46it/s]"
     ]
    },
    {
     "name": "stdout",
     "output_type": "stream",
     "text": [
      "# writing /mnt/sdc2/data/research_data/rand_sharded_data/shard-000035.tar 10000 0.4 GB 350000\n"
     ]
    },
    {
     "name": "stderr",
     "output_type": "stream",
     "text": [
      " 17%|█████████████████▍                                                                                   | 360097/2080000 [14:24<1:00:45, 471.83it/s]"
     ]
    },
    {
     "name": "stdout",
     "output_type": "stream",
     "text": [
      "# writing /mnt/sdc2/data/research_data/rand_sharded_data/shard-000036.tar 10000 0.4 GB 360000\n"
     ]
    },
    {
     "name": "stderr",
     "output_type": "stream",
     "text": [
      " 18%|██████████████████▎                                                                                    | 370083/2080000 [14:48<57:14, 497.85it/s]"
     ]
    },
    {
     "name": "stdout",
     "output_type": "stream",
     "text": [
      "# writing /mnt/sdc2/data/research_data/rand_sharded_data/shard-000037.tar 10000 0.4 GB 370000\n"
     ]
    },
    {
     "name": "stderr",
     "output_type": "stream",
     "text": [
      " 18%|██████████████████▊                                                                                    | 380051/2080000 [15:13<57:51, 489.72it/s]"
     ]
    },
    {
     "name": "stdout",
     "output_type": "stream",
     "text": [
      "# writing /mnt/sdc2/data/research_data/rand_sharded_data/shard-000038.tar 10000 0.4 GB 380000\n"
     ]
    },
    {
     "name": "stderr",
     "output_type": "stream",
     "text": [
      " 19%|███████████████████▎                                                                                   | 390070/2080000 [15:33<58:53, 478.28it/s]"
     ]
    },
    {
     "name": "stdout",
     "output_type": "stream",
     "text": [
      "# writing /mnt/sdc2/data/research_data/rand_sharded_data/shard-000039.tar 10000 0.4 GB 390000\n"
     ]
    },
    {
     "name": "stderr",
     "output_type": "stream",
     "text": [
      " 19%|███████████████████▊                                                                                   | 400063/2080000 [15:57<58:20, 479.90it/s]"
     ]
    },
    {
     "name": "stdout",
     "output_type": "stream",
     "text": [
      "# writing /mnt/sdc2/data/research_data/rand_sharded_data/shard-000040.tar 10000 0.4 GB 400000\n"
     ]
    },
    {
     "name": "stderr",
     "output_type": "stream",
     "text": [
      " 20%|████████████████████▎                                                                                  | 410082/2080000 [16:21<56:14, 494.79it/s]"
     ]
    },
    {
     "name": "stdout",
     "output_type": "stream",
     "text": [
      "# writing /mnt/sdc2/data/research_data/rand_sharded_data/shard-000041.tar 10000 0.4 GB 410000\n"
     ]
    },
    {
     "name": "stderr",
     "output_type": "stream",
     "text": [
      " 20%|████████████████████▊                                                                                  | 420060/2080000 [16:41<57:53, 477.86it/s]"
     ]
    },
    {
     "name": "stdout",
     "output_type": "stream",
     "text": [
      "# writing /mnt/sdc2/data/research_data/rand_sharded_data/shard-000042.tar 10000 0.4 GB 420000\n"
     ]
    },
    {
     "name": "stderr",
     "output_type": "stream",
     "text": [
      " 21%|█████████████████████▎                                                                                 | 430095/2080000 [17:06<57:12, 480.74it/s]"
     ]
    },
    {
     "name": "stdout",
     "output_type": "stream",
     "text": [
      "# writing /mnt/sdc2/data/research_data/rand_sharded_data/shard-000043.tar 10000 0.4 GB 430000\n"
     ]
    },
    {
     "name": "stderr",
     "output_type": "stream",
     "text": [
      " 21%|█████████████████████▎                                                                               | 440073/2080000 [17:30<1:02:37, 436.43it/s]"
     ]
    },
    {
     "name": "stdout",
     "output_type": "stream",
     "text": [
      "# writing /mnt/sdc2/data/research_data/rand_sharded_data/shard-000044.tar 10000 0.4 GB 440000\n"
     ]
    },
    {
     "name": "stderr",
     "output_type": "stream",
     "text": [
      " 22%|██████████████████████▎                                                                                | 450054/2080000 [17:50<59:51, 453.87it/s]"
     ]
    },
    {
     "name": "stdout",
     "output_type": "stream",
     "text": [
      "# writing /mnt/sdc2/data/research_data/rand_sharded_data/shard-000045.tar 10000 0.4 GB 450000\n"
     ]
    },
    {
     "name": "stderr",
     "output_type": "stream",
     "text": [
      " 22%|██████████████████████▊                                                                                | 460075/2080000 [18:15<59:04, 457.02it/s]"
     ]
    },
    {
     "name": "stdout",
     "output_type": "stream",
     "text": [
      "# writing /mnt/sdc2/data/research_data/rand_sharded_data/shard-000046.tar 10000 0.4 GB 460000\n"
     ]
    },
    {
     "name": "stderr",
     "output_type": "stream",
     "text": [
      " 23%|███████████████████████▎                                                                               | 470077/2080000 [18:35<58:21, 459.84it/s]"
     ]
    },
    {
     "name": "stdout",
     "output_type": "stream",
     "text": [
      "# writing /mnt/sdc2/data/research_data/rand_sharded_data/shard-000047.tar 10000 0.4 GB 470000\n"
     ]
    },
    {
     "name": "stderr",
     "output_type": "stream",
     "text": [
      " 23%|███████████████████████▊                                                                               | 480081/2080000 [19:00<55:32, 480.03it/s]"
     ]
    },
    {
     "name": "stdout",
     "output_type": "stream",
     "text": [
      "# writing /mnt/sdc2/data/research_data/rand_sharded_data/shard-000048.tar 10000 0.4 GB 480000\n"
     ]
    },
    {
     "name": "stderr",
     "output_type": "stream",
     "text": [
      " 24%|████████████████████████▎                                                                              | 490066/2080000 [19:24<55:17, 479.23it/s]"
     ]
    },
    {
     "name": "stdout",
     "output_type": "stream",
     "text": [
      "# writing /mnt/sdc2/data/research_data/rand_sharded_data/shard-000049.tar 10000 0.4 GB 490000\n"
     ]
    },
    {
     "name": "stderr",
     "output_type": "stream",
     "text": [
      " 24%|████████████████████████▊                                                                              | 500065/2080000 [19:44<57:25, 458.49it/s]"
     ]
    },
    {
     "name": "stdout",
     "output_type": "stream",
     "text": [
      "# writing /mnt/sdc2/data/research_data/rand_sharded_data/shard-000050.tar 10000 0.4 GB 500000\n"
     ]
    },
    {
     "name": "stderr",
     "output_type": "stream",
     "text": [
      " 25%|█████████████████████████▎                                                                             | 510052/2080000 [20:08<54:58, 475.90it/s]"
     ]
    },
    {
     "name": "stdout",
     "output_type": "stream",
     "text": [
      "# writing /mnt/sdc2/data/research_data/rand_sharded_data/shard-000051.tar 10000 0.4 GB 510000\n"
     ]
    },
    {
     "name": "stderr",
     "output_type": "stream",
     "text": [
      " 25%|█████████████████████████▊                                                                             | 520070/2080000 [20:33<54:01, 481.18it/s]"
     ]
    },
    {
     "name": "stdout",
     "output_type": "stream",
     "text": [
      "# writing /mnt/sdc2/data/research_data/rand_sharded_data/shard-000052.tar 10000 0.4 GB 520000\n"
     ]
    },
    {
     "name": "stderr",
     "output_type": "stream",
     "text": [
      " 25%|██████████████████████████▏                                                                            | 530054/2080000 [20:53<51:36, 500.48it/s]"
     ]
    },
    {
     "name": "stdout",
     "output_type": "stream",
     "text": [
      "# writing /mnt/sdc2/data/research_data/rand_sharded_data/shard-000053.tar 10000 0.4 GB 530000\n"
     ]
    },
    {
     "name": "stderr",
     "output_type": "stream",
     "text": [
      " 26%|██████████████████████████▋                                                                            | 540061/2080000 [21:18<52:20, 490.41it/s]"
     ]
    },
    {
     "name": "stdout",
     "output_type": "stream",
     "text": [
      "# writing /mnt/sdc2/data/research_data/rand_sharded_data/shard-000054.tar 10000 0.4 GB 540000\n"
     ]
    },
    {
     "name": "stderr",
     "output_type": "stream",
     "text": [
      " 26%|███████████████████████████▏                                                                           | 550087/2080000 [21:41<56:22, 452.26it/s]"
     ]
    },
    {
     "name": "stdout",
     "output_type": "stream",
     "text": [
      "# writing /mnt/sdc2/data/research_data/rand_sharded_data/shard-000055.tar 10000 0.4 GB 550000\n"
     ]
    },
    {
     "name": "stderr",
     "output_type": "stream",
     "text": [
      " 27%|███████████████████████████▋                                                                           | 560092/2080000 [22:02<53:21, 474.80it/s]"
     ]
    },
    {
     "name": "stdout",
     "output_type": "stream",
     "text": [
      "# writing /mnt/sdc2/data/research_data/rand_sharded_data/shard-000056.tar 10000 0.4 GB 560000\n"
     ]
    },
    {
     "name": "stderr",
     "output_type": "stream",
     "text": [
      " 27%|████████████████████████████▏                                                                          | 570082/2080000 [22:26<52:28, 479.58it/s]"
     ]
    },
    {
     "name": "stdout",
     "output_type": "stream",
     "text": [
      "# writing /mnt/sdc2/data/research_data/rand_sharded_data/shard-000057.tar 10000 0.4 GB 570000\n"
     ]
    },
    {
     "name": "stderr",
     "output_type": "stream",
     "text": [
      " 28%|████████████████████████████▋                                                                          | 580095/2080000 [22:46<50:01, 499.72it/s]"
     ]
    },
    {
     "name": "stdout",
     "output_type": "stream",
     "text": [
      "# writing /mnt/sdc2/data/research_data/rand_sharded_data/shard-000058.tar 10000 0.4 GB 580000\n"
     ]
    },
    {
     "name": "stderr",
     "output_type": "stream",
     "text": [
      " 28%|█████████████████████████████▏                                                                         | 590067/2080000 [23:11<53:09, 467.10it/s]"
     ]
    },
    {
     "name": "stdout",
     "output_type": "stream",
     "text": [
      "# writing /mnt/sdc2/data/research_data/rand_sharded_data/shard-000059.tar 10000 0.4 GB 590000\n"
     ]
    },
    {
     "name": "stderr",
     "output_type": "stream",
     "text": [
      " 29%|█████████████████████████████▋                                                                         | 600061/2080000 [23:36<50:04, 492.65it/s]"
     ]
    },
    {
     "name": "stdout",
     "output_type": "stream",
     "text": [
      "# writing /mnt/sdc2/data/research_data/rand_sharded_data/shard-000060.tar 10000 0.4 GB 600000\n"
     ]
    },
    {
     "name": "stderr",
     "output_type": "stream",
     "text": [
      " 29%|██████████████████████████████▏                                                                        | 610048/2080000 [23:56<53:49, 455.17it/s]"
     ]
    },
    {
     "name": "stdout",
     "output_type": "stream",
     "text": [
      "# writing /mnt/sdc2/data/research_data/rand_sharded_data/shard-000061.tar 10000 0.4 GB 610000\n"
     ]
    },
    {
     "name": "stderr",
     "output_type": "stream",
     "text": [
      " 30%|██████████████████████████████▋                                                                        | 620070/2080000 [24:20<50:43, 479.73it/s]"
     ]
    },
    {
     "name": "stdout",
     "output_type": "stream",
     "text": [
      "# writing /mnt/sdc2/data/research_data/rand_sharded_data/shard-000062.tar 10000 0.4 GB 620000\n"
     ]
    },
    {
     "name": "stderr",
     "output_type": "stream",
     "text": [
      " 30%|███████████████████████████████▏                                                                       | 630057/2080000 [24:45<51:44, 467.09it/s]"
     ]
    },
    {
     "name": "stdout",
     "output_type": "stream",
     "text": [
      "# writing /mnt/sdc2/data/research_data/rand_sharded_data/shard-000063.tar 10000 0.4 GB 630000\n"
     ]
    },
    {
     "name": "stderr",
     "output_type": "stream",
     "text": [
      " 31%|███████████████████████████████▋                                                                       | 640088/2080000 [25:05<48:40, 493.09it/s]"
     ]
    },
    {
     "name": "stdout",
     "output_type": "stream",
     "text": [
      "# writing /mnt/sdc2/data/research_data/rand_sharded_data/shard-000064.tar 10000 0.4 GB 640000\n"
     ]
    },
    {
     "name": "stderr",
     "output_type": "stream",
     "text": [
      " 31%|████████████████████████████████▏                                                                      | 650079/2080000 [25:29<52:26, 454.49it/s]"
     ]
    },
    {
     "name": "stdout",
     "output_type": "stream",
     "text": [
      "# writing /mnt/sdc2/data/research_data/rand_sharded_data/shard-000065.tar 10000 0.4 GB 650000\n"
     ]
    },
    {
     "name": "stderr",
     "output_type": "stream",
     "text": [
      " 32%|████████████████████████████████▋                                                                      | 660075/2080000 [25:54<48:50, 484.48it/s]"
     ]
    },
    {
     "name": "stdout",
     "output_type": "stream",
     "text": [
      "# writing /mnt/sdc2/data/research_data/rand_sharded_data/shard-000066.tar 10000 0.4 GB 660000\n"
     ]
    },
    {
     "name": "stderr",
     "output_type": "stream",
     "text": [
      " 32%|█████████████████████████████████▏                                                                     | 670061/2080000 [26:14<50:51, 461.98it/s]"
     ]
    },
    {
     "name": "stdout",
     "output_type": "stream",
     "text": [
      "# writing /mnt/sdc2/data/research_data/rand_sharded_data/shard-000067.tar 10000 0.4 GB 670000\n"
     ]
    },
    {
     "name": "stderr",
     "output_type": "stream",
     "text": [
      " 33%|█████████████████████████████████▋                                                                     | 680086/2080000 [26:39<47:49, 487.94it/s]"
     ]
    },
    {
     "name": "stdout",
     "output_type": "stream",
     "text": [
      "# writing /mnt/sdc2/data/research_data/rand_sharded_data/shard-000068.tar 10000 0.4 GB 680000\n"
     ]
    },
    {
     "name": "stderr",
     "output_type": "stream",
     "text": [
      " 33%|██████████████████████████████████▏                                                                    | 690084/2080000 [27:04<49:22, 469.24it/s]"
     ]
    },
    {
     "name": "stdout",
     "output_type": "stream",
     "text": [
      "# writing /mnt/sdc2/data/research_data/rand_sharded_data/shard-000069.tar 10000 0.4 GB 690000\n"
     ]
    },
    {
     "name": "stderr",
     "output_type": "stream",
     "text": [
      " 34%|██████████████████████████████████▋                                                                    | 700069/2080000 [27:24<48:53, 470.40it/s]"
     ]
    },
    {
     "name": "stdout",
     "output_type": "stream",
     "text": [
      "# writing /mnt/sdc2/data/research_data/rand_sharded_data/shard-000070.tar 10000 0.4 GB 700000\n"
     ]
    },
    {
     "name": "stderr",
     "output_type": "stream",
     "text": [
      " 34%|███████████████████████████████████▏                                                                   | 710049/2080000 [27:49<50:33, 451.66it/s]"
     ]
    },
    {
     "name": "stdout",
     "output_type": "stream",
     "text": [
      "# writing /mnt/sdc2/data/research_data/rand_sharded_data/shard-000071.tar 10000 0.4 GB 710000\n"
     ]
    },
    {
     "name": "stderr",
     "output_type": "stream",
     "text": [
      " 35%|███████████████████████████████████▋                                                                   | 720081/2080000 [28:13<46:04, 491.89it/s]"
     ]
    },
    {
     "name": "stdout",
     "output_type": "stream",
     "text": [
      "# writing /mnt/sdc2/data/research_data/rand_sharded_data/shard-000072.tar 10000 0.4 GB 720000\n"
     ]
    },
    {
     "name": "stderr",
     "output_type": "stream",
     "text": [
      " 35%|████████████████████████████████████▏                                                                  | 730090/2080000 [28:34<47:14, 476.18it/s]"
     ]
    },
    {
     "name": "stdout",
     "output_type": "stream",
     "text": [
      "# writing /mnt/sdc2/data/research_data/rand_sharded_data/shard-000073.tar 10000 0.4 GB 730000\n"
     ]
    },
    {
     "name": "stderr",
     "output_type": "stream",
     "text": [
      " 36%|████████████████████████████████████▋                                                                  | 740066/2080000 [28:59<47:14, 472.74it/s]"
     ]
    },
    {
     "name": "stdout",
     "output_type": "stream",
     "text": [
      "# writing /mnt/sdc2/data/research_data/rand_sharded_data/shard-000074.tar 10000 0.4 GB 740000\n"
     ]
    },
    {
     "name": "stderr",
     "output_type": "stream",
     "text": [
      " 36%|█████████████████████████████████████▏                                                                 | 750091/2080000 [29:23<44:46, 494.98it/s]"
     ]
    },
    {
     "name": "stdout",
     "output_type": "stream",
     "text": [
      "# writing /mnt/sdc2/data/research_data/rand_sharded_data/shard-000075.tar 10000 0.4 GB 750000\n"
     ]
    },
    {
     "name": "stderr",
     "output_type": "stream",
     "text": [
      " 37%|█████████████████████████████████████▋                                                                 | 760090/2080000 [29:44<43:34, 504.93it/s]"
     ]
    },
    {
     "name": "stdout",
     "output_type": "stream",
     "text": [
      "# writing /mnt/sdc2/data/research_data/rand_sharded_data/shard-000076.tar 10000 0.4 GB 760000\n"
     ]
    },
    {
     "name": "stderr",
     "output_type": "stream",
     "text": [
      " 37%|██████████████████████████████████████▏                                                                | 770083/2080000 [30:08<46:32, 469.05it/s]"
     ]
    },
    {
     "name": "stdout",
     "output_type": "stream",
     "text": [
      "# writing /mnt/sdc2/data/research_data/rand_sharded_data/shard-000077.tar 10000 0.4 GB 770000\n"
     ]
    },
    {
     "name": "stderr",
     "output_type": "stream",
     "text": [
      " 38%|█████████████████████████████████████▉                                                               | 780076/2080000 [30:33<1:26:10, 251.41it/s]"
     ]
    },
    {
     "name": "stdout",
     "output_type": "stream",
     "text": [
      "# writing /mnt/sdc2/data/research_data/rand_sharded_data/shard-000078.tar 10000 0.4 GB 780000\n"
     ]
    },
    {
     "name": "stderr",
     "output_type": "stream",
     "text": [
      " 38%|███████████████████████████████████████▏                                                               | 790100/2080000 [30:53<45:05, 476.83it/s]"
     ]
    },
    {
     "name": "stdout",
     "output_type": "stream",
     "text": [
      "# writing /mnt/sdc2/data/research_data/rand_sharded_data/shard-000079.tar 10000 0.4 GB 790000\n"
     ]
    },
    {
     "name": "stderr",
     "output_type": "stream",
     "text": [
      " 38%|███████████████████████████████████████▌                                                               | 800061/2080000 [31:18<48:07, 443.32it/s]"
     ]
    },
    {
     "name": "stdout",
     "output_type": "stream",
     "text": [
      "# writing /mnt/sdc2/data/research_data/rand_sharded_data/shard-000080.tar 10000 0.4 GB 800000\n"
     ]
    },
    {
     "name": "stderr",
     "output_type": "stream",
     "text": [
      " 39%|████████████████████████████████████████                                                               | 810069/2080000 [31:39<46:56, 450.96it/s]"
     ]
    },
    {
     "name": "stdout",
     "output_type": "stream",
     "text": [
      "# writing /mnt/sdc2/data/research_data/rand_sharded_data/shard-000081.tar 10000 0.4 GB 810000\n"
     ]
    },
    {
     "name": "stderr",
     "output_type": "stream",
     "text": [
      " 39%|████████████████████████████████████████▌                                                              | 820089/2080000 [32:03<45:57, 456.92it/s]"
     ]
    },
    {
     "name": "stdout",
     "output_type": "stream",
     "text": [
      "# writing /mnt/sdc2/data/research_data/rand_sharded_data/shard-000082.tar 10000 0.4 GB 820000\n"
     ]
    },
    {
     "name": "stderr",
     "output_type": "stream",
     "text": [
      " 40%|█████████████████████████████████████████                                                              | 830059/2080000 [32:28<44:33, 467.54it/s]"
     ]
    },
    {
     "name": "stdout",
     "output_type": "stream",
     "text": [
      "# writing /mnt/sdc2/data/research_data/rand_sharded_data/shard-000083.tar 10000 0.4 GB 830000\n"
     ]
    },
    {
     "name": "stderr",
     "output_type": "stream",
     "text": [
      " 40%|█████████████████████████████████████████▌                                                             | 840094/2080000 [32:48<42:34, 485.40it/s]"
     ]
    },
    {
     "name": "stdout",
     "output_type": "stream",
     "text": [
      "# writing /mnt/sdc2/data/research_data/rand_sharded_data/shard-000084.tar 10000 0.4 GB 840000\n"
     ]
    },
    {
     "name": "stderr",
     "output_type": "stream",
     "text": [
      " 41%|██████████████████████████████████████████                                                             | 850083/2080000 [33:13<43:09, 475.04it/s]"
     ]
    },
    {
     "name": "stdout",
     "output_type": "stream",
     "text": [
      "# writing /mnt/sdc2/data/research_data/rand_sharded_data/shard-000085.tar 10000 0.4 GB 850000\n"
     ]
    },
    {
     "name": "stderr",
     "output_type": "stream",
     "text": [
      " 41%|██████████████████████████████████████████▌                                                            | 860051/2080000 [33:37<45:14, 449.48it/s]"
     ]
    },
    {
     "name": "stdout",
     "output_type": "stream",
     "text": [
      "# writing /mnt/sdc2/data/research_data/rand_sharded_data/shard-000086.tar 10000 0.4 GB 860000\n"
     ]
    },
    {
     "name": "stderr",
     "output_type": "stream",
     "text": [
      " 42%|███████████████████████████████████████████                                                            | 870091/2080000 [33:58<42:59, 469.00it/s]"
     ]
    },
    {
     "name": "stdout",
     "output_type": "stream",
     "text": [
      "# writing /mnt/sdc2/data/research_data/rand_sharded_data/shard-000087.tar 10000 0.4 GB 870000\n"
     ]
    },
    {
     "name": "stderr",
     "output_type": "stream",
     "text": [
      " 42%|███████████████████████████████████████████▌                                                           | 880060/2080000 [34:23<42:46, 467.56it/s]"
     ]
    },
    {
     "name": "stdout",
     "output_type": "stream",
     "text": [
      "# writing /mnt/sdc2/data/research_data/rand_sharded_data/shard-000088.tar 10000 0.4 GB 880000\n"
     ]
    },
    {
     "name": "stderr",
     "output_type": "stream",
     "text": [
      " 43%|████████████████████████████████████████████                                                           | 890084/2080000 [34:47<43:27, 456.32it/s]"
     ]
    },
    {
     "name": "stdout",
     "output_type": "stream",
     "text": [
      "# writing /mnt/sdc2/data/research_data/rand_sharded_data/shard-000089.tar 10000 0.4 GB 890000\n"
     ]
    },
    {
     "name": "stderr",
     "output_type": "stream",
     "text": [
      " 43%|████████████████████████████████████████████▌                                                          | 900053/2080000 [35:08<43:38, 450.68it/s]"
     ]
    },
    {
     "name": "stdout",
     "output_type": "stream",
     "text": [
      "# writing /mnt/sdc2/data/research_data/rand_sharded_data/shard-000090.tar 10000 0.4 GB 900000\n"
     ]
    },
    {
     "name": "stderr",
     "output_type": "stream",
     "text": [
      " 44%|█████████████████████████████████████████████                                                          | 910086/2080000 [35:32<41:05, 474.56it/s]"
     ]
    },
    {
     "name": "stdout",
     "output_type": "stream",
     "text": [
      "# writing /mnt/sdc2/data/research_data/rand_sharded_data/shard-000091.tar 10000 0.4 GB 910000\n"
     ]
    },
    {
     "name": "stderr",
     "output_type": "stream",
     "text": [
      " 44%|█████████████████████████████████████████████▌                                                         | 920063/2080000 [35:57<40:50, 473.35it/s]"
     ]
    },
    {
     "name": "stdout",
     "output_type": "stream",
     "text": [
      "# writing /mnt/sdc2/data/research_data/rand_sharded_data/shard-000092.tar 10000 0.4 GB 920000\n"
     ]
    },
    {
     "name": "stderr",
     "output_type": "stream",
     "text": [
      " 45%|██████████████████████████████████████████████                                                         | 930075/2080000 [36:17<41:20, 463.57it/s]"
     ]
    },
    {
     "name": "stdout",
     "output_type": "stream",
     "text": [
      "# writing /mnt/sdc2/data/research_data/rand_sharded_data/shard-000093.tar 10000 0.4 GB 930000\n"
     ]
    },
    {
     "name": "stderr",
     "output_type": "stream",
     "text": [
      " 45%|██████████████████████████████████████████████▌                                                        | 940049/2080000 [36:42<40:43, 466.57it/s]"
     ]
    },
    {
     "name": "stdout",
     "output_type": "stream",
     "text": [
      "# writing /mnt/sdc2/data/research_data/rand_sharded_data/shard-000094.tar 10000 0.4 GB 940000\n"
     ]
    },
    {
     "name": "stderr",
     "output_type": "stream",
     "text": [
      " 46%|███████████████████████████████████████████████                                                        | 950073/2080000 [37:07<41:02, 458.88it/s]"
     ]
    },
    {
     "name": "stdout",
     "output_type": "stream",
     "text": [
      "# writing /mnt/sdc2/data/research_data/rand_sharded_data/shard-000095.tar 10000 0.4 GB 950000\n"
     ]
    },
    {
     "name": "stderr",
     "output_type": "stream",
     "text": [
      " 46%|███████████████████████████████████████████████▌                                                       | 960078/2080000 [37:27<41:15, 452.40it/s]"
     ]
    },
    {
     "name": "stdout",
     "output_type": "stream",
     "text": [
      "# writing /mnt/sdc2/data/research_data/rand_sharded_data/shard-000096.tar 10000 0.4 GB 960000\n"
     ]
    },
    {
     "name": "stderr",
     "output_type": "stream",
     "text": [
      " 47%|████████████████████████████████████████████████                                                       | 970091/2080000 [37:52<39:23, 469.60it/s]"
     ]
    },
    {
     "name": "stdout",
     "output_type": "stream",
     "text": [
      "# writing /mnt/sdc2/data/research_data/rand_sharded_data/shard-000097.tar 10000 0.4 GB 970000\n"
     ]
    },
    {
     "name": "stderr",
     "output_type": "stream",
     "text": [
      " 47%|████████████████████████████████████████████████▌                                                      | 980091/2080000 [38:17<37:10, 493.17it/s]"
     ]
    },
    {
     "name": "stdout",
     "output_type": "stream",
     "text": [
      "# writing /mnt/sdc2/data/research_data/rand_sharded_data/shard-000098.tar 10000 0.4 GB 980000\n"
     ]
    },
    {
     "name": "stderr",
     "output_type": "stream",
     "text": [
      " 48%|█████████████████████████████████████████████████                                                      | 990060/2080000 [38:37<35:48, 507.32it/s]"
     ]
    },
    {
     "name": "stdout",
     "output_type": "stream",
     "text": [
      "# writing /mnt/sdc2/data/research_data/rand_sharded_data/shard-000099.tar 10000 0.4 GB 990000\n"
     ]
    },
    {
     "name": "stderr",
     "output_type": "stream",
     "text": [
      " 48%|█████████████████████████████████████████████████                                                     | 1000092/2080000 [39:02<38:26, 468.16it/s]"
     ]
    },
    {
     "name": "stdout",
     "output_type": "stream",
     "text": [
      "# writing /mnt/sdc2/data/research_data/rand_sharded_data/shard-000100.tar 10000 0.4 GB 1000000\n"
     ]
    },
    {
     "name": "stderr",
     "output_type": "stream",
     "text": [
      " 49%|█████████████████████████████████████████████████▌                                                    | 1010083/2080000 [39:26<36:37, 486.85it/s]"
     ]
    },
    {
     "name": "stdout",
     "output_type": "stream",
     "text": [
      "# writing /mnt/sdc2/data/research_data/rand_sharded_data/shard-000101.tar 10000 0.4 GB 1010000\n"
     ]
    },
    {
     "name": "stderr",
     "output_type": "stream",
     "text": [
      " 49%|██████████████████████████████████████████████████                                                    | 1020093/2080000 [39:47<35:53, 492.11it/s]"
     ]
    },
    {
     "name": "stdout",
     "output_type": "stream",
     "text": [
      "# writing /mnt/sdc2/data/research_data/rand_sharded_data/shard-000102.tar 10000 0.4 GB 1020000\n"
     ]
    },
    {
     "name": "stderr",
     "output_type": "stream",
     "text": [
      " 50%|██████████████████████████████████████████████████▌                                                   | 1030087/2080000 [40:12<37:32, 466.07it/s]"
     ]
    },
    {
     "name": "stdout",
     "output_type": "stream",
     "text": [
      "# writing /mnt/sdc2/data/research_data/rand_sharded_data/shard-000103.tar 10000 0.4 GB 1030000\n"
     ]
    },
    {
     "name": "stderr",
     "output_type": "stream",
     "text": [
      " 50%|███████████████████████████████████████████████████                                                   | 1040092/2080000 [40:36<39:46, 435.72it/s]"
     ]
    },
    {
     "name": "stdout",
     "output_type": "stream",
     "text": [
      "# writing /mnt/sdc2/data/research_data/rand_sharded_data/shard-000104.tar 10000 0.4 GB 1040000\n"
     ]
    },
    {
     "name": "stderr",
     "output_type": "stream",
     "text": [
      " 50%|███████████████████████████████████████████████████▍                                                  | 1050081/2080000 [40:57<36:29, 470.41it/s]"
     ]
    },
    {
     "name": "stdout",
     "output_type": "stream",
     "text": [
      "# writing /mnt/sdc2/data/research_data/rand_sharded_data/shard-000105.tar 10000 0.4 GB 1050000\n"
     ]
    },
    {
     "name": "stderr",
     "output_type": "stream",
     "text": [
      " 51%|███████████████████████████████████████████████████▉                                                  | 1060051/2080000 [41:21<36:47, 462.14it/s]"
     ]
    },
    {
     "name": "stdout",
     "output_type": "stream",
     "text": [
      "# writing /mnt/sdc2/data/research_data/rand_sharded_data/shard-000106.tar 10000 0.4 GB 1060000\n"
     ]
    },
    {
     "name": "stderr",
     "output_type": "stream",
     "text": [
      " 51%|███████████████████████████████████████████████████▉                                                 | 1070008/2080000 [41:45<4:34:07, 61.41it/s]"
     ]
    },
    {
     "name": "stdout",
     "output_type": "stream",
     "text": [
      "# writing /mnt/sdc2/data/research_data/rand_sharded_data/shard-000107.tar 10000 0.4 GB 1070000\n"
     ]
    },
    {
     "name": "stderr",
     "output_type": "stream",
     "text": [
      " 52%|████████████████████████████████████████████████████▉                                                 | 1080097/2080000 [42:07<34:54, 477.47it/s]"
     ]
    },
    {
     "name": "stdout",
     "output_type": "stream",
     "text": [
      "# writing /mnt/sdc2/data/research_data/rand_sharded_data/shard-000108.tar 10000 0.4 GB 1080000\n"
     ]
    },
    {
     "name": "stderr",
     "output_type": "stream",
     "text": [
      " 52%|█████████████████████████████████████████████████████▍                                                | 1090077/2080000 [42:32<35:10, 469.02it/s]"
     ]
    },
    {
     "name": "stdout",
     "output_type": "stream",
     "text": [
      "# writing /mnt/sdc2/data/research_data/rand_sharded_data/shard-000109.tar 10000 0.4 GB 1090000\n"
     ]
    },
    {
     "name": "stderr",
     "output_type": "stream",
     "text": [
      " 53%|█████████████████████████████████████████████████████▉                                                | 1100091/2080000 [42:52<34:45, 469.90it/s]"
     ]
    },
    {
     "name": "stdout",
     "output_type": "stream",
     "text": [
      "# writing /mnt/sdc2/data/research_data/rand_sharded_data/shard-000110.tar 10000 0.4 GB 1100000\n"
     ]
    },
    {
     "name": "stderr",
     "output_type": "stream",
     "text": [
      " 53%|██████████████████████████████████████████████████████▍                                               | 1110063/2080000 [43:17<33:10, 487.33it/s]"
     ]
    },
    {
     "name": "stdout",
     "output_type": "stream",
     "text": [
      "# writing /mnt/sdc2/data/research_data/rand_sharded_data/shard-000111.tar 10000 0.4 GB 1110000\n"
     ]
    },
    {
     "name": "stderr",
     "output_type": "stream",
     "text": [
      " 54%|██████████████████████████████████████████████████████▉                                               | 1120084/2080000 [43:42<30:57, 516.68it/s]"
     ]
    },
    {
     "name": "stdout",
     "output_type": "stream",
     "text": [
      "# writing /mnt/sdc2/data/research_data/rand_sharded_data/shard-000112.tar 10000 0.4 GB 1120000\n"
     ]
    },
    {
     "name": "stderr",
     "output_type": "stream",
     "text": [
      " 54%|███████████████████████████████████████████████████████▍                                              | 1130057/2080000 [44:02<32:28, 487.41it/s]"
     ]
    },
    {
     "name": "stdout",
     "output_type": "stream",
     "text": [
      "# writing /mnt/sdc2/data/research_data/rand_sharded_data/shard-000113.tar 10000 0.4 GB 1130000\n"
     ]
    },
    {
     "name": "stderr",
     "output_type": "stream",
     "text": [
      " 55%|███████████████████████████████████████████████████████▉                                              | 1140089/2080000 [44:27<33:37, 465.96it/s]"
     ]
    },
    {
     "name": "stdout",
     "output_type": "stream",
     "text": [
      "# writing /mnt/sdc2/data/research_data/rand_sharded_data/shard-000114.tar 10000 0.4 GB 1140000\n"
     ]
    },
    {
     "name": "stderr",
     "output_type": "stream",
     "text": [
      " 55%|████████████████████████████████████████████████████████▍                                             | 1150089/2080000 [44:52<32:53, 471.18it/s]"
     ]
    },
    {
     "name": "stdout",
     "output_type": "stream",
     "text": [
      "# writing /mnt/sdc2/data/research_data/rand_sharded_data/shard-000115.tar 10000 0.4 GB 1150000\n"
     ]
    },
    {
     "name": "stderr",
     "output_type": "stream",
     "text": [
      " 56%|████████████████████████████████████████████████████████▉                                             | 1160055/2080000 [45:12<31:24, 488.24it/s]"
     ]
    },
    {
     "name": "stdout",
     "output_type": "stream",
     "text": [
      "# writing /mnt/sdc2/data/research_data/rand_sharded_data/shard-000116.tar 10000 0.4 GB 1160000\n"
     ]
    },
    {
     "name": "stderr",
     "output_type": "stream",
     "text": [
      " 56%|█████████████████████████████████████████████████████████▍                                            | 1170063/2080000 [45:37<31:51, 475.94it/s]"
     ]
    },
    {
     "name": "stdout",
     "output_type": "stream",
     "text": [
      "# writing /mnt/sdc2/data/research_data/rand_sharded_data/shard-000117.tar 10000 0.4 GB 1170000\n"
     ]
    },
    {
     "name": "stderr",
     "output_type": "stream",
     "text": [
      " 57%|█████████████████████████████████████████████████████████▊                                            | 1180093/2080000 [46:02<30:24, 493.14it/s]"
     ]
    },
    {
     "name": "stdout",
     "output_type": "stream",
     "text": [
      "# writing /mnt/sdc2/data/research_data/rand_sharded_data/shard-000118.tar 10000 0.4 GB 1180000\n"
     ]
    },
    {
     "name": "stderr",
     "output_type": "stream",
     "text": [
      " 57%|██████████████████████████████████████████████████████████▎                                           | 1190071/2080000 [46:22<30:59, 478.56it/s]"
     ]
    },
    {
     "name": "stdout",
     "output_type": "stream",
     "text": [
      "# writing /mnt/sdc2/data/research_data/rand_sharded_data/shard-000119.tar 10000 0.4 GB 1190000\n"
     ]
    },
    {
     "name": "stderr",
     "output_type": "stream",
     "text": [
      " 58%|██████████████████████████████████████████████████████████▊                                           | 1200056/2080000 [46:47<31:49, 460.94it/s]"
     ]
    },
    {
     "name": "stdout",
     "output_type": "stream",
     "text": [
      "# writing /mnt/sdc2/data/research_data/rand_sharded_data/shard-000120.tar 10000 0.4 GB 1200000\n"
     ]
    },
    {
     "name": "stderr",
     "output_type": "stream",
     "text": [
      " 58%|███████████████████████████████████████████████████████████▎                                          | 1210057/2080000 [47:11<29:54, 484.86it/s]"
     ]
    },
    {
     "name": "stdout",
     "output_type": "stream",
     "text": [
      "# writing /mnt/sdc2/data/research_data/rand_sharded_data/shard-000121.tar 10000 0.4 GB 1210000\n"
     ]
    },
    {
     "name": "stderr",
     "output_type": "stream",
     "text": [
      " 59%|███████████████████████████████████████████████████████████▊                                          | 1220102/2080000 [47:32<28:52, 496.27it/s]"
     ]
    },
    {
     "name": "stdout",
     "output_type": "stream",
     "text": [
      "# writing /mnt/sdc2/data/research_data/rand_sharded_data/shard-000122.tar 10000 0.4 GB 1220000\n"
     ]
    },
    {
     "name": "stderr",
     "output_type": "stream",
     "text": [
      " 59%|████████████████████████████████████████████████████████████▎                                         | 1230085/2080000 [47:56<29:34, 478.88it/s]"
     ]
    },
    {
     "name": "stdout",
     "output_type": "stream",
     "text": [
      "# writing /mnt/sdc2/data/research_data/rand_sharded_data/shard-000123.tar 10000 0.4 GB 1230000\n"
     ]
    },
    {
     "name": "stderr",
     "output_type": "stream",
     "text": [
      " 60%|████████████████████████████████████████████████████████████▊                                         | 1240058/2080000 [48:21<28:28, 491.54it/s]"
     ]
    },
    {
     "name": "stdout",
     "output_type": "stream",
     "text": [
      "# writing /mnt/sdc2/data/research_data/rand_sharded_data/shard-000124.tar 10000 0.4 GB 1240000\n"
     ]
    },
    {
     "name": "stderr",
     "output_type": "stream",
     "text": [
      " 60%|█████████████████████████████████████████████████████████████▎                                        | 1250061/2080000 [48:42<29:36, 467.17it/s]"
     ]
    },
    {
     "name": "stdout",
     "output_type": "stream",
     "text": [
      "# writing /mnt/sdc2/data/research_data/rand_sharded_data/shard-000125.tar 10000 0.4 GB 1250000\n"
     ]
    },
    {
     "name": "stderr",
     "output_type": "stream",
     "text": [
      " 61%|█████████████████████████████████████████████████████████████▊                                        | 1260072/2080000 [49:07<30:37, 446.10it/s]"
     ]
    },
    {
     "name": "stdout",
     "output_type": "stream",
     "text": [
      "# writing /mnt/sdc2/data/research_data/rand_sharded_data/shard-000126.tar 10000 0.4 GB 1260000\n"
     ]
    },
    {
     "name": "stderr",
     "output_type": "stream",
     "text": [
      " 61%|██████████████████████████████████████████████████████████████▎                                       | 1270058/2080000 [49:32<27:58, 482.45it/s]"
     ]
    },
    {
     "name": "stdout",
     "output_type": "stream",
     "text": [
      "# writing /mnt/sdc2/data/research_data/rand_sharded_data/shard-000127.tar 10000 0.4 GB 1270000\n"
     ]
    },
    {
     "name": "stderr",
     "output_type": "stream",
     "text": [
      " 62%|██████████████████████████████████████████████████████████████▊                                       | 1280091/2080000 [49:52<28:02, 475.54it/s]"
     ]
    },
    {
     "name": "stdout",
     "output_type": "stream",
     "text": [
      "# writing /mnt/sdc2/data/research_data/rand_sharded_data/shard-000128.tar 10000 0.4 GB 1280000\n"
     ]
    },
    {
     "name": "stderr",
     "output_type": "stream",
     "text": [
      " 62%|███████████████████████████████████████████████████████████████▎                                      | 1290081/2080000 [50:17<25:32, 515.41it/s]"
     ]
    },
    {
     "name": "stdout",
     "output_type": "stream",
     "text": [
      "# writing /mnt/sdc2/data/research_data/rand_sharded_data/shard-000129.tar 10000 0.4 GB 1290000\n"
     ]
    },
    {
     "name": "stderr",
     "output_type": "stream",
     "text": [
      " 63%|███████████████████████████████████████████████████████████████▊                                      | 1300099/2080000 [50:42<26:36, 488.42it/s]"
     ]
    },
    {
     "name": "stdout",
     "output_type": "stream",
     "text": [
      "# writing /mnt/sdc2/data/research_data/rand_sharded_data/shard-000130.tar 10000 0.4 GB 1300000\n"
     ]
    },
    {
     "name": "stderr",
     "output_type": "stream",
     "text": [
      " 63%|████████████████████████████████████████████████████████████████▏                                     | 1310087/2080000 [51:02<25:58, 494.00it/s]"
     ]
    },
    {
     "name": "stdout",
     "output_type": "stream",
     "text": [
      "# writing /mnt/sdc2/data/research_data/rand_sharded_data/shard-000131.tar 10000 0.4 GB 1310000\n"
     ]
    },
    {
     "name": "stderr",
     "output_type": "stream",
     "text": [
      " 63%|████████████████████████████████████████████████████████████████▋                                     | 1320068/2080000 [51:27<26:37, 475.66it/s]"
     ]
    },
    {
     "name": "stdout",
     "output_type": "stream",
     "text": [
      "# writing /mnt/sdc2/data/research_data/rand_sharded_data/shard-000132.tar 10000 0.4 GB 1320000\n"
     ]
    },
    {
     "name": "stderr",
     "output_type": "stream",
     "text": [
      " 64%|█████████████████████████████████████████████████████████████████▏                                    | 1330090/2080000 [51:51<25:01, 499.53it/s]"
     ]
    },
    {
     "name": "stdout",
     "output_type": "stream",
     "text": [
      "# writing /mnt/sdc2/data/research_data/rand_sharded_data/shard-000133.tar 10000 0.4 GB 1330000\n"
     ]
    },
    {
     "name": "stderr",
     "output_type": "stream",
     "text": [
      " 64%|█████████████████████████████████████████████████████████████████▋                                    | 1340075/2080000 [52:12<26:26, 466.25it/s]"
     ]
    },
    {
     "name": "stdout",
     "output_type": "stream",
     "text": [
      "# writing /mnt/sdc2/data/research_data/rand_sharded_data/shard-000134.tar 10000 0.4 GB 1340000\n"
     ]
    },
    {
     "name": "stderr",
     "output_type": "stream",
     "text": [
      " 65%|██████████████████████████████████████████████████████████████████▏                                   | 1350093/2080000 [52:36<25:02, 485.85it/s]"
     ]
    },
    {
     "name": "stdout",
     "output_type": "stream",
     "text": [
      "# writing /mnt/sdc2/data/research_data/rand_sharded_data/shard-000135.tar 10000 0.4 GB 1350000\n"
     ]
    },
    {
     "name": "stderr",
     "output_type": "stream",
     "text": [
      " 65%|██████████████████████████████████████████████████████████████████▋                                   | 1360077/2080000 [53:01<28:37, 419.08it/s]"
     ]
    },
    {
     "name": "stdout",
     "output_type": "stream",
     "text": [
      "# writing /mnt/sdc2/data/research_data/rand_sharded_data/shard-000136.tar 10000 0.4 GB 1360000\n"
     ]
    },
    {
     "name": "stderr",
     "output_type": "stream",
     "text": [
      " 66%|███████████████████████████████████████████████████████████████████▏                                  | 1370046/2080000 [53:21<25:26, 465.03it/s]"
     ]
    },
    {
     "name": "stdout",
     "output_type": "stream",
     "text": [
      "# writing /mnt/sdc2/data/research_data/rand_sharded_data/shard-000137.tar 10000 0.4 GB 1370000\n"
     ]
    },
    {
     "name": "stderr",
     "output_type": "stream",
     "text": [
      " 66%|███████████████████████████████████████████████████████████████████▋                                  | 1380088/2080000 [53:46<24:13, 481.41it/s]"
     ]
    },
    {
     "name": "stdout",
     "output_type": "stream",
     "text": [
      "# writing /mnt/sdc2/data/research_data/rand_sharded_data/shard-000138.tar 10000 0.4 GB 1380000\n"
     ]
    },
    {
     "name": "stderr",
     "output_type": "stream",
     "text": [
      " 67%|████████████████████████████████████████████████████████████████████▏                                 | 1390085/2080000 [54:06<23:56, 480.32it/s]"
     ]
    },
    {
     "name": "stdout",
     "output_type": "stream",
     "text": [
      "# writing /mnt/sdc2/data/research_data/rand_sharded_data/shard-000139.tar 10000 0.4 GB 1390000\n"
     ]
    },
    {
     "name": "stderr",
     "output_type": "stream",
     "text": [
      " 67%|████████████████████████████████████████████████████████████████████▋                                 | 1400095/2080000 [54:31<22:52, 495.21it/s]"
     ]
    },
    {
     "name": "stdout",
     "output_type": "stream",
     "text": [
      "# writing /mnt/sdc2/data/research_data/rand_sharded_data/shard-000140.tar 10000 0.4 GB 1400000\n"
     ]
    },
    {
     "name": "stderr",
     "output_type": "stream",
     "text": [
      " 68%|█████████████████████████████████████████████████████████████████████▏                                | 1410071/2080000 [54:55<23:42, 471.10it/s]"
     ]
    },
    {
     "name": "stdout",
     "output_type": "stream",
     "text": [
      "# writing /mnt/sdc2/data/research_data/rand_sharded_data/shard-000141.tar 10000 0.4 GB 1410000\n"
     ]
    },
    {
     "name": "stderr",
     "output_type": "stream",
     "text": [
      " 68%|█████████████████████████████████████████████████████████████████████▋                                | 1420048/2080000 [55:16<24:36, 447.05it/s]"
     ]
    },
    {
     "name": "stdout",
     "output_type": "stream",
     "text": [
      "# writing /mnt/sdc2/data/research_data/rand_sharded_data/shard-000142.tar 10000 0.4 GB 1420000\n"
     ]
    },
    {
     "name": "stderr",
     "output_type": "stream",
     "text": [
      " 69%|██████████████████████████████████████████████████████████████████████▏                               | 1430070/2080000 [55:40<24:11, 447.74it/s]"
     ]
    },
    {
     "name": "stdout",
     "output_type": "stream",
     "text": [
      "# writing /mnt/sdc2/data/research_data/rand_sharded_data/shard-000143.tar 10000 0.4 GB 1430000\n"
     ]
    },
    {
     "name": "stderr",
     "output_type": "stream",
     "text": [
      " 69%|██████████████████████████████████████████████████████████████████████▌                               | 1440063/2080000 [56:05<23:42, 449.89it/s]"
     ]
    },
    {
     "name": "stdout",
     "output_type": "stream",
     "text": [
      "# writing /mnt/sdc2/data/research_data/rand_sharded_data/shard-000144.tar 10000 0.4 GB 1440000\n"
     ]
    },
    {
     "name": "stderr",
     "output_type": "stream",
     "text": [
      " 70%|███████████████████████████████████████████████████████████████████████                               | 1450078/2080000 [56:25<21:47, 481.70it/s]"
     ]
    },
    {
     "name": "stdout",
     "output_type": "stream",
     "text": [
      "# writing /mnt/sdc2/data/research_data/rand_sharded_data/shard-000145.tar 10000 0.4 GB 1450000\n"
     ]
    },
    {
     "name": "stderr",
     "output_type": "stream",
     "text": [
      " 70%|███████████████████████████████████████████████████████████████████████▌                              | 1460073/2080000 [56:50<21:56, 471.04it/s]"
     ]
    },
    {
     "name": "stdout",
     "output_type": "stream",
     "text": [
      "# writing /mnt/sdc2/data/research_data/rand_sharded_data/shard-000146.tar 10000 0.4 GB 1460000\n"
     ]
    },
    {
     "name": "stderr",
     "output_type": "stream",
     "text": [
      " 71%|████████████████████████████████████████████████████████████████████████                              | 1470060/2080000 [57:15<21:13, 478.97it/s]"
     ]
    },
    {
     "name": "stdout",
     "output_type": "stream",
     "text": [
      "# writing /mnt/sdc2/data/research_data/rand_sharded_data/shard-000147.tar 10000 0.4 GB 1470000\n"
     ]
    },
    {
     "name": "stderr",
     "output_type": "stream",
     "text": [
      " 71%|████████████████████████████████████████████████████████████████████████▌                             | 1480090/2080000 [57:35<21:09, 472.60it/s]"
     ]
    },
    {
     "name": "stdout",
     "output_type": "stream",
     "text": [
      "# writing /mnt/sdc2/data/research_data/rand_sharded_data/shard-000148.tar 10000 0.4 GB 1480000\n"
     ]
    },
    {
     "name": "stderr",
     "output_type": "stream",
     "text": [
      " 72%|█████████████████████████████████████████████████████████████████████████                             | 1490075/2080000 [58:00<20:54, 470.12it/s]"
     ]
    },
    {
     "name": "stdout",
     "output_type": "stream",
     "text": [
      "# writing /mnt/sdc2/data/research_data/rand_sharded_data/shard-000149.tar 10000 0.4 GB 1490000\n"
     ]
    },
    {
     "name": "stderr",
     "output_type": "stream",
     "text": [
      " 72%|█████████████████████████████████████████████████████████████████████████▌                            | 1500083/2080000 [58:24<20:05, 481.23it/s]"
     ]
    },
    {
     "name": "stdout",
     "output_type": "stream",
     "text": [
      "# writing /mnt/sdc2/data/research_data/rand_sharded_data/shard-000150.tar 10000 0.4 GB 1500000\n"
     ]
    },
    {
     "name": "stderr",
     "output_type": "stream",
     "text": [
      " 73%|██████████████████████████████████████████████████████████████████████████                            | 1510075/2080000 [58:45<19:51, 478.41it/s]"
     ]
    },
    {
     "name": "stdout",
     "output_type": "stream",
     "text": [
      "# writing /mnt/sdc2/data/research_data/rand_sharded_data/shard-000151.tar 10000 0.4 GB 1510000\n"
     ]
    },
    {
     "name": "stderr",
     "output_type": "stream",
     "text": [
      " 73%|██████████████████████████████████████████████████████████████████████████▌                           | 1520100/2080000 [59:09<19:17, 483.54it/s]"
     ]
    },
    {
     "name": "stdout",
     "output_type": "stream",
     "text": [
      "# writing /mnt/sdc2/data/research_data/rand_sharded_data/shard-000152.tar 10000 0.4 GB 1520000\n"
     ]
    },
    {
     "name": "stderr",
     "output_type": "stream",
     "text": [
      " 74%|███████████████████████████████████████████████████████████████████████████                           | 1530098/2080000 [59:34<17:59, 509.50it/s]"
     ]
    },
    {
     "name": "stdout",
     "output_type": "stream",
     "text": [
      "# writing /mnt/sdc2/data/research_data/rand_sharded_data/shard-000153.tar 10000 0.4 GB 1530000\n"
     ]
    },
    {
     "name": "stderr",
     "output_type": "stream",
     "text": [
      " 74%|███████████████████████████████████████████████████████████████████████████▌                          | 1540098/2080000 [59:54<19:05, 471.49it/s]"
     ]
    },
    {
     "name": "stdout",
     "output_type": "stream",
     "text": [
      "# writing /mnt/sdc2/data/research_data/rand_sharded_data/shard-000154.tar 10000 0.4 GB 1540000\n"
     ]
    },
    {
     "name": "stderr",
     "output_type": "stream",
     "text": [
      " 75%|██████████████████████████████████████████████████████████████████████████▌                         | 1550087/2080000 [1:00:19<18:35, 475.10it/s]"
     ]
    },
    {
     "name": "stdout",
     "output_type": "stream",
     "text": [
      "# writing /mnt/sdc2/data/research_data/rand_sharded_data/shard-000155.tar 10000 0.4 GB 1550000\n"
     ]
    },
    {
     "name": "stderr",
     "output_type": "stream",
     "text": [
      " 75%|███████████████████████████████████████████████████████████████████████████                         | 1560088/2080000 [1:00:43<18:19, 472.97it/s]"
     ]
    },
    {
     "name": "stdout",
     "output_type": "stream",
     "text": [
      "# writing /mnt/sdc2/data/research_data/rand_sharded_data/shard-000156.tar 10000 0.4 GB 1560000\n"
     ]
    },
    {
     "name": "stderr",
     "output_type": "stream",
     "text": [
      " 75%|███████████████████████████████████████████████████████████████████████████▍                        | 1570092/2080000 [1:01:04<17:46, 478.20it/s]"
     ]
    },
    {
     "name": "stdout",
     "output_type": "stream",
     "text": [
      "# writing /mnt/sdc2/data/research_data/rand_sharded_data/shard-000157.tar 10000 0.4 GB 1570000\n"
     ]
    },
    {
     "name": "stderr",
     "output_type": "stream",
     "text": [
      " 76%|███████████████████████████████████████████████████████████████████████████▉                        | 1580063/2080000 [1:01:28<18:44, 444.73it/s]"
     ]
    },
    {
     "name": "stdout",
     "output_type": "stream",
     "text": [
      "# writing /mnt/sdc2/data/research_data/rand_sharded_data/shard-000158.tar 10000 0.4 GB 1580000\n"
     ]
    },
    {
     "name": "stderr",
     "output_type": "stream",
     "text": [
      " 76%|████████████████████████████████████████████████████████████████████████████▍                       | 1590085/2080000 [1:01:53<29:50, 273.61it/s]"
     ]
    },
    {
     "name": "stdout",
     "output_type": "stream",
     "text": [
      "# writing /mnt/sdc2/data/research_data/rand_sharded_data/shard-000159.tar 10000 0.4 GB 1590000\n"
     ]
    },
    {
     "name": "stderr",
     "output_type": "stream",
     "text": [
      " 77%|████████████████████████████████████████████████████████████████████████████▉                       | 1600070/2080000 [1:02:13<16:36, 481.85it/s]"
     ]
    },
    {
     "name": "stdout",
     "output_type": "stream",
     "text": [
      "# writing /mnt/sdc2/data/research_data/rand_sharded_data/shard-000160.tar 10000 0.4 GB 1600000\n"
     ]
    },
    {
     "name": "stderr",
     "output_type": "stream",
     "text": [
      " 77%|█████████████████████████████████████████████████████████████████████████████▍                      | 1610061/2080000 [1:02:38<15:54, 492.50it/s]"
     ]
    },
    {
     "name": "stdout",
     "output_type": "stream",
     "text": [
      "# writing /mnt/sdc2/data/research_data/rand_sharded_data/shard-000161.tar 10000 0.4 GB 1610000\n"
     ]
    },
    {
     "name": "stderr",
     "output_type": "stream",
     "text": [
      " 78%|█████████████████████████████████████████████████████████████████████████████▉                      | 1620095/2080000 [1:02:58<15:49, 484.37it/s]"
     ]
    },
    {
     "name": "stdout",
     "output_type": "stream",
     "text": [
      "# writing /mnt/sdc2/data/research_data/rand_sharded_data/shard-000162.tar 10000 0.4 GB 1620000\n"
     ]
    },
    {
     "name": "stderr",
     "output_type": "stream",
     "text": [
      " 78%|██████████████████████████████████████████████████████████████████████████████▎                     | 1630055/2080000 [1:03:23<16:29, 454.56it/s]"
     ]
    },
    {
     "name": "stdout",
     "output_type": "stream",
     "text": [
      "# writing /mnt/sdc2/data/research_data/rand_sharded_data/shard-000163.tar 10000 0.4 GB 1630000\n"
     ]
    },
    {
     "name": "stderr",
     "output_type": "stream",
     "text": [
      " 79%|██████████████████████████████████████████████████████████████████████████████▊                     | 1640095/2080000 [1:03:47<15:06, 485.02it/s]"
     ]
    },
    {
     "name": "stdout",
     "output_type": "stream",
     "text": [
      "# writing /mnt/sdc2/data/research_data/rand_sharded_data/shard-000164.tar 10000 0.4 GB 1640000\n"
     ]
    },
    {
     "name": "stderr",
     "output_type": "stream",
     "text": [
      " 79%|███████████████████████████████████████████████████████████████████████████████▎                    | 1650065/2080000 [1:04:08<14:46, 485.10it/s]"
     ]
    },
    {
     "name": "stdout",
     "output_type": "stream",
     "text": [
      "# writing /mnt/sdc2/data/research_data/rand_sharded_data/shard-000165.tar 10000 0.4 GB 1650000\n"
     ]
    },
    {
     "name": "stderr",
     "output_type": "stream",
     "text": [
      " 80%|███████████████████████████████████████████████████████████████████████████████▊                    | 1660097/2080000 [1:04:32<14:46, 473.86it/s]"
     ]
    },
    {
     "name": "stdout",
     "output_type": "stream",
     "text": [
      "# writing /mnt/sdc2/data/research_data/rand_sharded_data/shard-000166.tar 10000 0.4 GB 1660000\n"
     ]
    },
    {
     "name": "stderr",
     "output_type": "stream",
     "text": [
      " 80%|████████████████████████████████████████████████████████████████████████████████▎                   | 1670076/2080000 [1:04:57<14:23, 474.82it/s]"
     ]
    },
    {
     "name": "stdout",
     "output_type": "stream",
     "text": [
      "# writing /mnt/sdc2/data/research_data/rand_sharded_data/shard-000167.tar 10000 0.4 GB 1670000\n"
     ]
    },
    {
     "name": "stderr",
     "output_type": "stream",
     "text": [
      " 81%|████████████████████████████████████████████████████████████████████████████████▊                   | 1680079/2080000 [1:05:18<14:15, 467.62it/s]"
     ]
    },
    {
     "name": "stdout",
     "output_type": "stream",
     "text": [
      "# writing /mnt/sdc2/data/research_data/rand_sharded_data/shard-000168.tar 10000 0.4 GB 1680000\n"
     ]
    },
    {
     "name": "stderr",
     "output_type": "stream",
     "text": [
      " 81%|█████████████████████████████████████████████████████████████████████████████████▎                  | 1690056/2080000 [1:05:42<13:17, 489.25it/s]"
     ]
    },
    {
     "name": "stdout",
     "output_type": "stream",
     "text": [
      "# writing /mnt/sdc2/data/research_data/rand_sharded_data/shard-000169.tar 10000 0.4 GB 1690000\n"
     ]
    },
    {
     "name": "stderr",
     "output_type": "stream",
     "text": [
      " 82%|█████████████████████████████████████████████████████████████████████████████████▋                  | 1700093/2080000 [1:06:07<12:57, 488.68it/s]"
     ]
    },
    {
     "name": "stdout",
     "output_type": "stream",
     "text": [
      "# writing /mnt/sdc2/data/research_data/rand_sharded_data/shard-000170.tar 10000 0.4 GB 1700000\n"
     ]
    },
    {
     "name": "stderr",
     "output_type": "stream",
     "text": [
      " 82%|██████████████████████████████████████████████████████████████████████████████████▏                 | 1710082/2080000 [1:06:28<13:07, 469.97it/s]"
     ]
    },
    {
     "name": "stdout",
     "output_type": "stream",
     "text": [
      "# writing /mnt/sdc2/data/research_data/rand_sharded_data/shard-000171.tar 10000 0.4 GB 1710000\n"
     ]
    },
    {
     "name": "stderr",
     "output_type": "stream",
     "text": [
      " 83%|██████████████████████████████████████████████████████████████████████████████████▋                 | 1720053/2080000 [1:06:53<12:24, 483.69it/s]"
     ]
    },
    {
     "name": "stdout",
     "output_type": "stream",
     "text": [
      "# writing /mnt/sdc2/data/research_data/rand_sharded_data/shard-000172.tar 10000 0.4 GB 1720000\n"
     ]
    },
    {
     "name": "stderr",
     "output_type": "stream",
     "text": [
      " 83%|███████████████████████████████████████████████████████████████████████████████████▏                | 1730053/2080000 [1:07:17<12:01, 485.04it/s]"
     ]
    },
    {
     "name": "stdout",
     "output_type": "stream",
     "text": [
      "# writing /mnt/sdc2/data/research_data/rand_sharded_data/shard-000173.tar 10000 0.4 GB 1730000\n"
     ]
    },
    {
     "name": "stderr",
     "output_type": "stream",
     "text": [
      " 84%|███████████████████████████████████████████████████████████████████████████████████▋                | 1740097/2080000 [1:07:38<11:49, 479.00it/s]"
     ]
    },
    {
     "name": "stdout",
     "output_type": "stream",
     "text": [
      "# writing /mnt/sdc2/data/research_data/rand_sharded_data/shard-000174.tar 10000 0.4 GB 1740000\n"
     ]
    },
    {
     "name": "stderr",
     "output_type": "stream",
     "text": [
      " 84%|████████████████████████████████████████████████████████████████████████████████████▏               | 1750087/2080000 [1:08:03<11:53, 462.19it/s]"
     ]
    },
    {
     "name": "stdout",
     "output_type": "stream",
     "text": [
      "# writing /mnt/sdc2/data/research_data/rand_sharded_data/shard-000175.tar 10000 0.4 GB 1750000\n"
     ]
    },
    {
     "name": "stderr",
     "output_type": "stream",
     "text": [
      " 85%|████████████████████████████████████████████████████████████████████████████████████▌               | 1760049/2080000 [1:08:27<11:25, 466.45it/s]"
     ]
    },
    {
     "name": "stdout",
     "output_type": "stream",
     "text": [
      "# writing /mnt/sdc2/data/research_data/rand_sharded_data/shard-000176.tar 10000 0.4 GB 1760000\n"
     ]
    },
    {
     "name": "stderr",
     "output_type": "stream",
     "text": [
      " 85%|█████████████████████████████████████████████████████████████████████████████████████               | 1770047/2080000 [1:08:48<11:24, 452.75it/s]"
     ]
    },
    {
     "name": "stdout",
     "output_type": "stream",
     "text": [
      "# writing /mnt/sdc2/data/research_data/rand_sharded_data/shard-000177.tar 10000 0.4 GB 1770000\n"
     ]
    },
    {
     "name": "stderr",
     "output_type": "stream",
     "text": [
      " 86%|█████████████████████████████████████████████████████████████████████████████████████▌              | 1780064/2080000 [1:09:12<10:43, 466.17it/s]"
     ]
    },
    {
     "name": "stdout",
     "output_type": "stream",
     "text": [
      "# writing /mnt/sdc2/data/research_data/rand_sharded_data/shard-000178.tar 10000 0.4 GB 1780000\n"
     ]
    },
    {
     "name": "stderr",
     "output_type": "stream",
     "text": [
      " 86%|██████████████████████████████████████████████████████████████████████████████████████              | 1790072/2080000 [1:09:37<09:59, 483.25it/s]"
     ]
    },
    {
     "name": "stdout",
     "output_type": "stream",
     "text": [
      "# writing /mnt/sdc2/data/research_data/rand_sharded_data/shard-000179.tar 10000 0.4 GB 1790000\n"
     ]
    },
    {
     "name": "stderr",
     "output_type": "stream",
     "text": [
      " 87%|██████████████████████████████████████████████████████████████████████████████████████▌             | 1800053/2080000 [1:09:58<09:41, 481.46it/s]"
     ]
    },
    {
     "name": "stdout",
     "output_type": "stream",
     "text": [
      "# writing /mnt/sdc2/data/research_data/rand_sharded_data/shard-000180.tar 10000 0.4 GB 1800000\n"
     ]
    },
    {
     "name": "stderr",
     "output_type": "stream",
     "text": [
      " 87%|███████████████████████████████████████████████████████████████████████████████████████             | 1810067/2080000 [1:10:22<09:11, 489.21it/s]"
     ]
    },
    {
     "name": "stdout",
     "output_type": "stream",
     "text": [
      "# writing /mnt/sdc2/data/research_data/rand_sharded_data/shard-000181.tar 10000 0.4 GB 1810000\n"
     ]
    },
    {
     "name": "stderr",
     "output_type": "stream",
     "text": [
      " 88%|███████████████████████████████████████████████████████████████████████████████████████▌            | 1820048/2080000 [1:10:47<09:23, 461.43it/s]"
     ]
    },
    {
     "name": "stdout",
     "output_type": "stream",
     "text": [
      "# writing /mnt/sdc2/data/research_data/rand_sharded_data/shard-000182.tar 10000 0.4 GB 1820000\n"
     ]
    },
    {
     "name": "stderr",
     "output_type": "stream",
     "text": [
      " 88%|███████████████████████████████████████████████████████████████████████████████████████▉            | 1830089/2080000 [1:11:08<09:00, 461.94it/s]"
     ]
    },
    {
     "name": "stdout",
     "output_type": "stream",
     "text": [
      "# writing /mnt/sdc2/data/research_data/rand_sharded_data/shard-000183.tar 10000 0.4 GB 1830000\n"
     ]
    },
    {
     "name": "stderr",
     "output_type": "stream",
     "text": [
      " 88%|████████████████████████████████████████████████████████████████████████████████████████▍           | 1840095/2080000 [1:11:33<08:16, 483.38it/s]"
     ]
    },
    {
     "name": "stdout",
     "output_type": "stream",
     "text": [
      "# writing /mnt/sdc2/data/research_data/rand_sharded_data/shard-000184.tar 10000 0.4 GB 1840000\n"
     ]
    },
    {
     "name": "stderr",
     "output_type": "stream",
     "text": [
      " 89%|████████████████████████████████████████████████████████████████████████████████████████▉           | 1850084/2080000 [1:11:57<08:01, 477.25it/s]"
     ]
    },
    {
     "name": "stdout",
     "output_type": "stream",
     "text": [
      "# writing /mnt/sdc2/data/research_data/rand_sharded_data/shard-000185.tar 10000 0.4 GB 1850000\n"
     ]
    },
    {
     "name": "stderr",
     "output_type": "stream",
     "text": [
      " 89%|█████████████████████████████████████████████████████████████████████████████████████████▍          | 1860084/2080000 [1:12:18<07:03, 518.92it/s]"
     ]
    },
    {
     "name": "stdout",
     "output_type": "stream",
     "text": [
      "# writing /mnt/sdc2/data/research_data/rand_sharded_data/shard-000186.tar 10000 0.4 GB 1860000\n"
     ]
    },
    {
     "name": "stderr",
     "output_type": "stream",
     "text": [
      " 90%|█████████████████████████████████████████████████████████████████████████████████████████▉          | 1870080/2080000 [1:12:42<07:11, 486.66it/s]"
     ]
    },
    {
     "name": "stdout",
     "output_type": "stream",
     "text": [
      "# writing /mnt/sdc2/data/research_data/rand_sharded_data/shard-000187.tar 10000 0.4 GB 1870000\n"
     ]
    },
    {
     "name": "stderr",
     "output_type": "stream",
     "text": [
      " 90%|███████████████████████████████████████████████████████████████████████████████████████████▎         | 1880011/2080000 [1:13:05<54:01, 61.69it/s]"
     ]
    },
    {
     "name": "stdout",
     "output_type": "stream",
     "text": [
      "# writing /mnt/sdc2/data/research_data/rand_sharded_data/shard-000188.tar 10000 0.4 GB 1880000\n"
     ]
    },
    {
     "name": "stderr",
     "output_type": "stream",
     "text": [
      " 91%|██████████████████████████████████████████████████████████████████████████████████████████▊         | 1890068/2080000 [1:13:27<06:51, 461.97it/s]"
     ]
    },
    {
     "name": "stdout",
     "output_type": "stream",
     "text": [
      "# writing /mnt/sdc2/data/research_data/rand_sharded_data/shard-000189.tar 10000 0.4 GB 1890000\n"
     ]
    },
    {
     "name": "stderr",
     "output_type": "stream",
     "text": [
      " 91%|███████████████████████████████████████████████████████████████████████████████████████████▎        | 1900074/2080000 [1:13:52<06:14, 480.97it/s]"
     ]
    },
    {
     "name": "stdout",
     "output_type": "stream",
     "text": [
      "# writing /mnt/sdc2/data/research_data/rand_sharded_data/shard-000190.tar 10000 0.4 GB 1900000\n"
     ]
    },
    {
     "name": "stderr",
     "output_type": "stream",
     "text": [
      " 92%|███████████████████████████████████████████████████████████████████████████████████████████▊        | 1910098/2080000 [1:14:12<05:45, 491.77it/s]"
     ]
    },
    {
     "name": "stdout",
     "output_type": "stream",
     "text": [
      "# writing /mnt/sdc2/data/research_data/rand_sharded_data/shard-000191.tar 10000 0.4 GB 1910000\n"
     ]
    },
    {
     "name": "stderr",
     "output_type": "stream",
     "text": [
      " 92%|████████████████████████████████████████████████████████████████████████████████████████████▎       | 1920082/2080000 [1:14:37<05:19, 499.81it/s]"
     ]
    },
    {
     "name": "stdout",
     "output_type": "stream",
     "text": [
      "# writing /mnt/sdc2/data/research_data/rand_sharded_data/shard-000192.tar 10000 0.4 GB 1920000\n"
     ]
    },
    {
     "name": "stderr",
     "output_type": "stream",
     "text": [
      " 93%|████████████████████████████████████████████████████████████████████████████████████████████▊       | 1930076/2080000 [1:15:02<05:27, 457.86it/s]"
     ]
    },
    {
     "name": "stdout",
     "output_type": "stream",
     "text": [
      "# writing /mnt/sdc2/data/research_data/rand_sharded_data/shard-000193.tar 10000 0.4 GB 1930000\n"
     ]
    },
    {
     "name": "stderr",
     "output_type": "stream",
     "text": [
      " 93%|█████████████████████████████████████████████████████████████████████████████████████████████▎      | 1940088/2080000 [1:15:23<04:53, 477.22it/s]"
     ]
    },
    {
     "name": "stdout",
     "output_type": "stream",
     "text": [
      "# writing /mnt/sdc2/data/research_data/rand_sharded_data/shard-000194.tar 10000 0.4 GB 1940000\n"
     ]
    },
    {
     "name": "stderr",
     "output_type": "stream",
     "text": [
      " 94%|█████████████████████████████████████████████████████████████████████████████████████████████▊      | 1950072/2080000 [1:15:47<04:37, 467.97it/s]"
     ]
    },
    {
     "name": "stdout",
     "output_type": "stream",
     "text": [
      "# writing /mnt/sdc2/data/research_data/rand_sharded_data/shard-000195.tar 10000 0.4 GB 1950000\n"
     ]
    },
    {
     "name": "stderr",
     "output_type": "stream",
     "text": [
      " 94%|██████████████████████████████████████████████████████████████████████████████████████████████▏     | 1960050/2080000 [1:16:12<04:14, 470.99it/s]"
     ]
    },
    {
     "name": "stdout",
     "output_type": "stream",
     "text": [
      "# writing /mnt/sdc2/data/research_data/rand_sharded_data/shard-000196.tar 10000 0.4 GB 1960000\n"
     ]
    },
    {
     "name": "stderr",
     "output_type": "stream",
     "text": [
      " 95%|██████████████████████████████████████████████████████████████████████████████████████████████▋     | 1970059/2080000 [1:16:32<03:45, 488.14it/s]"
     ]
    },
    {
     "name": "stdout",
     "output_type": "stream",
     "text": [
      "# writing /mnt/sdc2/data/research_data/rand_sharded_data/shard-000197.tar 10000 0.4 GB 1970000\n"
     ]
    },
    {
     "name": "stderr",
     "output_type": "stream",
     "text": [
      " 95%|███████████████████████████████████████████████████████████████████████████████████████████████▏    | 1980066/2080000 [1:16:57<03:10, 523.39it/s]"
     ]
    },
    {
     "name": "stdout",
     "output_type": "stream",
     "text": [
      "# writing /mnt/sdc2/data/research_data/rand_sharded_data/shard-000198.tar 10000 0.4 GB 1980000\n"
     ]
    },
    {
     "name": "stderr",
     "output_type": "stream",
     "text": [
      " 96%|███████████████████████████████████████████████████████████████████████████████████████████████▋    | 1990118/2080000 [1:17:10<01:46, 846.51it/s]"
     ]
    },
    {
     "name": "stdout",
     "output_type": "stream",
     "text": [
      "# writing /mnt/sdc2/data/research_data/rand_sharded_data/shard-000199.tar 10000 0.4 GB 1990000\n"
     ]
    },
    {
     "name": "stderr",
     "output_type": "stream",
     "text": [
      " 96%|████████████████████████████████████████████████████████████████████████████████████████████████▏   | 2000088/2080000 [1:17:22<01:41, 788.77it/s]"
     ]
    },
    {
     "name": "stdout",
     "output_type": "stream",
     "text": [
      "# writing /mnt/sdc2/data/research_data/rand_sharded_data/shard-000200.tar 10000 0.4 GB 2000000\n"
     ]
    },
    {
     "name": "stderr",
     "output_type": "stream",
     "text": [
      " 97%|████████████████████████████████████████████████████████████████████████████████████████████████▋   | 2010151/2080000 [1:17:35<01:29, 781.15it/s]"
     ]
    },
    {
     "name": "stdout",
     "output_type": "stream",
     "text": [
      "# writing /mnt/sdc2/data/research_data/rand_sharded_data/shard-000201.tar 10000 0.4 GB 2010000\n"
     ]
    },
    {
     "name": "stderr",
     "output_type": "stream",
     "text": [
      " 97%|█████████████████████████████████████████████████████████████████████████████████████████████████   | 2020114/2080000 [1:17:47<01:15, 793.27it/s]"
     ]
    },
    {
     "name": "stdout",
     "output_type": "stream",
     "text": [
      "# writing /mnt/sdc2/data/research_data/rand_sharded_data/shard-000202.tar 10000 0.4 GB 2020000\n"
     ]
    },
    {
     "name": "stderr",
     "output_type": "stream",
     "text": [
      " 98%|█████████████████████████████████████████████████████████████████████████████████████████████████▌  | 2030104/2080000 [1:18:00<01:03, 787.33it/s]"
     ]
    },
    {
     "name": "stdout",
     "output_type": "stream",
     "text": [
      "# writing /mnt/sdc2/data/research_data/rand_sharded_data/shard-000203.tar 10000 0.4 GB 2030000\n"
     ]
    },
    {
     "name": "stderr",
     "output_type": "stream",
     "text": [
      " 98%|██████████████████████████████████████████████████████████████████████████████████████████████████  | 2040143/2080000 [1:18:12<00:51, 772.60it/s]"
     ]
    },
    {
     "name": "stdout",
     "output_type": "stream",
     "text": [
      "# writing /mnt/sdc2/data/research_data/rand_sharded_data/shard-000204.tar 10000 0.4 GB 2040000\n"
     ]
    },
    {
     "name": "stderr",
     "output_type": "stream",
     "text": [
      " 99%|██████████████████████████████████████████████████████████████████████████████████████████████████▌ | 2050134/2080000 [1:18:25<00:37, 799.18it/s]"
     ]
    },
    {
     "name": "stdout",
     "output_type": "stream",
     "text": [
      "# writing /mnt/sdc2/data/research_data/rand_sharded_data/shard-000205.tar 10000 0.4 GB 2050000\n"
     ]
    },
    {
     "name": "stderr",
     "output_type": "stream",
     "text": [
      " 99%|███████████████████████████████████████████████████████████████████████████████████████████████████ | 2060088/2080000 [1:18:37<00:26, 741.92it/s]"
     ]
    },
    {
     "name": "stdout",
     "output_type": "stream",
     "text": [
      "# writing /mnt/sdc2/data/research_data/rand_sharded_data/shard-000206.tar 10000 0.4 GB 2060000\n"
     ]
    },
    {
     "name": "stderr",
     "output_type": "stream",
     "text": [
      "100%|███████████████████████████████████████████████████████████████████████████████████████████████████▌| 2070084/2080000 [1:18:51<00:13, 744.50it/s]"
     ]
    },
    {
     "name": "stdout",
     "output_type": "stream",
     "text": [
      "# writing /mnt/sdc2/data/research_data/rand_sharded_data/shard-000207.tar 10000 0.4 GB 2070000\n"
     ]
    },
    {
     "name": "stderr",
     "output_type": "stream",
     "text": [
      "2080091it [1:19:04, 760.03it/s]                                                                                                                       "
     ]
    },
    {
     "name": "stdout",
     "output_type": "stream",
     "text": [
      "# writing /mnt/sdc2/data/research_data/rand_sharded_data/shard-000208.tar 10000 0.4 GB 2080000\n"
     ]
    },
    {
     "name": "stderr",
     "output_type": "stream",
     "text": [
      "2080483it [1:19:05, 438.45it/s]\n"
     ]
    }
   ],
   "source": [
    "sink = wds.ShardWriter(PATH_TO_STORE+\"shard-%06d.tar\", maxcount=10000, encoder=True)\n",
    "key_list = []\n",
    "repeated = []\n",
    "counter = 0\n",
    "for data in tqdm(dataset, total=2080000):\n",
    "    key = str(counter) + \"_\" + data[\"__key__\"]\n",
    "    forcing = data[\"forcing.pyd\"]\n",
    "    image = data[\"image.pyd\"]\n",
    "    lst = data[\"lst.pyd\"]\n",
    "    sample = {\n",
    "        \"__key__\": key,\n",
    "        \"image.pyd\": image,\n",
    "        \"forcing.pyd\": forcing,\n",
    "        \"lst.pyd\": lst\n",
    "    }\n",
    "    \n",
    "    sink.write(sample)\n",
    "    counter += 1\n",
    "    \n",
    "sink.close()"
   ]
  },
  {
   "cell_type": "code",
   "execution_count": null,
   "id": "06e47b9a",
   "metadata": {},
   "outputs": [],
   "source": []
  }
 ],
 "metadata": {
  "kernelspec": {
   "display_name": "Python 3 (ipykernel)",
   "language": "python",
   "name": "python3"
  },
  "language_info": {
   "codemirror_mode": {
    "name": "ipython",
    "version": 3
   },
   "file_extension": ".py",
   "mimetype": "text/x-python",
   "name": "python",
   "nbconvert_exporter": "python",
   "pygments_lexer": "ipython3",
   "version": "3.9.7"
  }
 },
 "nbformat": 4,
 "nbformat_minor": 5
}
