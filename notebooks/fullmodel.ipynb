{
 "cells": [
  {
   "cell_type": "code",
   "execution_count": 4,
   "id": "6bf22137",
   "metadata": {},
   "outputs": [],
   "source": [
    "import numpy as np\n",
    "import webdataset as wds\n",
    "import torch\n",
    "import torch.nn.functional as F\n",
    "import torch.optim as optim\n",
    "import torch.nn as nn\n",
    "from torchvision import transforms \n",
    "import os\n",
    "import random\n",
    "\n",
    "PATH_TO_DATA = \"/media/priyammazumdar/M.2 Drive/M2 Data Storage/sharded_data/\" "
   ]
  },
  {
   "cell_type": "code",
   "execution_count": 5,
   "id": "9aff9fa5",
   "metadata": {},
   "outputs": [],
   "source": [
    "image_normalize = transforms.Normalize(\n",
    "                  mean=[0.17960437768666657, 0.14584139607643212, 0.10744440357398845, 0.2583671063835548],\n",
    "                  std=[0.059635202669355195, 0.04059554002618016, 0.03371736326989986, 0.06295501902505744]\n",
    ")\n",
    "\n",
    "forcing_normalize = transforms.Normalize(\n",
    "                  mean=[444.9605606256559, 991.7980623653417, 0.00039606951184754176, 96111.04161525163, 0.006652783216819315, 314.3219695851273, 2.82168247768119],\n",
    "                  std=[5.5216369223813535, 12.951212256256913, 0.0002824274832735609, 975.3770569179914, 0.00012386107613000674, 0.6004463118907452, 0.34279194598853185]\n",
    ")\n",
    "\n",
    "forcing_mean = torch.from_numpy(np.array([444.9605606256559, 991.7980623653417, 0.00039606951184754176, 96111.04161525163, 0.006652783216819315, 314.3219695851273, 2.82168247768119]))\n",
    "forcing_std = torch.from_numpy(np.array([5.5216369223813535, 12.951212256256913, 0.0002824274832735609, 975.3770569179914, 0.00012386107613000674, 0.6004463118907452, 0.34279194598853185]))\n",
    "\n",
    "lst_mean = torch.from_numpy(np.array([312.8291360088677]))\n",
    "lst_std = torch.from_numpy(np.array([11.376636496297289]))"
   ]
  },
  {
   "cell_type": "code",
   "execution_count": 6,
   "id": "3b37c9ad",
   "metadata": {},
   "outputs": [],
   "source": [
    "def create_train_test(path_to_data, train_perc, test_perc):\n",
    "    files = []\n",
    "    for dirpath, dirnames, filenames in os.walk(path_to_data):\n",
    "        files.extend(filenames)\n",
    "    \n",
    "    saturated = files[:-1]\n",
    "    unsaturated = files[-1]\n",
    "    \n",
    "    dataset = wds.WebDataset(path_to_data + \"/\" + unsaturated)\n",
    "    counter = 0\n",
    "    for data in dataset:\n",
    "        counter += 1\n",
    "    \n",
    "    total_files = counter + len(saturated) * 10000\n",
    "    training_data = total_files * train_perc //10000\n",
    "    test_data_files = total_files * test_perc //10000\n",
    "\n",
    "    training_data = random.sample(files, int(training_data))\n",
    "    test_data = [file for file in files if file not in training_data]\n",
    "    test_data = random.sample(test_data, int(test_data_files))\n",
    "    # Get sample sizes of train and test data\n",
    "    training_samples = 0\n",
    "    testing_samples = 0\n",
    "    \n",
    "    for path in training_data:\n",
    "        if path in saturated:\n",
    "            training_samples += 10000\n",
    "        elif path in unsaturated:\n",
    "            training_samples += counter\n",
    "            \n",
    "    for path in test_data:\n",
    "        if path in saturated:\n",
    "            testing_samples += 10000\n",
    "        elif path in unsaturated:\n",
    "            testing_samples += counter\n",
    "            \n",
    "            \n",
    "    # Convert to filename lists \n",
    "    training_filepath = []\n",
    "    for dat in training_data:\n",
    "        training_filepath.append(dat[6:12])\n",
    "    training_path = path_to_data + \"shard-\" + \"{\" + \",\".join(training_filepath) + \"}\" + \".tar\"\n",
    "    \n",
    "    testing_filepath = []\n",
    "    for dat in test_data:\n",
    "        testing_filepath.append(dat[6:12])\n",
    "    testing_path = path_to_data + \"shard-{\" + \",\".join(testing_filepath) +\"}.tar\"\n",
    "    train_data = wds.WebDataset(training_path).shuffle(30000, initial=30000).decode(\"rgb\").rename(image=\"image.pyd\", forcing=\"forcing.pyd\", lst = \"lst.pyd\").to_tuple(\"image\", \"forcing\", \"lst\")\n",
    "    test_data = wds.WebDataset(testing_path).decode(\"rgb\").shuffle(30000, initial=30000).rename(image=\"image.pyd\", forcing=\"forcing.pyd\", lst = \"lst.pyd\").to_tuple(\"image\", \"forcing\", \"lst\")\n",
    "            \n",
    "    return (train_data, training_samples), (test_data, testing_samples)\n",
    "    \n",
    "(train_data, training_samples_len), (test_data, testing_samples_len) = create_train_test(PATH_TO_DATA, 0.25, 0.1)\n"
   ]
  },
  {
   "cell_type": "code",
   "execution_count": 7,
   "id": "92291d0e",
   "metadata": {},
   "outputs": [],
   "source": [
    "class LSTModel(nn.Module):\n",
    "    def __init__(self, input_shape=(4,33,33), forcing_shape=(1,7)):\n",
    "        super(LSTModel, self).__init__()\n",
    "        self.in_channels = input_shape[0]\n",
    "        self.input_shape = input_shape\n",
    "        \n",
    "        self.conv1 = nn.Conv2d(in_channels=self.in_channels, out_channels=8, kernel_size=(2,2))\n",
    "        self.conv1_bn = nn.BatchNorm2d(8)\n",
    "        self.mp1 = nn.MaxPool2d(kernel_size=(2,2), stride=1)\n",
    "        self.conv2 = nn.Conv2d(in_channels=8, out_channels=16, kernel_size=(2,2))\n",
    "        self.conv2_bn = nn.BatchNorm2d(16)\n",
    "        self.mp2 = nn.MaxPool2d(kernel_size=(2, 2), stride=1)\n",
    "        self.conv3 = nn.Conv2d(in_channels=16, out_channels=32, kernel_size=(2, 2))\n",
    "        self.conv3_bn = nn.BatchNorm2d(32)\n",
    "        self.mp3 = nn.MaxPool2d(kernel_size=(2, 2), stride=1)\n",
    "\n",
    "        self.flatten_shape = None\n",
    "        zero_ex = torch.zeros(input_shape).unsqueeze(0)\n",
    "        zero_forcing = torch.zeros(forcing_shape)\n",
    "        \n",
    "        with torch.no_grad():\n",
    "            self.convolutions(zero_ex, zero_forcing)\n",
    "\n",
    "        self.fc1 = nn.Linear(in_features=self.flatten_shape, out_features=512)\n",
    "        self.drop1 = nn.Dropout(0.6)\n",
    "        self.fc2 = nn.Linear(in_features=512, out_features=128)\n",
    "        self.drop2 = nn.Dropout(0.2)\n",
    "        self.fc3 = nn.Linear(in_features=128, out_features=1)\n",
    "        \n",
    "    def convolutions(self, x, forcing):\n",
    "        x = F.relu(self.conv1_bn(self.conv1(x)))\n",
    "        x = self.mp1(x)\n",
    "        x = F.relu(self.conv2_bn(self.conv2(x)))\n",
    "        x = self.mp2(x)\n",
    "        x = F.relu(self.conv3_bn(self.conv3(x)))\n",
    "        x = self.mp3(x)\n",
    "\n",
    "        # Reshape for linear\n",
    "        x = x.view(x.shape[0], -1)\n",
    "        x = torch.cat((x, forcing), dim=1)\n",
    "\n",
    "        if self.flatten_shape is None:\n",
    "            self.flatten_shape = x.shape[1]\n",
    "\n",
    "        return x\n",
    "    \n",
    "    def forward(self, x, forcing):\n",
    "        x = self.convolutions(x, forcing)\n",
    "        x = F.relu(self.fc1(x))\n",
    "        x = self.drop1(x)\n",
    "        x = F.relu(self.fc2(x))\n",
    "        x = self.drop2(x)\n",
    "        x = self.fc3(x)\n",
    "        \n",
    "        return x\n",
    "        "
   ]
  },
  {
   "cell_type": "code",
   "execution_count": null,
   "id": "93bbb461",
   "metadata": {},
   "outputs": [
    {
     "name": "stdout",
     "output_type": "stream",
     "text": [
      "****** EPOCH: [0/250] LR: 5e-05 ******\n"
     ]
    },
    {
     "name": "stderr",
     "output_type": "stream",
     "text": [
      "999it [01:12, 13.85it/s, train_loss=24.5]                                                                                                             \n",
      "                                                                                                                                                      \r"
     ]
    },
    {
     "name": "stdout",
     "output_type": "stream",
     "text": [
      "------ Train Loss: 45.318351279746544, Test Loss: 9.322657047794555 ------\n",
      "****** EPOCH: [1/250] LR: 5e-05 ******\n"
     ]
    },
    {
     "name": "stderr",
     "output_type": "stream",
     "text": [
      "999it [01:05, 15.34it/s, train_loss=25.5]                                                                                                             \n",
      "                                                                                                                                                      \r"
     ]
    },
    {
     "name": "stdout",
     "output_type": "stream",
     "text": [
      "------ Train Loss: 26.87176841491455, Test Loss: 8.278918167056165 ------\n",
      "****** EPOCH: [2/250] LR: 5e-05 ******\n"
     ]
    },
    {
     "name": "stderr",
     "output_type": "stream",
     "text": [
      "999it [01:18, 12.76it/s, train_loss=24.9]                                                                                                             \n",
      "                                                                                                                                                      \r"
     ]
    },
    {
     "name": "stdout",
     "output_type": "stream",
     "text": [
      "------ Train Loss: 25.871966412594844, Test Loss: 8.035880145687742 ------\n",
      "****** EPOCH: [3/250] LR: 5e-05 ******\n"
     ]
    },
    {
     "name": "stderr",
     "output_type": "stream",
     "text": [
      "999it [01:14, 13.33it/s, train_loss=24.1]                                                                                                             \n",
      "                                                                                                                                                      \r"
     ]
    },
    {
     "name": "stdout",
     "output_type": "stream",
     "text": [
      "------ Train Loss: 25.50633617779156, Test Loss: 8.504171430762044 ------\n",
      "****** EPOCH: [4/250] LR: 5e-05 ******\n"
     ]
    },
    {
     "name": "stderr",
     "output_type": "stream",
     "text": [
      "999it [01:03, 15.61it/s, train_loss=25.8]                                                                                                             \n",
      "                                                                                                                                                      \r"
     ]
    },
    {
     "name": "stdout",
     "output_type": "stream",
     "text": [
      "------ Train Loss: 25.26722044080824, Test Loss: 7.777043587060144 ------\n",
      "****** EPOCH: [5/250] LR: 5e-05 ******\n"
     ]
    },
    {
     "name": "stderr",
     "output_type": "stream",
     "text": [
      "999it [01:04, 15.41it/s, train_loss=25.2]                                                                                                             \n",
      "                                                                                                                                                      \r"
     ]
    },
    {
     "name": "stdout",
     "output_type": "stream",
     "text": [
      "------ Train Loss: 25.11783334466669, Test Loss: 7.91010191355865 ------\n",
      "****** EPOCH: [6/250] LR: 5e-05 ******\n"
     ]
    },
    {
     "name": "stderr",
     "output_type": "stream",
     "text": [
      "999it [01:05, 15.23it/s, train_loss=25]                                                                                                               \n",
      "                                                                                                                                                      \r"
     ]
    },
    {
     "name": "stdout",
     "output_type": "stream",
     "text": [
      "------ Train Loss: 25.061051528136414, Test Loss: 7.695773169473949 ------\n",
      "****** EPOCH: [7/250] LR: 5e-05 ******\n"
     ]
    },
    {
     "name": "stderr",
     "output_type": "stream",
     "text": [
      "999it [01:04, 15.40it/s, train_loss=24.7]                                                                                                             \n",
      "                                                                                                                                                      \r"
     ]
    },
    {
     "name": "stdout",
     "output_type": "stream",
     "text": [
      "------ Train Loss: 24.952385450865293, Test Loss: 7.500165901813411 ------\n",
      "****** EPOCH: [8/250] LR: 5e-05 ******\n"
     ]
    },
    {
     "name": "stderr",
     "output_type": "stream",
     "text": [
      "999it [01:05, 15.28it/s, train_loss=24.5]                                                                                                             \n",
      "                                                                                                                                                      \r"
     ]
    },
    {
     "name": "stdout",
     "output_type": "stream",
     "text": [
      "------ Train Loss: 24.90837676054961, Test Loss: 7.306423337326437 ------\n",
      "****** EPOCH: [9/250] LR: 5e-05 ******\n"
     ]
    },
    {
     "name": "stderr",
     "output_type": "stream",
     "text": [
      "999it [01:05, 15.30it/s, train_loss=22.4]                                                                                                             \n",
      "                                                                                                                                                      \r"
     ]
    },
    {
     "name": "stdout",
     "output_type": "stream",
     "text": [
      "------ Train Loss: 24.813305013769263, Test Loss: 7.803714809078856 ------\n",
      "****** EPOCH: [10/250] LR: 5e-05 ******\n"
     ]
    },
    {
     "name": "stderr",
     "output_type": "stream",
     "text": [
      "999it [01:05, 15.36it/s, train_loss=27.3]                                                                                                             \n",
      "                                                                                                                                                      \r"
     ]
    },
    {
     "name": "stdout",
     "output_type": "stream",
     "text": [
      "------ Train Loss: 24.793039839308303, Test Loss: 7.860170239724484 ------\n",
      "****** EPOCH: [11/250] LR: 5e-05 ******\n"
     ]
    },
    {
     "name": "stderr",
     "output_type": "stream",
     "text": [
      "999it [01:05, 15.29it/s, train_loss=23.9]                                                                                                             \n",
      "                                                                                                                                                      \r"
     ]
    },
    {
     "name": "stdout",
     "output_type": "stream",
     "text": [
      "------ Train Loss: 24.82188403499019, Test Loss: 7.419244789230037 ------\n",
      "****** EPOCH: [12/250] LR: 5e-05 ******\n"
     ]
    },
    {
     "name": "stderr",
     "output_type": "stream",
     "text": [
      "999it [01:06, 15.03it/s, train_loss=25.3]                                                                                                             \n",
      "                                                                                                                                                      \r"
     ]
    },
    {
     "name": "stdout",
     "output_type": "stream",
     "text": [
      "------ Train Loss: 24.744682594581885, Test Loss: 7.119758206575655 ------\n",
      "****** EPOCH: [13/250] LR: 5e-05 ******\n"
     ]
    },
    {
     "name": "stderr",
     "output_type": "stream",
     "text": [
      "999it [01:05, 15.26it/s, train_loss=24]                                                                                                               \n",
      "                                                                                                                                                      \r"
     ]
    },
    {
     "name": "stdout",
     "output_type": "stream",
     "text": [
      "------ Train Loss: 24.730883870396887, Test Loss: 8.081148583271782 ------\n",
      "****** EPOCH: [14/250] LR: 5e-05 ******\n"
     ]
    },
    {
     "name": "stderr",
     "output_type": "stream",
     "text": [
      "999it [01:05, 15.15it/s, train_loss=23.4]                                                                                                             \n",
      "                                                                                                                                                      \r"
     ]
    },
    {
     "name": "stdout",
     "output_type": "stream",
     "text": [
      "------ Train Loss: 24.7168826140441, Test Loss: 7.456955903677771 ------\n",
      "****** EPOCH: [15/250] LR: 5e-05 ******\n"
     ]
    },
    {
     "name": "stderr",
     "output_type": "stream",
     "text": [
      "999it [01:05, 15.31it/s, train_loss=22.8]                                                                                                             \n",
      "                                                                                                                                                      \r"
     ]
    },
    {
     "name": "stdout",
     "output_type": "stream",
     "text": [
      "------ Train Loss: 24.665567648184073, Test Loss: 7.222770358100155 ------\n",
      "****** EPOCH: [16/250] LR: 5e-05 ******\n"
     ]
    },
    {
     "name": "stderr",
     "output_type": "stream",
     "text": [
      "999it [01:05, 15.32it/s, train_loss=23.6]                                                                                                             \n",
      "                                                                                                                                                      \r"
     ]
    },
    {
     "name": "stdout",
     "output_type": "stream",
     "text": [
      "------ Train Loss: 24.620338306293355, Test Loss: 7.594702420500934 ------\n",
      "****** EPOCH: [17/250] LR: 5e-05 ******\n"
     ]
    },
    {
     "name": "stderr",
     "output_type": "stream",
     "text": [
      "999it [01:05, 15.21it/s, train_loss=25.4]                                                                                                             \n",
      "                                                                                                                                                      \r"
     ]
    },
    {
     "name": "stdout",
     "output_type": "stream",
     "text": [
      "------ Train Loss: 24.65278163256946, Test Loss: 7.059181609129543 ------\n",
      "****** EPOCH: [18/250] LR: 5e-05 ******\n"
     ]
    },
    {
     "name": "stderr",
     "output_type": "stream",
     "text": [
      "999it [01:05, 15.19it/s, train_loss=24.8]                                                                                                             \n",
      "                                                                                                                                                      \r"
     ]
    },
    {
     "name": "stdout",
     "output_type": "stream",
     "text": [
      "------ Train Loss: 24.65312418207392, Test Loss: 7.283801253071896 ------\n",
      "****** EPOCH: [19/250] LR: 5e-05 ******\n"
     ]
    },
    {
     "name": "stderr",
     "output_type": "stream",
     "text": [
      "999it [01:05, 15.30it/s, train_loss=23.5]                                                                                                             \n",
      "                                                                                                                                                      \r"
     ]
    },
    {
     "name": "stdout",
     "output_type": "stream",
     "text": [
      "------ Train Loss: 24.58201300131308, Test Loss: 7.105882824980063 ------\n",
      "****** EPOCH: [20/250] LR: 5e-05 ******\n"
     ]
    },
    {
     "name": "stderr",
     "output_type": "stream",
     "text": [
      "999it [01:05, 15.31it/s, train_loss=24.6]                                                                                                             \n",
      "                                                                                                                                                      \r"
     ]
    },
    {
     "name": "stdout",
     "output_type": "stream",
     "text": [
      "------ Train Loss: 24.589734194872975, Test Loss: 7.173270115392462 ------\n",
      "****** EPOCH: [21/250] LR: 5e-05 ******\n"
     ]
    },
    {
     "name": "stderr",
     "output_type": "stream",
     "text": [
      "999it [01:05, 15.19it/s, train_loss=24.2]                                                                                                             \n",
      "                                                                                                                                                      \r"
     ]
    },
    {
     "name": "stdout",
     "output_type": "stream",
     "text": [
      "------ Train Loss: 24.599985517897046, Test Loss: 7.612716425493889 ------\n",
      "****** EPOCH: [22/250] LR: 5e-05 ******\n"
     ]
    },
    {
     "name": "stderr",
     "output_type": "stream",
     "text": [
      "999it [01:05, 15.36it/s, train_loss=23.5]                                                                                                             \n",
      "                                                                                                                                                      \r"
     ]
    },
    {
     "name": "stdout",
     "output_type": "stream",
     "text": [
      "------ Train Loss: 24.57329170792191, Test Loss: 7.637055179189304 ------\n",
      "****** EPOCH: [23/250] LR: 5e-05 ******\n"
     ]
    },
    {
     "name": "stderr",
     "output_type": "stream",
     "text": [
      "999it [01:04, 15.48it/s, train_loss=23.1]                                                                                                             \n",
      "                                                                                                                                                      \r"
     ]
    },
    {
     "name": "stdout",
     "output_type": "stream",
     "text": [
      "------ Train Loss: 24.557777332233357, Test Loss: 7.629064866128912 ------\n",
      "****** EPOCH: [24/250] LR: 5e-05 ******\n"
     ]
    },
    {
     "name": "stderr",
     "output_type": "stream",
     "text": [
      "999it [01:05, 15.18it/s, train_loss=24.5]                                                                                                             \n",
      "                                                                                                                                                      \r"
     ]
    },
    {
     "name": "stdout",
     "output_type": "stream",
     "text": [
      "------ Train Loss: 24.5083162061445, Test Loss: 7.305119525357552 ------\n",
      "****** EPOCH: [25/250] LR: 5e-05 ******\n"
     ]
    },
    {
     "name": "stderr",
     "output_type": "stream",
     "text": [
      "999it [01:04, 15.49it/s, train_loss=24.4]                                                                                                             \n",
      "                                                                                                                                                      \r"
     ]
    },
    {
     "name": "stdout",
     "output_type": "stream",
     "text": [
      "------ Train Loss: 24.514933506886404, Test Loss: 7.618804053001598 ------\n",
      "****** EPOCH: [26/250] LR: 5e-05 ******\n"
     ]
    },
    {
     "name": "stderr",
     "output_type": "stream",
     "text": [
      "999it [01:04, 15.46it/s, train_loss=24.3]                                                                                                             \n",
      "                                                                                                                                                      \r"
     ]
    },
    {
     "name": "stdout",
     "output_type": "stream",
     "text": [
      "------ Train Loss: 24.502304016052186, Test Loss: 7.12027974903281 ------\n",
      "****** EPOCH: [27/250] LR: 5e-05 ******\n"
     ]
    },
    {
     "name": "stderr",
     "output_type": "stream",
     "text": [
      "999it [01:05, 15.28it/s, train_loss=23.7]                                                                                                             \n",
      "                                                                                                                                                      \r"
     ]
    },
    {
     "name": "stdout",
     "output_type": "stream",
     "text": [
      "------ Train Loss: 24.54121092298964, Test Loss: 7.317943282538864 ------\n",
      "****** EPOCH: [28/250] LR: 5e-05 ******\n"
     ]
    },
    {
     "name": "stderr",
     "output_type": "stream",
     "text": [
      "999it [01:05, 15.35it/s, train_loss=24.1]                                                                                                             \n",
      "                                                                                                                                                      \r"
     ]
    },
    {
     "name": "stdout",
     "output_type": "stream",
     "text": [
      "------ Train Loss: 24.523877538121617, Test Loss: 7.099380520999734 ------\n",
      "****** EPOCH: [29/250] LR: 5e-05 ******\n"
     ]
    },
    {
     "name": "stderr",
     "output_type": "stream",
     "text": [
      "999it [01:05, 15.31it/s, train_loss=24.1]                                                                                                             \n",
      "                                                                                                                                                      \r"
     ]
    },
    {
     "name": "stdout",
     "output_type": "stream",
     "text": [
      "------ Train Loss: 24.467887601575576, Test Loss: 7.2886177743146865 ------\n",
      "****** EPOCH: [30/250] LR: 5e-05 ******\n"
     ]
    },
    {
     "name": "stderr",
     "output_type": "stream",
     "text": [
      "999it [01:04, 15.50it/s, train_loss=23]                                                                                                               \n",
      "                                                                                                                                                      \r"
     ]
    },
    {
     "name": "stdout",
     "output_type": "stream",
     "text": [
      "------ Train Loss: 24.4431600942984, Test Loss: 6.831168877896924 ------\n",
      "****** EPOCH: [31/250] LR: 5e-05 ******\n"
     ]
    },
    {
     "name": "stderr",
     "output_type": "stream",
     "text": [
      "999it [01:05, 15.32it/s, train_loss=23.4]                                                                                                             \n",
      "                                                                                                                                                      \r"
     ]
    },
    {
     "name": "stdout",
     "output_type": "stream",
     "text": [
      "------ Train Loss: 24.463671152536815, Test Loss: 7.156536563398874 ------\n",
      "****** EPOCH: [32/250] LR: 5e-05 ******\n"
     ]
    },
    {
     "name": "stderr",
     "output_type": "stream",
     "text": [
      "999it [01:04, 15.38it/s, train_loss=23.7]                                                                                                             \n",
      "                                                                                                                                                      \r"
     ]
    },
    {
     "name": "stdout",
     "output_type": "stream",
     "text": [
      "------ Train Loss: 24.403725161089433, Test Loss: 7.45512178585614 ------\n",
      "****** EPOCH: [33/250] LR: 5e-05 ******\n"
     ]
    },
    {
     "name": "stderr",
     "output_type": "stream",
     "text": [
      "999it [01:05, 15.36it/s, train_loss=23.8]                                                                                                             \n",
      "                                                                                                                                                      \r"
     ]
    },
    {
     "name": "stdout",
     "output_type": "stream",
     "text": [
      "------ Train Loss: 24.347578860140658, Test Loss: 7.410221999066735 ------\n",
      "****** EPOCH: [34/250] LR: 5e-05 ******\n"
     ]
    },
    {
     "name": "stderr",
     "output_type": "stream",
     "text": [
      "999it [01:04, 15.41it/s, train_loss=24.5]                                                                                                             \n",
      "                                                                                                                                                      \r"
     ]
    },
    {
     "name": "stdout",
     "output_type": "stream",
     "text": [
      "------ Train Loss: 24.423823712705016, Test Loss: 7.127873546580978 ------\n",
      "****** EPOCH: [35/250] LR: 5e-05 ******\n"
     ]
    },
    {
     "name": "stderr",
     "output_type": "stream",
     "text": [
      "999it [01:05, 15.31it/s, train_loss=25.6]                                                                                                             \n",
      "                                                                                                                                                      \r"
     ]
    },
    {
     "name": "stdout",
     "output_type": "stream",
     "text": [
      "------ Train Loss: 24.387671901179743, Test Loss: 7.160876018746856 ------\n",
      "****** EPOCH: [36/250] LR: 5e-05 ******\n"
     ]
    },
    {
     "name": "stderr",
     "output_type": "stream",
     "text": [
      "999it [01:04, 15.50it/s, train_loss=24.5]                                                                                                             \n",
      "                                                                                                                                                      \r"
     ]
    },
    {
     "name": "stdout",
     "output_type": "stream",
     "text": [
      "------ Train Loss: 24.431199941549217, Test Loss: 6.989578623457003 ------\n",
      "****** EPOCH: [37/250] LR: 5e-05 ******\n"
     ]
    },
    {
     "name": "stderr",
     "output_type": "stream",
     "text": [
      "999it [01:04, 15.38it/s, train_loss=24.4]                                                                                                             \n",
      "                                                                                                                                                      \r"
     ]
    },
    {
     "name": "stdout",
     "output_type": "stream",
     "text": [
      "------ Train Loss: 24.37936162137174, Test Loss: 7.0619898181276275 ------\n",
      "****** EPOCH: [38/250] LR: 5e-05 ******\n"
     ]
    },
    {
     "name": "stderr",
     "output_type": "stream",
     "text": [
      "999it [01:04, 15.41it/s, train_loss=23.6]                                                                                                             \n",
      "                                                                                                                                                      \r"
     ]
    },
    {
     "name": "stdout",
     "output_type": "stream",
     "text": [
      "------ Train Loss: 24.41398406004882, Test Loss: 6.991316755410984 ------\n",
      "****** EPOCH: [39/250] LR: 5e-05 ******\n"
     ]
    },
    {
     "name": "stderr",
     "output_type": "stream",
     "text": [
      "999it [01:05, 15.20it/s, train_loss=24.2]                                                                                                             \n",
      "                                                                                                                                                      \r"
     ]
    },
    {
     "name": "stdout",
     "output_type": "stream",
     "text": [
      "------ Train Loss: 24.36984130928108, Test Loss: 6.844746341560093 ------\n",
      "****** EPOCH: [40/250] LR: 5e-05 ******\n"
     ]
    },
    {
     "name": "stderr",
     "output_type": "stream",
     "text": [
      "999it [01:04, 15.45it/s, train_loss=24.2]                                                                                                             \n",
      "                                                                                                                                                      \r"
     ]
    },
    {
     "name": "stdout",
     "output_type": "stream",
     "text": [
      "------ Train Loss: 24.33564909704932, Test Loss: 7.491229782249722 ------\n",
      "****** EPOCH: [41/250] LR: 5e-05 ******\n"
     ]
    },
    {
     "name": "stderr",
     "output_type": "stream",
     "text": [
      "999it [01:04, 15.38it/s, train_loss=23.6]                                                                                                             \n",
      "                                                                                                                                                      \r"
     ]
    },
    {
     "name": "stdout",
     "output_type": "stream",
     "text": [
      "------ Train Loss: 24.373037737291735, Test Loss: 7.485680209803702 ------\n",
      "****** EPOCH: [42/250] LR: 5e-05 ******\n"
     ]
    },
    {
     "name": "stderr",
     "output_type": "stream",
     "text": [
      "999it [01:04, 15.45it/s, train_loss=24.7]                                                                                                             \n",
      "                                                                                                                                                      \r"
     ]
    },
    {
     "name": "stdout",
     "output_type": "stream",
     "text": [
      "------ Train Loss: 24.35137935825535, Test Loss: 7.112134951625379 ------\n",
      "****** EPOCH: [43/250] LR: 5e-05 ******\n"
     ]
    },
    {
     "name": "stderr",
     "output_type": "stream",
     "text": [
      "999it [01:04, 15.47it/s, train_loss=24.6]                                                                                                             \n",
      "                                                                                                                                                      \r"
     ]
    },
    {
     "name": "stdout",
     "output_type": "stream",
     "text": [
      "------ Train Loss: 24.30520830545817, Test Loss: 6.9116015591597195 ------\n",
      "****** EPOCH: [44/250] LR: 5e-05 ******\n"
     ]
    },
    {
     "name": "stderr",
     "output_type": "stream",
     "text": [
      "999it [01:04, 15.47it/s, train_loss=23.7]                                                                                                             \n",
      "                                                                                                                                                      \r"
     ]
    },
    {
     "name": "stdout",
     "output_type": "stream",
     "text": [
      "------ Train Loss: 24.339457902345096, Test Loss: 7.093646313333269 ------\n",
      "****** EPOCH: [45/250] LR: 5e-05 ******\n"
     ]
    },
    {
     "name": "stderr",
     "output_type": "stream",
     "text": [
      "999it [01:05, 15.25it/s, train_loss=23.3]                                                                                                             \n",
      "                                                                                                                                                      \r"
     ]
    },
    {
     "name": "stdout",
     "output_type": "stream",
     "text": [
      "------ Train Loss: 24.354515814566398, Test Loss: 7.970499216602539 ------\n",
      "****** EPOCH: [46/250] LR: 5e-05 ******\n"
     ]
    },
    {
     "name": "stderr",
     "output_type": "stream",
     "text": [
      "999it [01:05, 15.33it/s, train_loss=23.8]                                                                                                             \n",
      "                                                                                                                                                      \r"
     ]
    },
    {
     "name": "stdout",
     "output_type": "stream",
     "text": [
      "------ Train Loss: 24.31557130097627, Test Loss: 7.565077981367934 ------\n",
      "****** EPOCH: [47/250] LR: 5e-05 ******\n"
     ]
    },
    {
     "name": "stderr",
     "output_type": "stream",
     "text": [
      "999it [01:05, 15.35it/s, train_loss=24.9]                                                                                                             \n",
      "                                                                                                                                                      \r"
     ]
    },
    {
     "name": "stdout",
     "output_type": "stream",
     "text": [
      "------ Train Loss: 24.307252780811208, Test Loss: 7.100840380954258 ------\n",
      "****** EPOCH: [48/250] LR: 5e-05 ******\n"
     ]
    },
    {
     "name": "stderr",
     "output_type": "stream",
     "text": [
      "999it [01:04, 15.54it/s, train_loss=22.7]                                                                                                             \n",
      "                                                                                                                                                      \r"
     ]
    },
    {
     "name": "stdout",
     "output_type": "stream",
     "text": [
      "------ Train Loss: 24.26309147587529, Test Loss: 7.547475736153308 ------\n",
      "****** EPOCH: [49/250] LR: 5e-05 ******\n"
     ]
    },
    {
     "name": "stderr",
     "output_type": "stream",
     "text": [
      "999it [01:04, 15.41it/s, train_loss=25.1]                                                                                                             \n",
      "                                                                                                                                                      \r"
     ]
    },
    {
     "name": "stdout",
     "output_type": "stream",
     "text": [
      "------ Train Loss: 24.28443506028917, Test Loss: 7.47606847976065 ------\n",
      "****** EPOCH: [50/250] LR: 5e-05 ******\n"
     ]
    },
    {
     "name": "stderr",
     "output_type": "stream",
     "text": [
      "999it [01:05, 15.30it/s, train_loss=22.8]                                                                                                             \n",
      "                                                                                                                                                      \r"
     ]
    },
    {
     "name": "stdout",
     "output_type": "stream",
     "text": [
      "------ Train Loss: 24.23119276350325, Test Loss: 6.880649803858723 ------\n",
      "****** EPOCH: [51/250] LR: 5e-05 ******\n"
     ]
    },
    {
     "name": "stderr",
     "output_type": "stream",
     "text": [
      "999it [01:04, 15.50it/s, train_loss=22.7]                                                                                                             \n",
      "                                                                                                                                                      \r"
     ]
    },
    {
     "name": "stdout",
     "output_type": "stream",
     "text": [
      "------ Train Loss: 24.268764698230946, Test Loss: 7.056071477493054 ------\n",
      "****** EPOCH: [52/250] LR: 5e-05 ******\n"
     ]
    },
    {
     "name": "stderr",
     "output_type": "stream",
     "text": [
      "999it [01:03, 15.67it/s, train_loss=21.5]                                                                                                             \n",
      "                                                                                                                                                      \r"
     ]
    },
    {
     "name": "stdout",
     "output_type": "stream",
     "text": [
      "------ Train Loss: 24.260763072872066, Test Loss: 7.1903189814030215 ------\n",
      "****** EPOCH: [53/250] LR: 5e-05 ******\n"
     ]
    },
    {
     "name": "stderr",
     "output_type": "stream",
     "text": [
      "999it [01:05, 15.14it/s, train_loss=23.2]                                                                                                             \n",
      "                                                                                                                                                      \r"
     ]
    },
    {
     "name": "stdout",
     "output_type": "stream",
     "text": [
      "------ Train Loss: 24.235320682162875, Test Loss: 7.08977087379107 ------\n",
      "****** EPOCH: [54/250] LR: 5e-05 ******\n"
     ]
    },
    {
     "name": "stderr",
     "output_type": "stream",
     "text": [
      "999it [01:04, 15.38it/s, train_loss=25.4]                                                                                                             \n",
      "                                                                                                                                                      \r"
     ]
    },
    {
     "name": "stdout",
     "output_type": "stream",
     "text": [
      "------ Train Loss: 24.240390558023233, Test Loss: 7.1777723803738045 ------\n",
      "****** EPOCH: [55/250] LR: 5e-05 ******\n"
     ]
    },
    {
     "name": "stderr",
     "output_type": "stream",
     "text": [
      "999it [01:04, 15.44it/s, train_loss=24.7]                                                                                                             \n",
      "                                                                                                                                                      \r"
     ]
    },
    {
     "name": "stdout",
     "output_type": "stream",
     "text": [
      "------ Train Loss: 24.227001012624562, Test Loss: 7.252327430066724 ------\n",
      "****** EPOCH: [56/250] LR: 5e-05 ******\n"
     ]
    },
    {
     "name": "stderr",
     "output_type": "stream",
     "text": [
      "999it [01:04, 15.45it/s, train_loss=24.6]                                                                                                             \n",
      "                                                                                                                                                      \r"
     ]
    },
    {
     "name": "stdout",
     "output_type": "stream",
     "text": [
      "------ Train Loss: 24.212619172440874, Test Loss: 7.190101911573846 ------\n",
      "****** EPOCH: [57/250] LR: 5e-05 ******\n"
     ]
    },
    {
     "name": "stderr",
     "output_type": "stream",
     "text": [
      "999it [01:04, 15.41it/s, train_loss=25.7]                                                                                                             \n",
      "                                                                                                                                                      \r"
     ]
    },
    {
     "name": "stdout",
     "output_type": "stream",
     "text": [
      "------ Train Loss: 24.256790227956838, Test Loss: 7.013001927264451 ------\n",
      "****** EPOCH: [58/250] LR: 5e-05 ******\n"
     ]
    },
    {
     "name": "stderr",
     "output_type": "stream",
     "text": [
      "999it [01:05, 15.27it/s, train_loss=23.3]                                                                                                             \n",
      "                                                                                                                                                      \r"
     ]
    },
    {
     "name": "stdout",
     "output_type": "stream",
     "text": [
      "------ Train Loss: 24.204195160049576, Test Loss: 6.901262170772262 ------\n",
      "****** EPOCH: [59/250] LR: 5e-05 ******\n"
     ]
    },
    {
     "name": "stderr",
     "output_type": "stream",
     "text": [
      "999it [01:05, 15.29it/s, train_loss=24]                                                                                                               \n",
      "                                                                                                                                                      \r"
     ]
    },
    {
     "name": "stdout",
     "output_type": "stream",
     "text": [
      "------ Train Loss: 24.196043652218503, Test Loss: 6.818858730006339 ------\n",
      "****** EPOCH: [60/250] LR: 5e-05 ******\n"
     ]
    },
    {
     "name": "stderr",
     "output_type": "stream",
     "text": [
      "999it [01:05, 15.36it/s, train_loss=23.9]                                                                                                             \n",
      "                                                                                                                                                      \r"
     ]
    },
    {
     "name": "stdout",
     "output_type": "stream",
     "text": [
      "------ Train Loss: 24.20047527844006, Test Loss: 7.177088722964834 ------\n",
      "****** EPOCH: [61/250] LR: 5e-05 ******\n"
     ]
    },
    {
     "name": "stderr",
     "output_type": "stream",
     "text": [
      "999it [01:05, 15.34it/s, train_loss=24.7]                                                                                                             \n",
      "                                                                                                                                                      \r"
     ]
    },
    {
     "name": "stdout",
     "output_type": "stream",
     "text": [
      "------ Train Loss: 24.155269023295755, Test Loss: 7.851035492069225 ------\n",
      "****** EPOCH: [62/250] LR: 5e-05 ******\n"
     ]
    },
    {
     "name": "stderr",
     "output_type": "stream",
     "text": [
      "999it [01:05, 15.32it/s, train_loss=23.7]                                                                                                             \n",
      "                                                                                                                                                      \r"
     ]
    },
    {
     "name": "stdout",
     "output_type": "stream",
     "text": [
      "------ Train Loss: 24.17573650654133, Test Loss: 7.644525342786372 ------\n",
      "****** EPOCH: [63/250] LR: 5e-05 ******\n"
     ]
    },
    {
     "name": "stderr",
     "output_type": "stream",
     "text": [
      "999it [01:04, 15.39it/s, train_loss=23.7]                                                                                                             \n",
      "                                                                                                                                                      \r"
     ]
    },
    {
     "name": "stdout",
     "output_type": "stream",
     "text": [
      "------ Train Loss: 24.144348541656893, Test Loss: 7.309517618363278 ------\n",
      "****** EPOCH: [64/250] LR: 5e-05 ******\n"
     ]
    },
    {
     "name": "stderr",
     "output_type": "stream",
     "text": [
      "999it [01:05, 15.21it/s, train_loss=23.7]                                                                                                             \n",
      "                                                                                                                                                      \r"
     ]
    },
    {
     "name": "stdout",
     "output_type": "stream",
     "text": [
      "------ Train Loss: 24.157809147724997, Test Loss: 6.884965675131318 ------\n",
      "****** EPOCH: [65/250] LR: 5e-05 ******\n"
     ]
    },
    {
     "name": "stderr",
     "output_type": "stream",
     "text": [
      "999it [01:05, 15.26it/s, train_loss=23.3]                                                                                                             \n",
      "                                                                                                                                                      \r"
     ]
    },
    {
     "name": "stdout",
     "output_type": "stream",
     "text": [
      "------ Train Loss: 24.138087622992867, Test Loss: 7.2274885177612305 ------\n",
      "****** EPOCH: [66/250] LR: 5e-05 ******\n"
     ]
    },
    {
     "name": "stderr",
     "output_type": "stream",
     "text": [
      "999it [01:04, 15.41it/s, train_loss=24.3]                                                                                                             \n",
      "                                                                                                                                                      \r"
     ]
    },
    {
     "name": "stdout",
     "output_type": "stream",
     "text": [
      "------ Train Loss: 24.13814081873622, Test Loss: 6.842704181138634 ------\n",
      "****** EPOCH: [67/250] LR: 5e-05 ******\n"
     ]
    },
    {
     "name": "stderr",
     "output_type": "stream",
     "text": [
      "999it [01:04, 15.43it/s, train_loss=24.4]                                                                                                             \n",
      "                                                                                                                                                      \r"
     ]
    },
    {
     "name": "stdout",
     "output_type": "stream",
     "text": [
      "------ Train Loss: 24.14779286007504, Test Loss: 6.953224936112535 ------\n",
      "****** EPOCH: [68/250] LR: 5e-05 ******\n"
     ]
    },
    {
     "name": "stderr",
     "output_type": "stream",
     "text": [
      "999it [01:05, 15.32it/s, train_loss=23.2]                                                                                                             \n",
      "                                                                                                                                                      \r"
     ]
    },
    {
     "name": "stdout",
     "output_type": "stream",
     "text": [
      "------ Train Loss: 24.10078826919571, Test Loss: 6.8414300710416684 ------\n",
      "****** EPOCH: [69/250] LR: 5e-05 ******\n"
     ]
    },
    {
     "name": "stderr",
     "output_type": "stream",
     "text": [
      "999it [01:05, 15.19it/s, train_loss=24.3]                                                                                                             \n",
      "                                                                                                                                                      \r"
     ]
    },
    {
     "name": "stdout",
     "output_type": "stream",
     "text": [
      "------ Train Loss: 24.130361604738283, Test Loss: 7.287650260828474 ------\n",
      "****** EPOCH: [70/250] LR: 5e-05 ******\n"
     ]
    },
    {
     "name": "stderr",
     "output_type": "stream",
     "text": [
      "999it [01:04, 15.38it/s, train_loss=23.8]                                                                                                             \n",
      "                                                                                                                                                      \r"
     ]
    },
    {
     "name": "stdout",
     "output_type": "stream",
     "text": [
      "------ Train Loss: 24.09889544428767, Test Loss: 6.885379646030175 ------\n",
      "****** EPOCH: [71/250] LR: 5e-05 ******\n"
     ]
    },
    {
     "name": "stderr",
     "output_type": "stream",
     "text": [
      "999it [01:04, 15.48it/s, train_loss=23.4]                                                                                                             \n",
      "                                                                                                                                                      \r"
     ]
    },
    {
     "name": "stdout",
     "output_type": "stream",
     "text": [
      "------ Train Loss: 24.128462635838353, Test Loss: 6.932541446637381 ------\n",
      "****** EPOCH: [72/250] LR: 5e-05 ******\n"
     ]
    },
    {
     "name": "stderr",
     "output_type": "stream",
     "text": [
      "999it [01:04, 15.39it/s, train_loss=23.4]                                                                                                             \n",
      "                                                                                                                                                      \r"
     ]
    },
    {
     "name": "stdout",
     "output_type": "stream",
     "text": [
      "------ Train Loss: 24.095558649546152, Test Loss: 7.309704580887925 ------\n",
      "****** EPOCH: [73/250] LR: 5e-05 ******\n"
     ]
    },
    {
     "name": "stderr",
     "output_type": "stream",
     "text": [
      "999it [01:05, 15.26it/s, train_loss=24.7]                                                                                                             \n",
      "                                                                                                                                                      \r"
     ]
    },
    {
     "name": "stdout",
     "output_type": "stream",
     "text": [
      "------ Train Loss: 24.076239222162837, Test Loss: 6.860566206995001 ------\n",
      "****** EPOCH: [74/250] LR: 5e-05 ******\n"
     ]
    },
    {
     "name": "stderr",
     "output_type": "stream",
     "text": [
      "999it [01:05, 15.35it/s, train_loss=23.2]                                                                                                             \n",
      "                                                                                                                                                      \r"
     ]
    },
    {
     "name": "stdout",
     "output_type": "stream",
     "text": [
      "------ Train Loss: 24.09683123866359, Test Loss: 7.288457341605636 ------\n",
      "****** EPOCH: [75/250] LR: 5e-05 ******\n"
     ]
    },
    {
     "name": "stderr",
     "output_type": "stream",
     "text": [
      "999it [01:05, 15.34it/s, train_loss=23.8]                                                                                                             \n",
      "                                                                                                                                                      \r"
     ]
    },
    {
     "name": "stdout",
     "output_type": "stream",
     "text": [
      "------ Train Loss: 24.075982123404533, Test Loss: 7.018926120651555 ------\n",
      "****** EPOCH: [76/250] LR: 5e-05 ******\n"
     ]
    },
    {
     "name": "stderr",
     "output_type": "stream",
     "text": [
      "999it [01:04, 15.43it/s, train_loss=24.1]                                                                                                             \n",
      "                                                                                                                                                      \r"
     ]
    },
    {
     "name": "stdout",
     "output_type": "stream",
     "text": [
      "------ Train Loss: 24.072885106633734, Test Loss: 6.943648993061279 ------\n",
      "****** EPOCH: [77/250] LR: 5e-05 ******\n"
     ]
    },
    {
     "name": "stderr",
     "output_type": "stream",
     "text": [
      "999it [01:05, 15.29it/s, train_loss=23.7]                                                                                                             \n",
      "                                                                                                                                                      \r"
     ]
    },
    {
     "name": "stdout",
     "output_type": "stream",
     "text": [
      "------ Train Loss: 24.01781629155706, Test Loss: 7.492800915906877 ------\n",
      "****** EPOCH: [78/250] LR: 5e-05 ******\n"
     ]
    },
    {
     "name": "stderr",
     "output_type": "stream",
     "text": [
      "999it [01:05, 15.29it/s, train_loss=24.5]                                                                                                             \n",
      "                                                                                                                                                      \r"
     ]
    },
    {
     "name": "stdout",
     "output_type": "stream",
     "text": [
      "------ Train Loss: 24.012928740278976, Test Loss: 7.239427052173518 ------\n",
      "****** EPOCH: [79/250] LR: 5e-05 ******\n"
     ]
    },
    {
     "name": "stderr",
     "output_type": "stream",
     "text": [
      "999it [01:04, 15.48it/s, train_loss=23]                                                                                                               \n",
      "                                                                                                                                                      \r"
     ]
    },
    {
     "name": "stdout",
     "output_type": "stream",
     "text": [
      "------ Train Loss: 24.00019879193158, Test Loss: 6.905796345115313 ------\n",
      "****** EPOCH: [80/250] LR: 5e-05 ******\n"
     ]
    },
    {
     "name": "stderr",
     "output_type": "stream",
     "text": [
      "999it [01:04, 15.45it/s, train_loss=21.9]                                                                                                             \n",
      "                                                                                                                                                      \r"
     ]
    },
    {
     "name": "stdout",
     "output_type": "stream",
     "text": [
      "------ Train Loss: 23.983308774930936, Test Loss: 7.163749579850792 ------\n",
      "****** EPOCH: [81/250] LR: 5e-05 ******\n"
     ]
    },
    {
     "name": "stderr",
     "output_type": "stream",
     "text": [
      "999it [01:04, 15.42it/s, train_loss=23.8]                                                                                                             \n",
      "                                                                                                                                                      \r"
     ]
    },
    {
     "name": "stdout",
     "output_type": "stream",
     "text": [
      "------ Train Loss: 23.95176760737483, Test Loss: 6.907194947228214 ------\n",
      "****** EPOCH: [82/250] LR: 5e-05 ******\n"
     ]
    },
    {
     "name": "stderr",
     "output_type": "stream",
     "text": [
      "999it [01:05, 15.32it/s, train_loss=23.7]                                                                                                             \n",
      "                                                                                                                                                      \r"
     ]
    },
    {
     "name": "stdout",
     "output_type": "stream",
     "text": [
      "------ Train Loss: 23.994441434308452, Test Loss: 6.942430740685633 ------\n",
      "****** EPOCH: [83/250] LR: 5e-05 ******\n"
     ]
    },
    {
     "name": "stderr",
     "output_type": "stream",
     "text": [
      "999it [01:05, 15.30it/s, train_loss=24.4]                                                                                                             \n",
      "                                                                                                                                                      \r"
     ]
    },
    {
     "name": "stdout",
     "output_type": "stream",
     "text": [
      "------ Train Loss: 23.966710977487498, Test Loss: 6.88993692156022 ------\n",
      "****** EPOCH: [84/250] LR: 5e-05 ******\n"
     ]
    },
    {
     "name": "stderr",
     "output_type": "stream",
     "text": [
      "999it [01:05, 15.31it/s, train_loss=23]                                                                                                               \n",
      "                                                                                                                                                      \r"
     ]
    },
    {
     "name": "stdout",
     "output_type": "stream",
     "text": [
      "------ Train Loss: 24.03480780661643, Test Loss: 7.388748581639401 ------\n",
      "****** EPOCH: [85/250] LR: 5e-05 ******\n"
     ]
    },
    {
     "name": "stderr",
     "output_type": "stream",
     "text": [
      "999it [01:04, 15.38it/s, train_loss=24.6]                                                                                                             \n",
      "                                                                                                                                                      \r"
     ]
    },
    {
     "name": "stdout",
     "output_type": "stream",
     "text": [
      "------ Train Loss: 23.960400950801265, Test Loss: 7.443277069759853 ------\n",
      "****** EPOCH: [86/250] LR: 5e-05 ******\n"
     ]
    },
    {
     "name": "stderr",
     "output_type": "stream",
     "text": [
      "999it [01:05, 15.35it/s, train_loss=24.2]                                                                                                             \n",
      "                                                                                                                                                      \r"
     ]
    },
    {
     "name": "stdout",
     "output_type": "stream",
     "text": [
      "------ Train Loss: 23.951122070098663, Test Loss: 6.8955787728885705 ------\n",
      "****** EPOCH: [87/250] LR: 5e-05 ******\n"
     ]
    },
    {
     "name": "stderr",
     "output_type": "stream",
     "text": [
      "999it [01:04, 15.42it/s, train_loss=24.1]                                                                                                             \n",
      "                                                                                                                                                      \r"
     ]
    },
    {
     "name": "stdout",
     "output_type": "stream",
     "text": [
      "------ Train Loss: 23.993955195964396, Test Loss: 7.077628481811678 ------\n",
      "****** EPOCH: [88/250] LR: 5e-05 ******\n"
     ]
    },
    {
     "name": "stderr",
     "output_type": "stream",
     "text": [
      "999it [01:05, 15.31it/s, train_loss=22.8]                                                                                                             \n",
      "                                                                                                                                                      \r"
     ]
    },
    {
     "name": "stdout",
     "output_type": "stream",
     "text": [
      "------ Train Loss: 23.935350532646293, Test Loss: 7.0564809208594 ------\n",
      "****** EPOCH: [89/250] LR: 5e-05 ******\n"
     ]
    },
    {
     "name": "stderr",
     "output_type": "stream",
     "text": [
      "999it [01:05, 15.28it/s, train_loss=24.3]                                                                                                             \n",
      "                                                                                                                                                      \r"
     ]
    },
    {
     "name": "stdout",
     "output_type": "stream",
     "text": [
      "------ Train Loss: 23.951860187289952, Test Loss: 7.036798828144364 ------\n",
      "****** EPOCH: [90/250] LR: 5e-05 ******\n"
     ]
    },
    {
     "name": "stderr",
     "output_type": "stream",
     "text": [
      "999it [01:04, 15.44it/s, train_loss=23.5]                                                                                                             \n",
      "                                                                                                                                                      \r"
     ]
    },
    {
     "name": "stdout",
     "output_type": "stream",
     "text": [
      "------ Train Loss: 23.88123230270676, Test Loss: 7.0346660117812565 ------\n",
      "****** EPOCH: [91/250] LR: 5e-05 ******\n"
     ]
    },
    {
     "name": "stderr",
     "output_type": "stream",
     "text": [
      "999it [01:05, 15.27it/s, train_loss=23.3]                                                                                                             \n",
      "                                                                                                                                                      \r"
     ]
    },
    {
     "name": "stdout",
     "output_type": "stream",
     "text": [
      "------ Train Loss: 23.93307379798011, Test Loss: 6.91552633803508 ------\n",
      "****** EPOCH: [92/250] LR: 5e-05 ******\n"
     ]
    },
    {
     "name": "stderr",
     "output_type": "stream",
     "text": [
      "999it [01:04, 15.41it/s, train_loss=22.8]                                                                                                             \n",
      "                                                                                                                                                      \r"
     ]
    },
    {
     "name": "stdout",
     "output_type": "stream",
     "text": [
      "------ Train Loss: 23.896517880566723, Test Loss: 6.794576525083048 ------\n",
      "****** EPOCH: [93/250] LR: 5e-05 ******\n"
     ]
    },
    {
     "name": "stderr",
     "output_type": "stream",
     "text": [
      "999it [01:05, 15.33it/s, train_loss=23]                                                                                                               \n",
      "                                                                                                                                                      \r"
     ]
    },
    {
     "name": "stdout",
     "output_type": "stream",
     "text": [
      "------ Train Loss: 23.930039847815955, Test Loss: 6.766834444200932 ------\n",
      "****** EPOCH: [94/250] LR: 5e-05 ******\n"
     ]
    },
    {
     "name": "stderr",
     "output_type": "stream",
     "text": [
      " 47%|████████████████████████████████████████████▎                                                 | 471/998 [00:41<00:37, 14.01it/s, train_loss=22.8]"
     ]
    }
   ],
   "source": [
    "from tqdm import tqdm\n",
    "\n",
    "EPOCHS = 250\n",
    "LEARNING_RATE = 5e-5\n",
    "DEVICE = \"cuda\" if torch.cuda.is_available() else \"cpu\"\n",
    "BATCH_SIZE = 512\n",
    "\n",
    "train_loader = torch.utils.data.DataLoader(train_data, batch_size=BATCH_SIZE, num_workers=6)\n",
    "test_loader = torch.utils.data.DataLoader(test_data, batch_size=BATCH_SIZE, num_workers=6)\n",
    "\n",
    "model = LSTModel().to(DEVICE)\n",
    "model = torch.nn.DataParallel(model, device_ids=[0,1])\n",
    "loss_fn = nn.L1Loss()\n",
    "optimizer = optim.AdamW(model.parameters(), lr=LEARNING_RATE)\n",
    "\n",
    "test_loss = []\n",
    "train_loss = []\n",
    "\n",
    "lst_mean = lst_mean.to(DEVICE)\n",
    "lst_std = lst_std.to(DEVICE)\n",
    "forcing_mean = forcing_mean.to(DEVICE)\n",
    "forcing_std = forcing_std.to(DEVICE)\n",
    "\n",
    "def process_data(image, forcing, lst):\n",
    "    image, forcing, lst = image.to(torch.float32).to(DEVICE), forcing.to(DEVICE), lst.to(DEVICE)\n",
    "    # Image Transformations\n",
    "    image = torch.clip(image, min=0)\n",
    "    image = image_normalize(image)\n",
    "    # Forcing Transformation\n",
    "    forcing = torch.div(torch.sub(forcing, forcing_mean), forcing_std).to(torch.float32)\n",
    "    # LST Transformation\n",
    "#     lst = torch.div(torch.sub(lst, lst_mean), lst_std).to(torch.float32).view(-1, 1)\n",
    "    lst = lst.view(-1, 1).to(torch.float32)\n",
    "    return image, forcing, lst\n",
    "\n",
    "    \n",
    "for epoch in range(EPOCHS):\n",
    "    print(\"****** EPOCH: [{}/{}] LR: {} ******\".format(epoch, EPOCHS, round(optimizer.param_groups[0]['lr'], 6)))\n",
    "    running_train_loss = 0\n",
    "    train_n_iter = 0\n",
    "    running_test_loss = 0\n",
    "    test_n_iter = 0\n",
    "    \n",
    "    model.train()\n",
    "    loop_train = tqdm(train_loader, total=(training_samples_len//BATCH_SIZE) + 1, leave=True)\n",
    "    for idx, (image, forcing, lst) in enumerate(loop_train):\n",
    "        image, forcing, lst = process_data(image, forcing, lst)\n",
    "        optimizer.zero_grad()\n",
    "        forward_out = model.forward(image, forcing)\n",
    "        loss = loss_fn(forward_out, lst)\n",
    "        loss.backward()\n",
    "        optimizer.step()\n",
    "        running_train_loss += loss.item()\n",
    "        train_n_iter += 1\n",
    "        loop_train.set_postfix(train_loss=loss.item())\n",
    "        \n",
    "    loop_test = tqdm(test_loader, total=(testing_samples_len//BATCH_SIZE) + 1, leave=False)\n",
    "    \n",
    "    model.eval()\n",
    "    with torch.no_grad():\n",
    "        for idx, (image, forcing, lst) in enumerate(loop_test):\n",
    "            image, forcing, lst = process_data(image, forcing, lst)\n",
    "            pred = model.forward(image, forcing)\n",
    "            testloss = loss_fn(pred, lst)\n",
    "            running_test_loss += testloss.item()\n",
    "            test_n_iter += 1\n",
    "            loop_test.set_postfix(test_loss=testloss.item())\n",
    "\n",
    "    avg_train_loss = running_train_loss/train_n_iter\n",
    "    train_loss.append(avg_train_loss)\n",
    "    avg_test_loss = running_test_loss/test_n_iter\n",
    "    test_loss.append(avg_test_loss)\n",
    "    \n",
    "    print(\"------ Train Loss: {}, Test Loss: {} ------\".format(avg_train_loss, avg_test_loss))\n",
    "            \n",
    "        \n",
    "        \n",
    "        \n",
    "        "
   ]
  },
  {
   "cell_type": "code",
   "execution_count": null,
   "id": "e0fee2ae",
   "metadata": {},
   "outputs": [],
   "source": []
  },
  {
   "cell_type": "code",
   "execution_count": null,
   "id": "1c981f62",
   "metadata": {},
   "outputs": [],
   "source": []
  },
  {
   "cell_type": "code",
   "execution_count": null,
   "id": "4655e563",
   "metadata": {},
   "outputs": [],
   "source": []
  },
  {
   "cell_type": "code",
   "execution_count": null,
   "id": "2bc0b12c",
   "metadata": {},
   "outputs": [],
   "source": []
  },
  {
   "cell_type": "code",
   "execution_count": null,
   "id": "80079644",
   "metadata": {},
   "outputs": [],
   "source": []
  }
 ],
 "metadata": {
  "kernelspec": {
   "display_name": "Python 3 (ipykernel)",
   "language": "python",
   "name": "python3"
  },
  "language_info": {
   "codemirror_mode": {
    "name": "ipython",
    "version": 3
   },
   "file_extension": ".py",
   "mimetype": "text/x-python",
   "name": "python",
   "nbconvert_exporter": "python",
   "pygments_lexer": "ipython3",
   "version": "3.9.7"
  }
 },
 "nbformat": 4,
 "nbformat_minor": 5
}
