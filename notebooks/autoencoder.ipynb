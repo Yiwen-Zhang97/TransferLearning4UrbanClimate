{
 "cells": [
  {
   "cell_type": "code",
   "execution_count": 2,
   "id": "3c676969",
   "metadata": {},
   "outputs": [],
   "source": [
    "import numpy\n",
    "import webdataset\n",
    "import torch\n",
    "import torch.nn as nn\n",
    "import torch.nn.functional as F"
   ]
  },
  {
   "cell_type": "code",
   "execution_count": 115,
   "id": "9f429cd1",
   "metadata": {},
   "outputs": [],
   "source": [
    "class ResidualBlock(nn.Module):\n",
    "    def __init__(self, in_channels, stride=1):\n",
    "        super(ResidualBlock, self).__init__()\n",
    "        self.stride = stride\n",
    "        self.conv1 = nn.Conv2d(in_channels, in_channels, kernel_size=2, stride=1, padding=0)\n",
    "        self.bn1 = nn.BatchNorm2d(in_channels)\n",
    "        self.conv2 = nn.Conv2d(in_channels, in_channels*2, kernel_size=1, stride=stride, padding=0)\n",
    "        self.bn2 = nn.BatchNorm2d(in_channels*2)\n",
    "        self.conv3 = nn.Conv2d(in_channels*2,in_channels*2, kernel_size=1, stride=1, padding=0)\n",
    "        self.bn3 = nn.BatchNorm2d(in_channels*2)\n",
    "        \n",
    "        self.match_conv = nn.Conv2d(in_channels, in_channels*2, kernel_size=2, stride=stride, padding=0)\n",
    "    \n",
    "    def match_input(self, x):\n",
    "        x = self.match_conv(x)\n",
    "        return x\n",
    "    \n",
    "    def forward(self, x):\n",
    "        block_input = x\n",
    "        # First Convolution\n",
    "        x = F.leaky_relu(self.bn1(self.conv1(x)))\n",
    "        # Second Convolution\n",
    "        x = F.leaky_relu(self.bn2(self.conv2(x)))\n",
    "        # Third Convolution\n",
    "        x = self.bn3(self.conv3(x))\n",
    "        block_input = self.match_input(block_input)\n",
    "        # Add residual\n",
    "        x += block_input\n",
    "        x = F.leaky_relu(x)\n",
    "        return x"
   ]
  },
  {
   "cell_type": "code",
   "execution_count": 170,
   "id": "99e6f58e",
   "metadata": {},
   "outputs": [],
   "source": [
    "class Encoder(nn.Module):\n",
    "    def __init__(self, in_channels):\n",
    "        super(Encoder, self).__init__()\n",
    "        # Residual Feature Extraction\n",
    "        self.block_1 = ResidualBlock(in_channels, stride=1)\n",
    "        self.pool_1 = nn.AvgPool2d(2)\n",
    "        self.block_2 = ResidualBlock(in_channels*2, stride=2)\n",
    "        self.pool_2 = nn.AvgPool2d(2)\n",
    "        self.block_3 = ResidualBlock(in_channels*4, stride=2)\n",
    "        self.pool_2 = nn.AvgPool2d(2)\n",
    "        \n",
    "        self.flatten_shape = None\n",
    "        if self.flatten_shape is None:\n",
    "            with torch.no_grad():\n",
    "                zer = torch.zeros(size=(1,4,33,33))\n",
    "                zer = self.convolutions(zer)\n",
    "                self.flatten_shape = zer.shape[1]\n",
    "                \n",
    "        self.fc1 = nn.Linear(self.flatten_shape, 512)\n",
    "        self.fc2 = nn.Linear(512, 256)\n",
    "        \n",
    "    def convolutions(self, x):\n",
    "        x = self.block_1(x)\n",
    "        x = self.block_2(x)\n",
    "        x = self.block_3(x)\n",
    "        x = x.view(x.shape[0], -1)\n",
    "        return x\n",
    "\n",
    "    def forward(self, x):\n",
    "        x = self.convolutions(x)\n",
    "        x = self.fc1(x)\n",
    "        x = self.fc2(x)\n",
    "        return x\n",
    "\n",
    "\n",
    "enc = Encoder(4)"
   ]
  },
  {
   "cell_type": "code",
   "execution_count": 181,
   "id": "ce76c552",
   "metadata": {},
   "outputs": [],
   "source": [
    "class Decoder(nn.Module):\n",
    "    def __init__(self, input_nodes):\n",
    "        super(Decoder, self).__init__()\n",
    "        self.fc1 = nn.Linear(input_nodes, 512)\n",
    "        self.fc2 = nn.Linear(512, 32*8*8)\n",
    "        self.convt1 = nn.ConvTranspose2d(in_channels=32, out_channels=16, kernel_size=2, stride=2, padding=0)\n",
    "        self.convt2 = nn.ConvTranspose2d(in_channels=16, out_channels=8, kernel_size=2, stride=2, padding=0)\n",
    "        self.convt3 = nn.ConvTranspose2d(in_channels=8, out_channels=4, kernel_size=2, stride=2, padding=0)\n",
    "        \n",
    "        \n",
    "    def forward(self, x):\n",
    "        x = self.fc1(x)\n",
    "        x = self.fc2(x).view(-1, 32, 8, 8)\n",
    "        x = self.convt1(x)\n",
    "        x = self.convt2(x)\n",
    "        x = self.convt3(x)\n",
    "        x = F.interpolate(x, size=(33,33))\n",
    "        return x"
   ]
  },
  {
   "cell_type": "code",
   "execution_count": 182,
   "id": "38fd48b4",
   "metadata": {},
   "outputs": [
    {
     "name": "stdout",
     "output_type": "stream",
     "text": [
      "torch.Size([1, 4, 33, 33])\n"
     ]
    }
   ],
   "source": [
    "class AutoEncoder(nn.Module):\n",
    "    def __init__(self):\n",
    "        super(AutoEncoder, self).__init__()\n",
    "        self.encoder = Encoder(in_channels=4)\n",
    "        self.decoder = Decoder(input_nodes=256)\n",
    "        \n",
    "    def forward(self, x):\n",
    "        x = self.encoder(x)\n",
    "        x = self.decoder(x)\n",
    "        print(x.shape)\n",
    "        \n",
    "ae = AutoEncoder()\n",
    "zero = torch.zeros(size=(1,4,33,33))\n",
    "ae.forward(zero)"
   ]
  }
 ],
 "metadata": {
  "kernelspec": {
   "display_name": "Python 3 (ipykernel)",
   "language": "python",
   "name": "python3"
  },
  "language_info": {
   "codemirror_mode": {
    "name": "ipython",
    "version": 3
   },
   "file_extension": ".py",
   "mimetype": "text/x-python",
   "name": "python",
   "nbconvert_exporter": "python",
   "pygments_lexer": "ipython3",
   "version": "3.9.7"
  }
 },
 "nbformat": 4,
 "nbformat_minor": 5
}
