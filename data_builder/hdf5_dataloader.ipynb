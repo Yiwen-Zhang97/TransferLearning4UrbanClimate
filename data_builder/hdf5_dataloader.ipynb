{
 "cells": [
  {
   "cell_type": "code",
   "execution_count": 1,
   "id": "738dcfd8-0f50-4bc3-9c0d-100c6d42178e",
   "metadata": {},
   "outputs": [],
   "source": [
    "import torch\n",
    "from torch.utils.data import Dataset, DataLoader\n",
    "import numpy as np\n",
    "import random\n",
    "import h5py\n",
    "from tqdm import tqdm"
   ]
  },
  {
   "cell_type": "code",
   "execution_count": 2,
   "id": "cfde6e57-ed60-4dca-bac9-8929af413ff5",
   "metadata": {},
   "outputs": [],
   "source": [
    "path = \"/glade/scratch/priyamm/transfer_learning_data/phoenix_data.h5\"\n",
    "hf = h5py.File(path, 'r')"
   ]
  },
  {
   "cell_type": "code",
   "execution_count": 10,
   "id": "3010feab-41ae-4dcb-a483-14685ca32875",
   "metadata": {},
   "outputs": [
    {
     "data": {
      "text/plain": [
       "(8, 33, 33)"
      ]
     },
     "execution_count": 10,
     "metadata": {},
     "output_type": "execute_result"
    }
   ],
   "source": [
    "hf[\"phoenix\"][0, :][9:].reshape(8,33,33).shape"
   ]
  },
  {
   "cell_type": "markdown",
   "id": "2d04e05e-6cf7-4150-9e56-ddf82345b86d",
   "metadata": {},
   "source": [
    "### Vanilla Loader"
   ]
  },
  {
   "cell_type": "code",
   "execution_count": 11,
   "id": "9810e001-88d7-4f86-9b0f-1f4d8836516f",
   "metadata": {},
   "outputs": [],
   "source": [
    "class hdfLoader(Dataset):\n",
    "    def __init__(self):\n",
    "        path = \"/glade/scratch/priyamm/transfer_learning_data/phoenix_data.h5\"\n",
    "        self.hf = h5py.File(path, 'r')\n",
    "        self.key = list(self.hf.keys())[0]\n",
    "    def __len__(self):\n",
    "        return self.hf[self.key].shape[0]\n",
    "\n",
    "    def __getitem__(self, index):\n",
    "        sample = self.hf[self.key][index, :]\n",
    "        forcing = sample[:7]\n",
    "        month = sample[7]\n",
    "        lst = sample[8]\n",
    "        image = sample[9:].reshape(8,33,33)\n",
    "        return forcing, image, month, lst\n",
    "        "
   ]
  },
  {
   "cell_type": "markdown",
   "id": "cfcc7e00-e93c-4f48-ae1b-266a0b73fd40",
   "metadata": {},
   "source": [
    "### MultiDataset Access"
   ]
  },
  {
   "cell_type": "code",
   "execution_count": 12,
   "id": "ffa48ddf-73b0-4fe6-afc0-e376c72584fc",
   "metadata": {},
   "outputs": [],
   "source": [
    "dataset = hdfLoader()"
   ]
  },
  {
   "cell_type": "code",
   "execution_count": null,
   "id": "3d548359-8d2b-479e-b8d9-2482dc85921b",
   "metadata": {},
   "outputs": [],
   "source": [
    "datasets = [dataset, dataset, dataset, dataset, dataset]"
   ]
  },
  {
   "cell_type": "code",
   "execution_count": null,
   "id": "5ef1ce80-05c3-4084-8488-c037e9518b64",
   "metadata": {},
   "outputs": [],
   "source": [
    "for dataset in datasets:\n",
    "    for forcing, image, month, lst in dataset:\n",
    "        print(lst)\n",
    "        break"
   ]
  },
  {
   "cell_type": "markdown",
   "id": "9fd735e5-460c-4f19-8603-3908ff280e30",
   "metadata": {},
   "source": [
    "### Preshuffled DataLoader"
   ]
  },
  {
   "cell_type": "code",
   "execution_count": 13,
   "id": "e2959c62-f990-42f2-a14c-775a8be40dcb",
   "metadata": {},
   "outputs": [],
   "source": [
    "loader = DataLoader(dataset, shuffle=False, batch_size=1024, num_workers=48)"
   ]
  },
  {
   "cell_type": "code",
   "execution_count": null,
   "id": "dd02d009-52fa-429f-8d7a-7ee6bb6f5864",
   "metadata": {},
   "outputs": [],
   "source": [
    "import time\n",
    "t0 = time.time()\n",
    "\n",
    "for forcing, image, month, lst in tqdm(loader, total=len(loader)):\n",
    "    pass\n",
    "\n",
    "t1 = time.time()\n",
    "total = t1-t0\n",
    "print(\"Time Elapsed\", total / 60, \"minutes\")\n"
   ]
  },
  {
   "cell_type": "markdown",
   "id": "0b246bd0-29e0-4455-95ed-f790c030744b",
   "metadata": {},
   "source": [
    "### MultiDataloader Access"
   ]
  },
  {
   "cell_type": "code",
   "execution_count": 15,
   "id": "d998387d-3768-46e5-b56e-ebce0533ae92",
   "metadata": {},
   "outputs": [],
   "source": [
    "class hdfLoaderTop(Dataset):\n",
    "    def __init__(self, length=500000):\n",
    "        path = \"/glade/scratch/priyamm/transfer_learning_data/phoenix_data.h5\"\n",
    "        self.hf = h5py.File(path, 'r')\n",
    "        self.key = list(self.hf.keys())[0]\n",
    "        self.length = length\n",
    "        \n",
    "    def __len__(self):\n",
    "        return self.length\n",
    "\n",
    "    def __getitem__(self, index):\n",
    "        sample = self.hf[self.key][index, :]\n",
    "        forcing = sample[:7]\n",
    "        month = sample[7]\n",
    "        lst = sample[8]\n",
    "        image = sample[9:].reshape(8,33,33)\n",
    "        return forcing, image, month, lst\n",
    "    \n",
    "    \n",
    "class hdfLoaderRandom(Dataset):\n",
    "    def __init__(self, length=500000):\n",
    "        path = \"/glade/scratch/priyamm/transfer_learning_data/phoenix_data.h5\"\n",
    "        self.hf = h5py.File(path, 'r')\n",
    "        self.total_samples = hf[\"phoenix\"].shape[0]\n",
    "        self.key = list(self.hf.keys())[0]\n",
    "        self.length = length\n",
    "        self.rand_index = random.sample((range(0, self.total_samples)), self.length)\n",
    "\n",
    "    def __len__(self):\n",
    "        return self.length\n",
    "\n",
    "    def __getitem__(self, index): \n",
    "        index = self.rand_index[index]\n",
    "        sample = self.hf[self.key][index, :]\n",
    "        forcing = sample[:7]\n",
    "        month = sample[7]\n",
    "        lst = sample[8]\n",
    "        image = sample[9:].reshape(8,33,33)\n",
    "        return forcing, image, month, lst"
   ]
  },
  {
   "cell_type": "code",
   "execution_count": null,
   "id": "28e3bac5-23e5-41f4-8f5a-f570243365aa",
   "metadata": {},
   "outputs": [],
   "source": [
    "dataset = hdfLoaderRandom()\n",
    "loader = DataLoader(dataset, shuffle=False, batch_size=16, num_workers=24)\n",
    "for forcing, image, month, lst in tqdm(loader, total=len(loader)):\n",
    "    pass"
   ]
  },
  {
   "cell_type": "code",
   "execution_count": 18,
   "id": "269b47f3-3fce-4b4b-b7a8-0f5ba9f01715",
   "metadata": {},
   "outputs": [],
   "source": [
    "dataset = hdfLoaderTop()\n",
    "loader = DataLoader(dataset, shuffle=False, batch_size=8)\n",
    "dataloaders = [loader for i in range(100)]"
   ]
  },
  {
   "cell_type": "code",
   "execution_count": null,
   "id": "bb2d2ad1-161c-4c7d-b03e-f00577541ef5",
   "metadata": {},
   "outputs": [
    {
     "name": "stderr",
     "output_type": "stream",
     "text": [
      "  0%|          | 303/62500 [02:31<8:37:16,  2.00it/s]"
     ]
    }
   ],
   "source": [
    "for i, dataloads in tqdm(enumerate(zip(*dataloaders)), total=len(loader)):\n",
    "    for forcing, image, month, lst in dataloads:\n",
    "        pass\n",
    "    pass"
   ]
  }
 ],
 "metadata": {
  "kernelspec": {
   "display_name": "Python [conda env:research]",
   "language": "python",
   "name": "conda-env-research-py"
  },
  "language_info": {
   "codemirror_mode": {
    "name": "ipython",
    "version": 3
   },
   "file_extension": ".py",
   "mimetype": "text/x-python",
   "name": "python",
   "nbconvert_exporter": "python",
   "pygments_lexer": "ipython3",
   "version": "3.7.12"
  }
 },
 "nbformat": 4,
 "nbformat_minor": 5
}
