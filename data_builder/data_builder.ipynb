{
 "cells": [
  {
   "cell_type": "code",
   "execution_count": 1,
   "metadata": {},
   "outputs": [],
   "source": [
    "import numpy as np\n",
    "from tfrecords2numpy_qc import TFRecordsParser\n",
    "from tfrecords2numpy_qc import TFRecordsElevation\n",
    "import os\n",
    "import pickle\n",
    "from tqdm import tqdm\n",
    "import pandas as pd\n",
    "from sklearn.metrics.pairwise import euclidean_distances\n",
    "from sklearn.preprocessing import MinMaxScaler\n",
    "import webdataset as wds\n",
    "import xarray as xr\n",
    "import h5py\n",
    "import random\n",
    "from collections import Counter"
   ]
  },
  {
   "cell_type": "code",
   "execution_count": 5,
   "metadata": {},
   "outputs": [],
   "source": [
    "PATH_TO_FORCING = \"/glade/scratch/yiwenz/CESM_0.125_US_cities/forcing_Phoenix_Mesa_AZ.pkl\"\n",
    "PATH_TO_DATA = \"/glade/scratch/yiwenz/Data_TFRecord_Daily/\"\n",
    "PATH_TO_STORE = \"/glade/scratch/yiwenz/transfer_learning_hdf5/phoenix_data.h5\"\n",
    "PATH_TO_LATLONG = \"/glade/scratch/yiwenz/modis_lat_lon_US_cities/modis_grid_Phoenix.csv\"\n",
    "PATH_TO_ELEVATIONS = \"/glade/work/yiwenz/AWS3D30_cropped.tfrecord\"\n",
    "\n",
    "channel_choices = ['Red', 'Green', 'Blue', \"NIR\", \"SWIR1\"]\n",
    "threshold_cloud=0.15"
   ]
  },
  {
   "cell_type": "code",
   "execution_count": 6,
   "metadata": {},
   "outputs": [],
   "source": [
    "def inverse_distance_mean():\n",
    "    latlong = pd.read_csv(PATH_TO_LATLONG, usecols=[\"lon\", \"lat\"])\n",
    "    array = latlong.values\n",
    "    dist = euclidean_distances(array, array)\n",
    "    weights_idx_dict = {}\n",
    "    for idx in range(len(dist)):\n",
    "        sort_idx = dist[idx, :].argsort()[1:8]\n",
    "        closest = dist[idx, sort_idx]**-1\n",
    "        closest = closest / closest.sum()\n",
    "        weights_idx_dict[idx] = {\"weights\":closest, \"idx\":sort_idx}\n",
    "\n",
    "    return weights_idx_dict\n",
    "\n",
    "def extract_data(path):\n",
    "    \"\"\"\n",
    "    Extract all data from all TFRecords files and stores as pickled tuples in the format (image, label)\n",
    "    :return:\n",
    "    Each Sample is of Array Size 8721. For a single sample arr, this is how we can access our data:\n",
    "    arr[:7] -> 7 Forcing Variables\n",
    "    arr[7] -> Month Indicator of Data\n",
    "    arr[8] -> LST Target\n",
    "    arr[9:].reshape(8,33,33) -> Sattelite Image Tensor \n",
    "    \"\"\"\n",
    "    tot_samples = 0\n",
    "    first_batch = True\n",
    "    with h5py.File(path, \"a\") as hp5:\n",
    "        center_weight = 1\n",
    "        outside_weight = 1 - center_weight\n",
    "        weights_idx_dict = inverse_distance_mean()\n",
    "        elevations_dict = TFRecordsElevation(filepath=PATH_TO_ELEVATIONS).tfrecrods2numpy()\n",
    "        with open(PATH_TO_FORCING, 'rb') as f:\n",
    "            forcing_data = pickle.load(f)\n",
    "\n",
    "        avail_dates = list(forcing_data.keys())\n",
    "\n",
    "        for root, dirs, files in os.walk(PATH_TO_DATA):\n",
    "            random.shuffle(files)\n",
    "            for file in tqdm(files, desc=\"Total Progress\"):\n",
    "                samples = []\n",
    "                file_date = file.split(\".\")[0] \n",
    "                if file_date in avail_dates:\n",
    "                    print(file_date)\n",
    "                    path_to_tf = os.path.join(PATH_TO_DATA, file)\n",
    "                    records = TFRecordsParser(path_to_tf, channels=channel_choices).tfrecrods2numpy()\n",
    "                    all_pixels = len(records)\n",
    "                    cloud_pixels = Counter(elem[1] for elem in records)[False]\n",
    "                    cloud_pct = cloud_pixels/all_pixels\n",
    "                    month = int(file_date[2:4])\n",
    "                    if cloud_pct<=threshold_cloud:\n",
    "                        print(f'Meet cloud threshold. Cloud cover pct: {cloud_pct}')\n",
    "                        for idx, (features, lst, qc_flag) in enumerate(records):\n",
    "                            if (qc_flag is not False) and (qc_flag>>1&1)==0 and (qc_flag>>7&1)==0 and (lst is not False) and ((features!=-9999).all() == True):\n",
    "                                if outside_weight != 0:\n",
    "                                    weights = np.array(weights_idx_dict[idx][\"weights\"]) * outside_weight\n",
    "                                    min_idx = weights_idx_dict[idx][\"idx\"]\n",
    "                                    surround_features = np.array([records[i][0] for i in min_idx])\n",
    "                                    weighted_avg = np.average(surround_features, weights=weights, axis=0)\n",
    "                                    features = np.average([features, weighted_avg], weights=[center_weight, outside_weight], axis=0)\n",
    "                                NIR_dn = (features[3]+0.2)/2.75e-05\n",
    "                                SWIR1_dn = (features[4]+0.2)/2.75e-05\n",
    "                                RED_dn = (features[0]+0.2)/2.75e-05\n",
    "\n",
    "                                features_ndbi = ((SWIR1_dn-NIR_dn)/(SWIR1_dn+NIR_dn)).reshape(-1,33,33)\n",
    "                                features_ndvi = ((NIR_dn-RED_dn)/(NIR_dn+RED_dn)).reshape(-1,33,33)\n",
    "                                features = np.concatenate([features,features_ndbi,features_ndvi],axis=0)\n",
    "                                elevations = elevations_dict[idx].reshape(-1,33,33)\n",
    "                                features = np.vstack([features, elevations])\n",
    "                                forcing = forcing_data[file_date][idx]\n",
    "\n",
    "                                sample_image = features.flatten()\n",
    "                                month = np.array(month).reshape(-1,)\n",
    "                                lst = np.array(lst).reshape(-1,)\n",
    "\n",
    "                                ex_array = np.concatenate((forcing, month, lst, sample_image))\n",
    "\n",
    "    #                             VALIDATION CHECKS\n",
    "    #                             reb_forcing = ex_array[:7]\n",
    "    #                             reb_month = ex_array[7]\n",
    "    #                             reb_lst = ex_array[8]\n",
    "    #                             reb_image = ex_array[9:].reshape(8,33,33)\n",
    "\n",
    "    #                             print(reb_forcing == forcing)\n",
    "    #                             print(reb_month == month)\n",
    "    #                             print(reb_lst == lst)\n",
    "    #                             print((reb_image == features).all())\n",
    "\n",
    "                                samples.append(ex_array)\n",
    "                samples = np.array(samples)\n",
    "                new_samples_num = samples.shape[0]\n",
    "                if new_samples_num > 0:\n",
    "                    ## ONLY APPEND IF DATA EXISTS ##\n",
    "                    tot_samples += new_samples_num\n",
    "                    np.random.shuffle(samples)\n",
    "                    _, feature_length = samples.shape\n",
    "                    assert(feature_length == 8721)\n",
    "                    if first_batch:\n",
    "                        hdf5_dataset = hp5.create_dataset('phoenix', (new_samples_num, feature_length), maxshape=(None, feature_length), dtype='float32')\n",
    "                        hdf5_dataset[:] = samples\n",
    "                        first_batch = False\n",
    "\n",
    "                    hdf5_dataset.resize(tot_samples, axis=0)\n",
    "                    hdf5_dataset[-new_samples_num:] = samples\n",
    "    return \"DONE\"\n",
    "                "
   ]
  },
  {
   "cell_type": "code",
   "execution_count": null,
   "metadata": {
    "scrolled": true
   },
   "outputs": [
    {
     "name": "stderr",
     "output_type": "stream",
     "text": [
      "Total Progress:   0%|          | 0/6024 [00:00<?, ?it/s]"
     ]
    },
    {
     "name": "stdout",
     "output_type": "stream",
     "text": [
      "180110\n"
     ]
    },
    {
     "name": "stderr",
     "output_type": "stream",
     "text": [
      "Total Progress:   0%|          | 1/6024 [00:06<10:37:17,  6.35s/it]"
     ]
    },
    {
     "name": "stdout",
     "output_type": "stream",
     "text": [
      "140928\n"
     ]
    },
    {
     "name": "stderr",
     "output_type": "stream",
     "text": [
      "Total Progress:   0%|          | 2/6024 [00:12<10:33:49,  6.32s/it]"
     ]
    },
    {
     "name": "stdout",
     "output_type": "stream",
     "text": [
      "030202\n"
     ]
    },
    {
     "name": "stderr",
     "output_type": "stream",
     "text": [
      "Total Progress:   0%|          | 3/6024 [00:18<10:31:43,  6.30s/it]"
     ]
    },
    {
     "name": "stdout",
     "output_type": "stream",
     "text": [
      "150130\n"
     ]
    },
    {
     "name": "stderr",
     "output_type": "stream",
     "text": [
      "Total Progress:   0%|          | 4/6024 [00:25<10:31:46,  6.30s/it]"
     ]
    },
    {
     "name": "stdout",
     "output_type": "stream",
     "text": [
      "130206\n"
     ]
    },
    {
     "name": "stderr",
     "output_type": "stream",
     "text": [
      "Total Progress:   0%|          | 5/6024 [00:31<10:28:48,  6.27s/it]"
     ]
    },
    {
     "name": "stdout",
     "output_type": "stream",
     "text": [
      "060521\n"
     ]
    },
    {
     "name": "stderr",
     "output_type": "stream",
     "text": [
      "Total Progress:   0%|          | 6/6024 [00:37<10:28:20,  6.26s/it]"
     ]
    },
    {
     "name": "stdout",
     "output_type": "stream",
     "text": [
      "Meet cloud threshold. Cloud cover pct: 0.007746716066015493\n",
      "051118\n"
     ]
    },
    {
     "name": "stderr",
     "output_type": "stream",
     "text": [
      "Total Progress:   0%|          | 7/6024 [00:44<10:34:18,  6.33s/it]"
     ]
    },
    {
     "name": "stdout",
     "output_type": "stream",
     "text": [
      "Meet cloud threshold. Cloud cover pct: 0.0006736274840013472\n",
      "051209\n"
     ]
    },
    {
     "name": "stderr",
     "output_type": "stream",
     "text": [
      "Total Progress:   0%|          | 8/6024 [00:50<10:33:43,  6.32s/it]"
     ]
    },
    {
     "name": "stdout",
     "output_type": "stream",
     "text": [
      "Meet cloud threshold. Cloud cover pct: 0.03233411923206467\n",
      "070929\n"
     ]
    },
    {
     "name": "stderr",
     "output_type": "stream",
     "text": [
      "Total Progress:   0%|          | 9/6024 [00:56<10:30:30,  6.29s/it]"
     ]
    },
    {
     "name": "stdout",
     "output_type": "stream",
     "text": [
      "Meet cloud threshold. Cloud cover pct: 0.07611990569215224\n",
      "180321\n"
     ]
    },
    {
     "name": "stderr",
     "output_type": "stream",
     "text": [
      "Total Progress:   0%|          | 10/6024 [01:02<10:25:19,  6.24s/it]"
     ]
    },
    {
     "name": "stdout",
     "output_type": "stream",
     "text": [
      "110406\n"
     ]
    },
    {
     "name": "stderr",
     "output_type": "stream",
     "text": [
      "Total Progress:   0%|          | 11/6024 [01:08<10:23:46,  6.22s/it]"
     ]
    },
    {
     "name": "stdout",
     "output_type": "stream",
     "text": [
      "090125\n"
     ]
    },
    {
     "name": "stderr",
     "output_type": "stream",
     "text": [
      "Total Progress:   0%|          | 12/6024 [01:15<10:25:26,  6.24s/it]"
     ]
    },
    {
     "name": "stdout",
     "output_type": "stream",
     "text": [
      "130205\n"
     ]
    },
    {
     "name": "stderr",
     "output_type": "stream",
     "text": [
      "Total Progress:   0%|          | 13/6024 [01:21<10:22:05,  6.21s/it]"
     ]
    },
    {
     "name": "stdout",
     "output_type": "stream",
     "text": [
      "Meet cloud threshold. Cloud cover pct: 0.0003368137420006736\n",
      "180404\n"
     ]
    },
    {
     "name": "stderr",
     "output_type": "stream",
     "text": [
      "Total Progress:   0%|          | 14/6024 [01:27<10:18:55,  6.18s/it]"
     ]
    },
    {
     "name": "stdout",
     "output_type": "stream",
     "text": [
      "090322\n"
     ]
    },
    {
     "name": "stderr",
     "output_type": "stream",
     "text": [
      "Total Progress:   0%|          | 15/6024 [01:33<10:18:01,  6.17s/it]"
     ]
    },
    {
     "name": "stdout",
     "output_type": "stream",
     "text": [
      "Meet cloud threshold. Cloud cover pct: 0.0\n",
      "100724\n"
     ]
    },
    {
     "name": "stderr",
     "output_type": "stream",
     "text": [
      "Total Progress:   0%|          | 16/6024 [01:39<10:20:47,  6.20s/it]"
     ]
    },
    {
     "name": "stdout",
     "output_type": "stream",
     "text": [
      "Meet cloud threshold. Cloud cover pct: 0.03166049174806332\n",
      "030801\n"
     ]
    },
    {
     "name": "stderr",
     "output_type": "stream",
     "text": [
      "Total Progress:   0%|          | 17/6024 [01:46<10:22:08,  6.21s/it]"
     ]
    },
    {
     "name": "stdout",
     "output_type": "stream",
     "text": [
      "161130\n"
     ]
    },
    {
     "name": "stderr",
     "output_type": "stream",
     "text": [
      "Total Progress:   0%|          | 18/6024 [01:52<10:19:05,  6.18s/it]"
     ]
    },
    {
     "name": "stdout",
     "output_type": "stream",
     "text": [
      "Meet cloud threshold. Cloud cover pct: 0.0057258336140114515\n",
      "100629\n"
     ]
    },
    {
     "name": "stderr",
     "output_type": "stream",
     "text": [
      "Total Progress:   0%|          | 19/6024 [01:58<10:19:30,  6.19s/it]"
     ]
    },
    {
     "name": "stdout",
     "output_type": "stream",
     "text": [
      "Meet cloud threshold. Cloud cover pct: 0.010441226002020883\n",
      "071120\n"
     ]
    },
    {
     "name": "stderr",
     "output_type": "stream",
     "text": [
      "Total Progress:   0%|          | 20/6024 [02:04<10:22:50,  6.22s/it]"
     ]
    },
    {
     "name": "stdout",
     "output_type": "stream",
     "text": [
      "071028\n"
     ]
    },
    {
     "name": "stderr",
     "output_type": "stream",
     "text": [
      "Total Progress:   0%|          | 21/6024 [02:10<10:20:45,  6.20s/it]"
     ]
    },
    {
     "name": "stdout",
     "output_type": "stream",
     "text": [
      "170907\n"
     ]
    },
    {
     "name": "stderr",
     "output_type": "stream",
     "text": [
      "Total Progress:   0%|          | 22/6024 [02:17<10:18:51,  6.19s/it]"
     ]
    },
    {
     "name": "stdout",
     "output_type": "stream",
     "text": [
      "Meet cloud threshold. Cloud cover pct: 0.0\n",
      "051219\n"
     ]
    },
    {
     "name": "stderr",
     "output_type": "stream",
     "text": [
      "Total Progress:   0%|          | 23/6024 [02:23<10:26:48,  6.27s/it]"
     ]
    },
    {
     "name": "stdout",
     "output_type": "stream",
     "text": [
      "021215\n"
     ]
    },
    {
     "name": "stderr",
     "output_type": "stream",
     "text": [
      "Total Progress:   0%|          | 24/6024 [02:29<10:24:10,  6.24s/it]"
     ]
    },
    {
     "name": "stdout",
     "output_type": "stream",
     "text": [
      "061228\n"
     ]
    },
    {
     "name": "stderr",
     "output_type": "stream",
     "text": [
      "Total Progress:   0%|          | 25/6024 [02:35<10:22:15,  6.22s/it]"
     ]
    },
    {
     "name": "stdout",
     "output_type": "stream",
     "text": [
      "080302\n"
     ]
    },
    {
     "name": "stderr",
     "output_type": "stream",
     "text": [
      "Total Progress:   0%|          | 26/6024 [02:41<10:20:13,  6.20s/it]"
     ]
    },
    {
     "name": "stdout",
     "output_type": "stream",
     "text": [
      "Meet cloud threshold. Cloud cover pct: 0.0023576961940047153\n",
      "021011\n"
     ]
    },
    {
     "name": "stderr",
     "output_type": "stream",
     "text": [
      "Total Progress:   0%|          | 27/6024 [02:48<10:17:38,  6.18s/it]"
     ]
    },
    {
     "name": "stdout",
     "output_type": "stream",
     "text": [
      "030623\n"
     ]
    },
    {
     "name": "stderr",
     "output_type": "stream",
     "text": [
      "Total Progress:   0%|          | 28/6024 [02:54<10:16:12,  6.17s/it]"
     ]
    },
    {
     "name": "stdout",
     "output_type": "stream",
     "text": [
      "Meet cloud threshold. Cloud cover pct: 0.0\n",
      "080226\n"
     ]
    },
    {
     "name": "stderr",
     "output_type": "stream",
     "text": [
      "Total Progress:   0%|          | 29/6024 [03:00<10:15:49,  6.16s/it]"
     ]
    },
    {
     "name": "stdout",
     "output_type": "stream",
     "text": [
      "Meet cloud threshold. Cloud cover pct: 0.0\n",
      "030129\n"
     ]
    },
    {
     "name": "stderr",
     "output_type": "stream",
     "text": [
      "Total Progress:   0%|          | 30/6024 [03:06<10:17:22,  6.18s/it]"
     ]
    },
    {
     "name": "stdout",
     "output_type": "stream",
     "text": [
      "Meet cloud threshold. Cloud cover pct: 0.0003368137420006736\n",
      "030804\n"
     ]
    },
    {
     "name": "stderr",
     "output_type": "stream",
     "text": [
      "Total Progress:   1%|          | 31/6024 [03:12<10:15:21,  6.16s/it]"
     ]
    },
    {
     "name": "stdout",
     "output_type": "stream",
     "text": [
      "Meet cloud threshold. Cloud cover pct: 0.0006736274840013472\n",
      "141118\n"
     ]
    },
    {
     "name": "stderr",
     "output_type": "stream",
     "text": [
      "Total Progress:   1%|          | 32/6024 [03:18<10:15:46,  6.17s/it]"
     ]
    },
    {
     "name": "stdout",
     "output_type": "stream",
     "text": [
      "Meet cloud threshold. Cloud cover pct: 0.0023576961940047153\n",
      "160104\n"
     ]
    },
    {
     "name": "stderr",
     "output_type": "stream",
     "text": [
      "Total Progress:   1%|          | 33/6024 [03:25<10:14:58,  6.16s/it]"
     ]
    },
    {
     "name": "stdout",
     "output_type": "stream",
     "text": [
      "140116\n"
     ]
    },
    {
     "name": "stderr",
     "output_type": "stream",
     "text": [
      "Total Progress:   1%|          | 34/6024 [03:31<10:14:37,  6.16s/it]"
     ]
    },
    {
     "name": "stdout",
     "output_type": "stream",
     "text": [
      "Meet cloud threshold. Cloud cover pct: 0.015493432132030987\n",
      "121130\n"
     ]
    },
    {
     "name": "stderr",
     "output_type": "stream",
     "text": [
      "Total Progress:   1%|          | 35/6024 [03:37<10:13:31,  6.15s/it]"
     ]
    },
    {
     "name": "stdout",
     "output_type": "stream",
     "text": [
      "140428\n"
     ]
    },
    {
     "name": "stderr",
     "output_type": "stream",
     "text": [
      "Total Progress:   1%|          | 36/6024 [03:43<10:12:11,  6.13s/it]"
     ]
    },
    {
     "name": "stdout",
     "output_type": "stream",
     "text": [
      "Meet cloud threshold. Cloud cover pct: 0.0\n",
      "150708\n"
     ]
    },
    {
     "name": "stderr",
     "output_type": "stream",
     "text": [
      "Total Progress:   1%|          | 37/6024 [03:49<10:12:23,  6.14s/it]"
     ]
    },
    {
     "name": "stdout",
     "output_type": "stream",
     "text": [
      "Meet cloud threshold. Cloud cover pct: 0.011451667228022903\n",
      "060617\n"
     ]
    },
    {
     "name": "stderr",
     "output_type": "stream",
     "text": [
      "Total Progress:   1%|          | 38/6024 [03:55<10:12:07,  6.14s/it]"
     ]
    },
    {
     "name": "stdout",
     "output_type": "stream",
     "text": [
      "Meet cloud threshold. Cloud cover pct: 0.0\n",
      "090526\n"
     ]
    },
    {
     "name": "stderr",
     "output_type": "stream",
     "text": [
      "Total Progress:   1%|          | 39/6024 [04:01<10:15:10,  6.17s/it]"
     ]
    },
    {
     "name": "stdout",
     "output_type": "stream",
     "text": [
      "Meet cloud threshold. Cloud cover pct: 0.0\n",
      "040404\n"
     ]
    },
    {
     "name": "stderr",
     "output_type": "stream",
     "text": [
      "Total Progress:   1%|          | 40/6024 [04:08<10:20:08,  6.22s/it]"
     ]
    },
    {
     "name": "stdout",
     "output_type": "stream",
     "text": [
      "040623\n"
     ]
    },
    {
     "name": "stderr",
     "output_type": "stream",
     "text": [
      "Total Progress:   1%|          | 41/6024 [04:14<10:18:34,  6.20s/it]"
     ]
    },
    {
     "name": "stdout",
     "output_type": "stream",
     "text": [
      "Meet cloud threshold. Cloud cover pct: 0.08251936679016504\n",
      "070620\n"
     ]
    },
    {
     "name": "stderr",
     "output_type": "stream",
     "text": [
      "Total Progress:   1%|          | 42/6024 [04:20<10:17:24,  6.19s/it]"
     ]
    },
    {
     "name": "stdout",
     "output_type": "stream",
     "text": [
      "Meet cloud threshold. Cloud cover pct: 0.0\n",
      "160630\n"
     ]
    },
    {
     "name": "stderr",
     "output_type": "stream",
     "text": [
      "Total Progress:   1%|          | 43/6024 [04:27<10:48:48,  6.51s/it]"
     ]
    },
    {
     "name": "stdout",
     "output_type": "stream",
     "text": [
      "110119\n"
     ]
    },
    {
     "name": "stderr",
     "output_type": "stream",
     "text": [
      "Total Progress:   1%|          | 44/6024 [04:34<10:38:39,  6.41s/it]"
     ]
    },
    {
     "name": "stdout",
     "output_type": "stream",
     "text": [
      "091225\n"
     ]
    },
    {
     "name": "stderr",
     "output_type": "stream",
     "text": [
      "Total Progress:   1%|          | 45/6024 [04:40<10:32:45,  6.35s/it]"
     ]
    },
    {
     "name": "stdout",
     "output_type": "stream",
     "text": [
      "Meet cloud threshold. Cloud cover pct: 0.06736274840013473\n",
      "050123\n"
     ]
    },
    {
     "name": "stderr",
     "output_type": "stream",
     "text": [
      "Total Progress:   1%|          | 46/6024 [04:46<10:32:19,  6.35s/it]"
     ]
    },
    {
     "name": "stdout",
     "output_type": "stream",
     "text": [
      "170623\n"
     ]
    },
    {
     "name": "stderr",
     "output_type": "stream",
     "text": [
      "Total Progress:   1%|          | 47/6024 [04:52<10:28:17,  6.31s/it]"
     ]
    },
    {
     "name": "stdout",
     "output_type": "stream",
     "text": [
      "Meet cloud threshold. Cloud cover pct: 0.0\n",
      "070118\n"
     ]
    },
    {
     "name": "stderr",
     "output_type": "stream",
     "text": [
      "Total Progress:   1%|          | 48/6024 [04:59<10:26:53,  6.29s/it]"
     ]
    },
    {
     "name": "stdout",
     "output_type": "stream",
     "text": [
      "Meet cloud threshold. Cloud cover pct: 0.0932974065341866\n",
      "150424\n"
     ]
    },
    {
     "name": "stderr",
     "output_type": "stream",
     "text": [
      "Total Progress:   1%|          | 49/6024 [05:05<10:21:54,  6.25s/it]"
     ]
    },
    {
     "name": "stdout",
     "output_type": "stream",
     "text": [
      "140806\n"
     ]
    },
    {
     "name": "stderr",
     "output_type": "stream",
     "text": [
      "Total Progress:   1%|          | 50/6024 [05:11<10:21:53,  6.25s/it]"
     ]
    },
    {
     "name": "stdout",
     "output_type": "stream",
     "text": [
      "Meet cloud threshold. Cloud cover pct: 0.0\n",
      "060912\n"
     ]
    },
    {
     "name": "stderr",
     "output_type": "stream",
     "text": [
      "Total Progress:   1%|          | 51/6024 [05:17<10:18:56,  6.22s/it]"
     ]
    },
    {
     "name": "stdout",
     "output_type": "stream",
     "text": [
      "Meet cloud threshold. Cloud cover pct: 0.04782755136409565\n",
      "050415\n"
     ]
    },
    {
     "name": "stderr",
     "output_type": "stream",
     "text": [
      "Total Progress:   1%|          | 52/6024 [05:23<10:16:30,  6.19s/it]"
     ]
    },
    {
     "name": "stdout",
     "output_type": "stream",
     "text": [
      "061027\n"
     ]
    },
    {
     "name": "stderr",
     "output_type": "stream",
     "text": [
      "Total Progress:   1%|          | 53/6024 [05:30<10:19:01,  6.22s/it]"
     ]
    },
    {
     "name": "stdout",
     "output_type": "stream",
     "text": [
      "Meet cloud threshold. Cloud cover pct: 0.0\n",
      "131223\n"
     ]
    },
    {
     "name": "stderr",
     "output_type": "stream",
     "text": [
      "Total Progress:   1%|          | 54/6024 [05:36<10:18:27,  6.22s/it]"
     ]
    },
    {
     "name": "stdout",
     "output_type": "stream",
     "text": [
      "030610\n"
     ]
    },
    {
     "name": "stderr",
     "output_type": "stream",
     "text": [
      "Total Progress:   1%|          | 55/6024 [05:42<10:15:40,  6.19s/it]"
     ]
    },
    {
     "name": "stdout",
     "output_type": "stream",
     "text": [
      "140812\n"
     ]
    },
    {
     "name": "stderr",
     "output_type": "stream",
     "text": [
      "Total Progress:   1%|          | 56/6024 [05:48<10:18:17,  6.22s/it]"
     ]
    },
    {
     "name": "stdout",
     "output_type": "stream",
     "text": [
      "180211\n"
     ]
    },
    {
     "name": "stderr",
     "output_type": "stream",
     "text": [
      "Total Progress:   1%|          | 57/6024 [05:54<10:19:39,  6.23s/it]"
     ]
    },
    {
     "name": "stdout",
     "output_type": "stream",
     "text": [
      "Meet cloud threshold. Cloud cover pct: 0.0\n",
      "140603\n"
     ]
    },
    {
     "name": "stderr",
     "output_type": "stream",
     "text": [
      "Total Progress:   1%|          | 58/6024 [06:01<10:19:37,  6.23s/it]"
     ]
    },
    {
     "name": "stdout",
     "output_type": "stream",
     "text": [
      "080718\n"
     ]
    },
    {
     "name": "stderr",
     "output_type": "stream",
     "text": [
      "Total Progress:   1%|          | 59/6024 [06:07<10:20:00,  6.24s/it]"
     ]
    },
    {
     "name": "stdout",
     "output_type": "stream",
     "text": [
      "050327\n"
     ]
    },
    {
     "name": "stderr",
     "output_type": "stream",
     "text": [
      "Total Progress:   1%|          | 60/6024 [06:13<10:23:33,  6.27s/it]"
     ]
    },
    {
     "name": "stdout",
     "output_type": "stream",
     "text": [
      "110311\n"
     ]
    },
    {
     "name": "stderr",
     "output_type": "stream",
     "text": [
      "Total Progress:   1%|          | 61/6024 [06:19<10:21:02,  6.25s/it]"
     ]
    },
    {
     "name": "stdout",
     "output_type": "stream",
     "text": [
      "Meet cloud threshold. Cloud cover pct: 0.0\n",
      "080910\n"
     ]
    },
    {
     "name": "stderr",
     "output_type": "stream",
     "text": [
      "Total Progress:   1%|          | 62/6024 [06:26<10:20:33,  6.25s/it]"
     ]
    },
    {
     "name": "stdout",
     "output_type": "stream",
     "text": [
      "151212\n"
     ]
    },
    {
     "name": "stderr",
     "output_type": "stream",
     "text": [
      "Total Progress:   1%|          | 63/6024 [06:32<10:21:03,  6.25s/it]"
     ]
    },
    {
     "name": "stdout",
     "output_type": "stream",
     "text": [
      "040504\n"
     ]
    },
    {
     "name": "stderr",
     "output_type": "stream",
     "text": [
      "Total Progress:   1%|          | 64/6024 [06:38<10:18:45,  6.23s/it]"
     ]
    },
    {
     "name": "stdout",
     "output_type": "stream",
     "text": [
      "Meet cloud threshold. Cloud cover pct: 0.0\n",
      "081009\n"
     ]
    },
    {
     "name": "stderr",
     "output_type": "stream",
     "text": [
      "Total Progress:   1%|          | 65/6024 [06:44<10:17:37,  6.22s/it]"
     ]
    },
    {
     "name": "stdout",
     "output_type": "stream",
     "text": [
      "Meet cloud threshold. Cloud cover pct: 0.0\n",
      "110326\n"
     ]
    },
    {
     "name": "stderr",
     "output_type": "stream",
     "text": [
      "Total Progress:   1%|          | 66/6024 [06:51<10:17:10,  6.22s/it]"
     ]
    },
    {
     "name": "stdout",
     "output_type": "stream",
     "text": [
      "Meet cloud threshold. Cloud cover pct: 0.02761872684405524\n",
      "080808\n"
     ]
    },
    {
     "name": "stderr",
     "output_type": "stream",
     "text": [
      "Total Progress:   1%|          | 67/6024 [06:57<10:21:16,  6.26s/it]"
     ]
    },
    {
     "name": "stdout",
     "output_type": "stream",
     "text": [
      "080330\n"
     ]
    },
    {
     "name": "stderr",
     "output_type": "stream",
     "text": [
      "Total Progress:   1%|          | 68/6024 [07:03<10:20:17,  6.25s/it]"
     ]
    },
    {
     "name": "stdout",
     "output_type": "stream",
     "text": [
      "Meet cloud threshold. Cloud cover pct: 0.0\n",
      "040701\n"
     ]
    },
    {
     "name": "stderr",
     "output_type": "stream",
     "text": [
      "Total Progress:   1%|          | 69/6024 [07:09<10:19:22,  6.24s/it]"
     ]
    },
    {
     "name": "stdout",
     "output_type": "stream",
     "text": [
      "Meet cloud threshold. Cloud cover pct: 0.0\n",
      "180704\n"
     ]
    },
    {
     "name": "stderr",
     "output_type": "stream",
     "text": [
      "Total Progress:   1%|          | 70/6024 [07:15<10:17:06,  6.22s/it]"
     ]
    },
    {
     "name": "stdout",
     "output_type": "stream",
     "text": [
      "Meet cloud threshold. Cloud cover pct: 0.07342539575614684\n",
      "071201\n"
     ]
    },
    {
     "name": "stderr",
     "output_type": "stream",
     "text": [
      "Total Progress:   1%|          | 71/6024 [07:22<10:16:07,  6.21s/it]"
     ]
    },
    {
     "name": "stdout",
     "output_type": "stream",
     "text": [
      "040512\n"
     ]
    },
    {
     "name": "stderr",
     "output_type": "stream",
     "text": [
      "Total Progress:   1%|          | 72/6024 [07:28<10:17:38,  6.23s/it]"
     ]
    },
    {
     "name": "stdout",
     "output_type": "stream",
     "text": [
      "Meet cloud threshold. Cloud cover pct: 0.0\n",
      "070907\n"
     ]
    },
    {
     "name": "stderr",
     "output_type": "stream",
     "text": [
      "Total Progress:   1%|          | 73/6024 [07:34<10:15:44,  6.21s/it]"
     ]
    },
    {
     "name": "stdout",
     "output_type": "stream",
     "text": [
      "Meet cloud threshold. Cloud cover pct: 0.10946446615021893\n",
      "100829\n"
     ]
    },
    {
     "name": "stderr",
     "output_type": "stream",
     "text": [
      "Total Progress:   1%|          | 74/6024 [07:40<10:14:50,  6.20s/it]"
     ]
    },
    {
     "name": "stdout",
     "output_type": "stream",
     "text": [
      "120413\n"
     ]
    },
    {
     "name": "stderr",
     "output_type": "stream",
     "text": [
      "Total Progress:   1%|          | 75/6024 [07:46<10:14:02,  6.19s/it]"
     ]
    },
    {
     "name": "stdout",
     "output_type": "stream",
     "text": [
      "040315\n"
     ]
    },
    {
     "name": "stderr",
     "output_type": "stream",
     "text": [
      "Total Progress:   1%|▏         | 76/6024 [07:53<10:13:58,  6.19s/it]"
     ]
    },
    {
     "name": "stdout",
     "output_type": "stream",
     "text": [
      "Meet cloud threshold. Cloud cover pct: 0.0\n",
      "060110\n"
     ]
    }
   ],
   "source": [
    "extract_data(PATH_TO_STORE)"
   ]
  },
  {
   "cell_type": "code",
   "execution_count": null,
   "metadata": {},
   "outputs": [],
   "source": [
    "f = h5py.File(PATH_TO_STORE, 'r')"
   ]
  },
  {
   "cell_type": "code",
   "execution_count": null,
   "metadata": {},
   "outputs": [],
   "source": [
    "\n"
   ]
  }
 ],
 "metadata": {
  "kernelspec": {
   "display_name": "NPL3 (my_npl_clone)",
   "language": "python",
   "name": "npl3-my_npl_clone"
  },
  "language_info": {
   "codemirror_mode": {
    "name": "ipython",
    "version": 3
   },
   "file_extension": ".py",
   "mimetype": "text/x-python",
   "name": "python",
   "nbconvert_exporter": "python",
   "pygments_lexer": "ipython3",
   "version": "3.7.9"
  },
  "toc": {
   "base_numbering": 1,
   "nav_menu": {},
   "number_sections": true,
   "sideBar": true,
   "skip_h1_title": false,
   "title_cell": "Table of Contents",
   "title_sidebar": "Contents",
   "toc_cell": false,
   "toc_position": {},
   "toc_section_display": true,
   "toc_window_display": false
  }
 },
 "nbformat": 4,
 "nbformat_minor": 5
}
