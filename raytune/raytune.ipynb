{
 "cells": [
  {
   "cell_type": "code",
   "execution_count": 1,
   "id": "f733127c",
   "metadata": {},
   "outputs": [],
   "source": [
    "import os\n",
    "import argparse\n",
    "from filelock import FileLock\n",
    "import torch\n",
    "import torch.nn as nn\n",
    "import torch.nn.functional as F\n",
    "import torch.optim as optim\n",
    "import torchvision.transforms as transforms\n",
    "import ray\n",
    "from ray import tune\n",
    "from ray.tune.schedulers import AsyncHyperBandScheduler\n",
    "from ray.tune.suggest.hyperopt import HyperOptSearch\n",
    "from ray.tune.suggest import ConcurrencyLimiter\n",
    "import webdataset as wds\n",
    "import random\n",
    "import numpy as np\n",
    "from typing import Type, Any, Callable, Union, List, Optional\n",
    "from torch import Tensor\n",
    "\n",
    "\n",
    "PATH_TO_DATA =  \"/mnt/analysis/analysis/rand_sharded_data/\" \n",
    "\n",
    "EPOCHS = 50\n",
    "BATCH_SIZE = 512"
   ]
  },
  {
   "cell_type": "code",
   "execution_count": 2,
   "id": "0749b579",
   "metadata": {},
   "outputs": [],
   "source": [
    "image_normalize = transforms.Normalize(\n",
    "                  mean=[0, 0, 0, 0, 4.0999e+02],\n",
    "                  std=[1, 1, 1, 1, 7.4237e+01]\n",
    ")\n",
    "#with clipping to 600: 4.0999e+02, 7.4237e+01\n",
    "#without clipping: 4.1454e+02, 8.9422e+01\n",
    "\n",
    "forcing_normalize = transforms.Normalize(\n",
    "                  mean=[444.9605606256559, 991.7980623653417, 0.00039606951184754176, 96111.04161525163, 0.006652783216819315, 314.3219695851273, 2.82168247768119],\n",
    "                  std=[5.5216369223813535, 12.951212256256913, 0.0002824274832735609, 975.3770569179914, 0.00012386107613000674, 0.6004463118907452, 0.34279194598853185]\n",
    ")\n",
    "\n",
    "elevation_mean = torch.from_numpy(np.array([4.0999e+02]))\n",
    "elevation_std = torch.from_numpy(np.array([7.4237e+01]))\n",
    "\n",
    "forcing_mean = torch.from_numpy(np.array([444.9605606256559, 991.7980623653417, 0.00039606951184754176, 96111.04161525163, 0.006652783216819315, 314.3219695851273, 2.82168247768119]))\n",
    "forcing_std = torch.from_numpy(np.array([5.5216369223813535, 12.951212256256913, 0.0002824274832735609, 975.3770569179914, 0.00012386107613000674, 0.6004463118907452, 0.34279194598853185]))\n",
    "\n",
    "lst_mean = torch.from_numpy(np.array([312.8291360088677]))\n",
    "lst_std = torch.from_numpy(np.array([11.376636496297289]))"
   ]
  },
  {
   "cell_type": "code",
   "execution_count": 3,
   "id": "813b7ba0",
   "metadata": {},
   "outputs": [],
   "source": [
    "def create_train_test(path_to_data, train_perc, test_perc):\n",
    "    files = []\n",
    "    for dirpath, dirnames, filenames in os.walk(path_to_data):\n",
    "        files.extend(filenames)\n",
    "    \n",
    "    saturated = files[:-1]\n",
    "    unsaturated = files[-1]\n",
    "    \n",
    "    dataset = wds.WebDataset(path_to_data + \"/\" + unsaturated)\n",
    "    counter = 0\n",
    "    for data in dataset:\n",
    "        counter += 1\n",
    "    \n",
    "    total_files = counter + len(saturated) * 10000\n",
    "    training_data = total_files * train_perc //10000\n",
    "    test_data_files = total_files * test_perc //10000\n",
    "\n",
    "    training_data = random.sample(files, int(training_data))\n",
    "    test_data = [file for file in files if file not in training_data]\n",
    "    test_data = random.sample(test_data, int(test_data_files))\n",
    "    # Get sample sizes of train and test data\n",
    "    training_samples = 0\n",
    "    testing_samples = 0\n",
    "    \n",
    "    for path in training_data:\n",
    "        if path in saturated:\n",
    "            training_samples += 10000\n",
    "        elif path in unsaturated:\n",
    "            training_samples += counter\n",
    "            \n",
    "    for path in test_data:\n",
    "        if path in saturated:\n",
    "            testing_samples += 10000\n",
    "        elif path in unsaturated:\n",
    "            testing_samples += counter\n",
    "            \n",
    "            \n",
    "    # Convert to filename lists \n",
    "    training_filepath = []\n",
    "    for dat in training_data:\n",
    "        training_filepath.append(dat[6:12])\n",
    "    training_path = path_to_data + \"shard-\" + \"{\" + \",\".join(training_filepath) + \"}\" + \".tar\"\n",
    "    \n",
    "    testing_filepath = []\n",
    "    for dat in test_data:\n",
    "        testing_filepath.append(dat[6:12])\n",
    "    testing_path = path_to_data + \"shard-{\" + \",\".join(testing_filepath) +\"}.tar\"\n",
    "    train_data = wds.WebDataset(training_path).shuffle(30000, initial=30000).decode(\"rgb\").rename(image=\"image.pyd\", forcing=\"forcing.pyd\", lst = \"lst.pyd\").to_tuple(\"image\", \"forcing\", \"lst\")\n",
    "    test_data = wds.WebDataset(testing_path).decode(\"rgb\").shuffle(30000, initial=30000).rename(image=\"image.pyd\", forcing=\"forcing.pyd\", lst = \"lst.pyd\").to_tuple(\"image\", \"forcing\", \"lst\")\n",
    "    \n",
    "    all_filepath = []\n",
    "    for dat in saturated:\n",
    "        all_filepath.append(dat[6:12])\n",
    "    all_path = path_to_data + \"shard-\" + \"{\" + \",\".join(all_filepath) + \"}\" + \".tar\"\n",
    "    \n",
    "    all_data = wds.WebDataset(all_path).decode(\"rgb\").rename(image=\"image.pyd\", forcing=\"forcing.pyd\", lst = \"lst.pyd\").to_tuple(\"image\", \"forcing\", \"lst\")\n",
    "   \n",
    "    train_loader = torch.utils.data.DataLoader(train_data, batch_size=BATCH_SIZE)\n",
    "    test_loader = torch.utils.data.DataLoader(test_data, batch_size=BATCH_SIZE)\n",
    "\n",
    "    return (train_loader, training_samples), (test_loader, testing_samples), all_data\n",
    "    \n",
    "(train_loader, training_samples_len), (test_loader, testing_samples_len), all_data = create_train_test(PATH_TO_DATA, 0.9, 0.1)"
   ]
  },
  {
   "cell_type": "code",
   "execution_count": 4,
   "id": "58d93189",
   "metadata": {},
   "outputs": [],
   "source": [
    "\n",
    "def process_data(image, forcing, lst, DEVICE):\n",
    "    image, forcing, lst = image.to(DEVICE).to(torch.float32), forcing.to(DEVICE), lst.to(DEVICE)\n",
    "    # Image Transformations\n",
    "    image[:,4,] = torch.clip(image[:,4,], min=0, max=600)\n",
    "    image[:,:4,] = torch.clip(image[:,:4,], min=0, max=1)\n",
    "    image = image_normalize(image)\n",
    "    # Forcing Transformation\n",
    "    forcing = torch.div(torch.sub(forcing, forcing_mean), forcing_std).to(torch.float32)\n",
    "    # LST Transformation\n",
    "    lst = lst.view(-1, 1).to(torch.float32)\n",
    "    return image, forcing, lst\n",
    "\n",
    "\n",
    "def conv3x3(in_planes: int, out_planes: int, stride: int = 1, groups: int = 1, dilation: int = 1) -> nn.Conv2d:\n",
    "    \"\"\"3x3 convolution with padding\"\"\"\n",
    "    return nn.Conv2d(\n",
    "        in_planes,\n",
    "        out_planes,\n",
    "        kernel_size=3,\n",
    "        stride=stride,\n",
    "        padding=dilation,\n",
    "        groups=groups,\n",
    "        bias=False,\n",
    "        dilation=dilation,\n",
    "    )\n",
    "\n",
    "\n",
    "def conv1x1(in_planes: int, out_planes: int, stride: int = 1) -> nn.Conv2d:\n",
    "    \"\"\"1x1 convolution\"\"\"\n",
    "    return nn.Conv2d(in_planes, out_planes, kernel_size=1, stride=stride, bias=False)\n",
    "\n",
    "\n",
    "class BasicBlock(nn.Module):\n",
    "    expansion: int = 1\n",
    "\n",
    "    def __init__(\n",
    "        self,\n",
    "        inplanes: int,\n",
    "        planes: int,\n",
    "        stride: int = 1,\n",
    "        downsample: Optional[nn.Module] = None,\n",
    "        groups: int = 1,\n",
    "        base_width: int = 64,\n",
    "        dilation: int = 1,\n",
    "        norm_layer: Optional[Callable[..., nn.Module]] = None,\n",
    "    ) -> None:\n",
    "        super().__init__()\n",
    "        if norm_layer is None:\n",
    "            norm_layer = nn.BatchNorm2d\n",
    "        if groups != 1 or base_width != 64:\n",
    "            raise ValueError(\"BasicBlock only supports groups=1 and base_width=64\")\n",
    "        if dilation > 1:\n",
    "            raise NotImplementedError(\"Dilation > 1 not supported in BasicBlock\")\n",
    "        # Both self.conv1 and self.downsample layers downsample the input when stride != 1\n",
    "        self.conv1 = conv3x3(inplanes, planes, stride)\n",
    "        self.bn1 = norm_layer(planes)\n",
    "        self.relu = nn.ReLU(inplace=True)\n",
    "        self.conv2 = conv3x3(planes, planes)\n",
    "        self.bn2 = norm_layer(planes)\n",
    "        self.downsample = downsample\n",
    "        self.stride = stride\n",
    "\n",
    "    def forward(self, x: Tensor) -> Tensor:\n",
    "        identity = x\n",
    "\n",
    "        out = self.conv1(x)\n",
    "        out = self.bn1(out)\n",
    "        out = F.leaky_relu(out)\n",
    "\n",
    "        out = self.conv2(out)\n",
    "        out = self.bn2(out)\n",
    "\n",
    "        if self.downsample is not None:\n",
    "            identity = self.downsample(x)\n",
    "\n",
    "        out += identity\n",
    "        out = F.leaky_relu(out)\n",
    "\n",
    "        return out\n",
    "\n",
    "class ResNet(nn.Module):\n",
    "    def __init__(\n",
    "        self,\n",
    "        block=BasicBlock,\n",
    "        layer_1_num=3,\n",
    "        layer_2_num=3,\n",
    "        layer_3_num=0,\n",
    "        layer_4_num=0,\n",
    "        linear_1 = 64,\n",
    "        linear_2 = 32,\n",
    "        drop_1_p = 0.2,\n",
    "        drop_2_p = 0.2,\n",
    "        in_channel=5,\n",
    "        forcing_shape = 7,\n",
    "        zero_init_residual: bool = False,\n",
    "        groups: int = 1,\n",
    "        width_per_group: int = 64,\n",
    "        replace_stride_with_dilation: Optional[List[bool]] = None,\n",
    "        norm_layer: Optional[Callable[..., nn.Module]] = None,\n",
    "    ) -> None:\n",
    "        super().__init__()\n",
    "        if norm_layer is None:\n",
    "            norm_layer = nn.BatchNorm2d\n",
    "        self._norm_layer = norm_layer\n",
    "\n",
    "        self.inplanes = 64\n",
    "        self.dilation = 1\n",
    "        if replace_stride_with_dilation is None:\n",
    "            # each element in the tuple indicates if we should replace\n",
    "            # the 2x2 stride with a dilated convolution instead\n",
    "            replace_stride_with_dilation = [False, False, False]\n",
    "        if len(replace_stride_with_dilation) != 3:\n",
    "            raise ValueError(\n",
    "                \"replace_stride_with_dilation should be None \"\n",
    "                f\"or a 3-element tuple, got {replace_stride_with_dilation}\"\n",
    "            )\n",
    "        self.groups = groups\n",
    "        self.base_width = width_per_group\n",
    "        self.flatten_shape = None\n",
    "        \n",
    "        self.layer_1_num = layer_1_num\n",
    "        self.layer_2_num = layer_2_num\n",
    "        self.layer_3_num = layer_3_num\n",
    "        self.layer_4_num = layer_4_num\n",
    "        \n",
    "        self.conv1 = nn.Conv2d(in_channel, self.inplanes, kernel_size=7, stride=2, padding=3, bias=False)\n",
    "        self.bn1 = norm_layer(self.inplanes)\n",
    "        self.relu = nn.ReLU(inplace=True)\n",
    "        self.avgpool1 = nn.AvgPool2d(2)\n",
    "        self.layer1 = self._make_layer(block, 64, layer_1_num)\n",
    "        self.layer2 = self._make_layer(block, 128, layer_2_num, stride=2, dilate=replace_stride_with_dilation[0])\n",
    "        if self.layer_3_num != 0:\n",
    "            self.layer3 = self._make_layer(block, 256, layer_3_num, stride=2, dilate=replace_stride_with_dilation[1])\n",
    "        if self.layer_4_num != 0:\n",
    "            self.layer4 = self._make_layer(block, 512, layer_4_num, stride=2, dilate=replace_stride_with_dilation[2])\n",
    "        self.avgpool2 = nn.AdaptiveAvgPool2d((1,1))\n",
    "        \n",
    "        self.linear_shape = None\n",
    "        if self.linear_shape is None:\n",
    "            randn = torch.randn((12, 5, 33, 33))\n",
    "            with torch.no_grad():\n",
    "                out = self.convolutions(randn)\n",
    "                self.linear_shape = out.shape[1] *out.shape[2]* out.shape[3] + 7\n",
    "        self.fc0 = nn.Linear(self.linear_shape, out_features=linear_1)\n",
    "        self.drop1 = nn.Dropout(drop_1_p)\n",
    "        self.fc1 = nn.Linear(linear_1, linear_2)\n",
    "        self.drop2 = nn.Dropout(drop_2_p)\n",
    "        self.fc2 = nn.Linear(linear_2, out_features=1)\n",
    "\n",
    "        for m in self.modules():\n",
    "            if isinstance(m, nn.Conv2d):\n",
    "                nn.init.kaiming_normal_(m.weight, mode=\"fan_out\", nonlinearity=\"relu\")\n",
    "            elif isinstance(m, (nn.BatchNorm2d, nn.GroupNorm)):\n",
    "                nn.init.constant_(m.weight, 1)\n",
    "                nn.init.constant_(m.bias, 0)\n",
    "\n",
    "        # Zero-initialize the last BN in each residual branch,\n",
    "        # so that the residual branch starts with zeros, and each residual block behaves like an identity.\n",
    "        # This improves the model by 0.2~0.3% according to https://arxiv.org/abs/1706.02677\n",
    "        if zero_init_residual:\n",
    "            for m in self.modules():\n",
    "                if isinstance(m, BasicBlock):\n",
    "                    nn.init.constant_(m.bn2.weight, 0)  # type: ignore[arg-type]\n",
    "    \n",
    "    def _make_layer(\n",
    "        self,\n",
    "        block,\n",
    "        planes: int,\n",
    "        blocks: int,\n",
    "        stride: int = 1,\n",
    "        dilate: bool = False,\n",
    "    ) -> nn.Sequential:\n",
    "        norm_layer = self._norm_layer\n",
    "        downsample = None\n",
    "        previous_dilation = self.dilation\n",
    "        if dilate:\n",
    "            self.dilation *= stride\n",
    "            stride = 1\n",
    "        if stride != 1 or self.inplanes != planes * block.expansion:\n",
    "            downsample = nn.Sequential(\n",
    "                conv1x1(self.inplanes, planes * block.expansion, stride),\n",
    "                norm_layer(planes * block.expansion),\n",
    "            )\n",
    "\n",
    "        layers = nn.ModuleList([])\n",
    "        layers.append(\n",
    "            block(\n",
    "                self.inplanes, planes, stride, downsample, self.groups, self.base_width, previous_dilation, norm_layer\n",
    "            )\n",
    "        )\n",
    "        self.inplanes = planes * block.expansion\n",
    "        for _ in range(1, blocks):\n",
    "            layers.append(\n",
    "                block(\n",
    "                    self.inplanes,\n",
    "                    planes,\n",
    "                    groups=self.groups,\n",
    "                    base_width=self.base_width,\n",
    "                    dilation=self.dilation,\n",
    "                    norm_layer=norm_layer,\n",
    "                )\n",
    "            )\n",
    "\n",
    "        return nn.Sequential(*layers)\n",
    "    \n",
    "    def convolutions(self, x):\n",
    "        x = self.conv1(x)\n",
    "        x = self.bn1(x)\n",
    "        x = F.leaky_relu(x)\n",
    "        x = self.avgpool1(x)\n",
    "\n",
    "        x = self.layer1(x)\n",
    "        x = self.layer2(x)\n",
    "        if self.layer_3_num != 0:\n",
    "            x = self.layer3(x)\n",
    "        if self.layer_4_num != 0:\n",
    "            x = self.layer4(x)\n",
    "        x = self.avgpool2(x)\n",
    "        return x\n",
    "        \n",
    "    def forward(self, x: Tensor, forcing) -> Tensor:\n",
    "        # See note [TorchScript super()]\n",
    "        x = self.convolutions(x)\n",
    "        x = torch.flatten(x, 1)\n",
    "        x = torch.cat((x, forcing), dim=1)\n",
    "        x = self.fc0(x)\n",
    "        x = F.leaky_relu(x)\n",
    "        x = self.fc1(x)\n",
    "        x = F.leaky_relu(x)\n",
    "        x = self.drop1(x)\n",
    "        x = self.fc2(x)\n",
    "\n",
    "        return x\n",
    "## OPTIMIZE PARAMS ###\n",
    "# layer_1_num=3,\n",
    "# layer_2_num=3,\n",
    "# layer_3_num=0,\n",
    "# layer_4_num=0,\n",
    "# linear_1 = 64,\n",
    "# linear_2 = 32,\n",
    "# drop_1_p = 0.2,\n",
    "# drop_2_p = 0.2,"
   ]
  },
  {
   "cell_type": "code",
   "execution_count": 5,
   "id": "ac47bd14",
   "metadata": {},
   "outputs": [],
   "source": [
    "def train_model(model, optimizer, train_loader, device=None):\n",
    "    device = device or torch.device(\"cpu\")\n",
    "    model.train()\n",
    "    loss_fn = nn.SmoothL1Loss()\n",
    "    for epoch in range(EPOCHS):\n",
    "        for image, forcing, lst in train_loader:\n",
    "            image, forcing, lst = process_data(image, forcing, lst, device)\n",
    "            optimizer.zero_grad()\n",
    "            forward_out = model.forward(image, forcing)\n",
    "            loss = loss_fn(forward_out, lst)\n",
    "            loss.backward()\n",
    "            optimizer.step()\n",
    "            \n",
    "def test_model(model, test_loader, device=None):\n",
    "    device=device or torch.device(\"cpu\")\n",
    "    model.eval()\n",
    "    running_loss = 0\n",
    "    n_iter = 0\n",
    "    loss_fn = nn.MSELoss()\n",
    "    with torch.no_grad():\n",
    "        for image, forcing, lst in test_loader:\n",
    "            image, forcing, lst = process_data(image, forcing, lst, device)\n",
    "            forward_out = model(iamge, forcing)\n",
    "            loss = loss_fn(forward_out, lst)\n",
    "            running_loss += loss.item()\n",
    "            n_iter += 1\n",
    "    return running_loss / n_iter\n",
    "            \n",
    "def training_script(config):\n",
    "    use_cuda = torch.cuda.is_available()\n",
    "    device = torch.device(\"cuda\" if use_cuda else \"cpu\")\n",
    "    (train_loader, _), (test_loader, _), _ = create_train_test(PATH_TO_DATA, 0.9, 0.1)\n",
    "    model = ResNet(layer_1_num = config[\"layer_1_num\"],\n",
    "                   layer_2_num = config[\"layer_2_num\"],\n",
    "                   layer_3_num = config[\"layer_3_num\"],\n",
    "                   layer_4_num = config[\"layer_4_num\"],\n",
    "                   linear_1 = config[\"linear_1\"],\n",
    "                   linear_2 = config[\"linear_2\"],\n",
    "                   drop_1_p = config[\"drop_1_p\"],\n",
    "                   drop_2_p = config[\"drop_2_p\"])\n",
    "    optimizer = optim.AdamW(model.parameters(), lr=config[\"lr\"], weight_decay=config[\"weight_decay\"])\n",
    "    \n",
    "    while True:\n",
    "        train_model(model, optimizer, train_loader, device)\n",
    "        acc = test_model(model, test_loader, device)\n",
    "        tune.report(mean_accuracy=acc)\n",
    "        "
   ]
  },
  {
   "cell_type": "code",
   "execution_count": 6,
   "id": "85546a46",
   "metadata": {},
   "outputs": [],
   "source": [
    "ray.init(num_cpus=1, num_gpus=2)\n",
    "sched = AsyncHyperBandScheduler()\n",
    "algo = HyperOptSearch()"
   ]
  },
  {
   "cell_type": "code",
   "execution_count": 7,
   "id": "8abdf342",
   "metadata": {},
   "outputs": [],
   "source": [
    "config = {\n",
    "    \"layer_1_num\": tune.choice([1, 2, 3]),\n",
    "    \"layer_2_num\": tune.choice([1, 2, 3]),\n",
    "    \"layer_3_num\": tune.choice([0, 1, 2, 3]),\n",
    "    \"layer_4_num\": tune.choice([0, 1, 2, 3]),\n",
    "    \"linear_1\": tune.randint(12, 100),\n",
    "    \"linear_2\": tune.randint(12, 100),\n",
    "    \"drop_1_p\": tune.uniform(0, 0.6),\n",
    "    \"drop_2_p\": tune.uniform(0, 0.6),\n",
    "    \"lr\": tune.uniform(1e-5, 1e-2),\n",
    "    \"weight_decay\": tune.uniform(1e-3, 1e-2),\n",
    "}"
   ]
  },
  {
   "cell_type": "code",
   "execution_count": null,
   "id": "774d78f4",
   "metadata": {},
   "outputs": [
    {
     "name": "stderr",
     "output_type": "stream",
     "text": [
      "2022-04-18 08:42:23,659\tWARNING function_runner.py:598 -- Function checkpointing is disabled. This may result in unexpected behavior when using checkpointing features or certain schedulers. To enable, set the train function arguments to be `func(config, checkpoint_dir=None)`.\n",
      "2022-04-18 08:42:23,849\tINFO trial_runner.py:803 -- starting training_script_609639a0\n"
     ]
    },
    {
     "data": {
      "text/html": [
       "== Status ==<br>Current time: 2022-04-18 08:42:25 (running for 00:00:02.01)<br>Memory usage on this node: 8.2/62.7 GiB<br>Using AsyncHyperBand: num_stopped=0\n",
       "Bracket: Iter 64.000: None | Iter 16.000: None | Iter 4.000: None | Iter 1.000: None<br>Resources requested: 1.0/1 CPUs, 1.0/2 GPUs, 0.0/33.52 GiB heap, 0.0/16.76 GiB objects (0.0/1.0 accelerator_type:RTX)<br>Result logdir: /mnt/analysis/analysis/Research/TransferLearning4UrbanClimate/raytune/exp<br>Number of trials: 1/20 (1 RUNNING)<br><table>\n",
       "<thead>\n",
       "<tr><th>Trial name              </th><th>status  </th><th>loc                </th><th style=\"text-align: right;\">  drop_1_p</th><th style=\"text-align: right;\">  drop_2_p</th><th style=\"text-align: right;\">  layer_1_num</th><th style=\"text-align: right;\">  layer_2_num</th><th style=\"text-align: right;\">  layer_3_num</th><th style=\"text-align: right;\">  layer_4_num</th><th style=\"text-align: right;\">  linear_1</th><th style=\"text-align: right;\">  linear_2</th><th style=\"text-align: right;\">        lr</th><th style=\"text-align: right;\">  weight_decay</th></tr>\n",
       "</thead>\n",
       "<tbody>\n",
       "<tr><td>training_script_609639a0</td><td>RUNNING </td><td>192.168.1.108:64474</td><td style=\"text-align: right;\">  0.198334</td><td style=\"text-align: right;\"> 0.0513232</td><td style=\"text-align: right;\">            1</td><td style=\"text-align: right;\">            3</td><td style=\"text-align: right;\">            3</td><td style=\"text-align: right;\">            2</td><td style=\"text-align: right;\">        64</td><td style=\"text-align: right;\">        88</td><td style=\"text-align: right;\">0.00888175</td><td style=\"text-align: right;\">    0.00317946</td></tr>\n",
       "</tbody>\n",
       "</table><br><br>"
      ],
      "text/plain": [
       "<IPython.core.display.HTML object>"
      ]
     },
     "metadata": {},
     "output_type": "display_data"
    },
    {
     "name": "stderr",
     "output_type": "stream",
     "text": [
      "\u001b[2m\u001b[36m(training_script pid=64474)\u001b[0m /home/priyammazumdar/anaconda3/envs/research/lib/python3.9/site-packages/torch/cuda/__init__.py:80: UserWarning: CUDA initialization: CUDA unknown error - this may be due to an incorrectly set up environment, e.g. changing env variable CUDA_VISIBLE_DEVICES after program start. Setting the available devices to be zero. (Triggered internally at  /opt/conda/conda-bld/pytorch_1634272068185/work/c10/cuda/CUDAFunctions.cpp:112.)\n",
      "\u001b[2m\u001b[36m(training_script pid=64474)\u001b[0m   return torch._C._cuda_getDeviceCount() > 0\n"
     ]
    },
    {
     "data": {
      "text/html": [
       "== Status ==<br>Current time: 2022-04-18 08:42:30 (running for 00:00:07.03)<br>Memory usage on this node: 8.7/62.7 GiB<br>Using AsyncHyperBand: num_stopped=0\n",
       "Bracket: Iter 64.000: None | Iter 16.000: None | Iter 4.000: None | Iter 1.000: None<br>Resources requested: 1.0/1 CPUs, 1.0/2 GPUs, 0.0/33.52 GiB heap, 0.0/16.76 GiB objects (0.0/1.0 accelerator_type:RTX)<br>Result logdir: /mnt/analysis/analysis/Research/TransferLearning4UrbanClimate/raytune/exp<br>Number of trials: 2/20 (1 PENDING, 1 RUNNING)<br><table>\n",
       "<thead>\n",
       "<tr><th>Trial name              </th><th>status  </th><th>loc                </th><th style=\"text-align: right;\">  drop_1_p</th><th style=\"text-align: right;\">  drop_2_p</th><th style=\"text-align: right;\">  layer_1_num</th><th style=\"text-align: right;\">  layer_2_num</th><th style=\"text-align: right;\">  layer_3_num</th><th style=\"text-align: right;\">  layer_4_num</th><th style=\"text-align: right;\">  linear_1</th><th style=\"text-align: right;\">  linear_2</th><th style=\"text-align: right;\">        lr</th><th style=\"text-align: right;\">  weight_decay</th></tr>\n",
       "</thead>\n",
       "<tbody>\n",
       "<tr><td>training_script_609639a0</td><td>RUNNING </td><td>192.168.1.108:64474</td><td style=\"text-align: right;\">  0.198334</td><td style=\"text-align: right;\"> 0.0513232</td><td style=\"text-align: right;\">            1</td><td style=\"text-align: right;\">            3</td><td style=\"text-align: right;\">            3</td><td style=\"text-align: right;\">            2</td><td style=\"text-align: right;\">        64</td><td style=\"text-align: right;\">        88</td><td style=\"text-align: right;\">0.00888175</td><td style=\"text-align: right;\">    0.00317946</td></tr>\n",
       "<tr><td>training_script_61ca8ba2</td><td>PENDING </td><td>                   </td><td style=\"text-align: right;\">  0.440468</td><td style=\"text-align: right;\"> 0.154535 </td><td style=\"text-align: right;\">            2</td><td style=\"text-align: right;\">            3</td><td style=\"text-align: right;\">            1</td><td style=\"text-align: right;\">            1</td><td style=\"text-align: right;\">        57</td><td style=\"text-align: right;\">        15</td><td style=\"text-align: right;\">0.00239941</td><td style=\"text-align: right;\">    0.00148879</td></tr>\n",
       "</tbody>\n",
       "</table><br><br>"
      ],
      "text/plain": [
       "<IPython.core.display.HTML object>"
      ]
     },
     "metadata": {},
     "output_type": "display_data"
    },
    {
     "data": {
      "text/html": [
       "== Status ==<br>Current time: 2022-04-18 08:42:35 (running for 00:00:12.04)<br>Memory usage on this node: 9.2/62.7 GiB<br>Using AsyncHyperBand: num_stopped=0\n",
       "Bracket: Iter 64.000: None | Iter 16.000: None | Iter 4.000: None | Iter 1.000: None<br>Resources requested: 1.0/1 CPUs, 1.0/2 GPUs, 0.0/33.52 GiB heap, 0.0/16.76 GiB objects (0.0/1.0 accelerator_type:RTX)<br>Result logdir: /mnt/analysis/analysis/Research/TransferLearning4UrbanClimate/raytune/exp<br>Number of trials: 2/20 (1 PENDING, 1 RUNNING)<br><table>\n",
       "<thead>\n",
       "<tr><th>Trial name              </th><th>status  </th><th>loc                </th><th style=\"text-align: right;\">  drop_1_p</th><th style=\"text-align: right;\">  drop_2_p</th><th style=\"text-align: right;\">  layer_1_num</th><th style=\"text-align: right;\">  layer_2_num</th><th style=\"text-align: right;\">  layer_3_num</th><th style=\"text-align: right;\">  layer_4_num</th><th style=\"text-align: right;\">  linear_1</th><th style=\"text-align: right;\">  linear_2</th><th style=\"text-align: right;\">        lr</th><th style=\"text-align: right;\">  weight_decay</th></tr>\n",
       "</thead>\n",
       "<tbody>\n",
       "<tr><td>training_script_609639a0</td><td>RUNNING </td><td>192.168.1.108:64474</td><td style=\"text-align: right;\">  0.198334</td><td style=\"text-align: right;\"> 0.0513232</td><td style=\"text-align: right;\">            1</td><td style=\"text-align: right;\">            3</td><td style=\"text-align: right;\">            3</td><td style=\"text-align: right;\">            2</td><td style=\"text-align: right;\">        64</td><td style=\"text-align: right;\">        88</td><td style=\"text-align: right;\">0.00888175</td><td style=\"text-align: right;\">    0.00317946</td></tr>\n",
       "<tr><td>training_script_61ca8ba2</td><td>PENDING </td><td>                   </td><td style=\"text-align: right;\">  0.440468</td><td style=\"text-align: right;\"> 0.154535 </td><td style=\"text-align: right;\">            2</td><td style=\"text-align: right;\">            3</td><td style=\"text-align: right;\">            1</td><td style=\"text-align: right;\">            1</td><td style=\"text-align: right;\">        57</td><td style=\"text-align: right;\">        15</td><td style=\"text-align: right;\">0.00239941</td><td style=\"text-align: right;\">    0.00148879</td></tr>\n",
       "</tbody>\n",
       "</table><br><br>"
      ],
      "text/plain": [
       "<IPython.core.display.HTML object>"
      ]
     },
     "metadata": {},
     "output_type": "display_data"
    },
    {
     "data": {
      "text/html": [
       "== Status ==<br>Current time: 2022-04-18 08:42:40 (running for 00:00:17.05)<br>Memory usage on this node: 9.9/62.7 GiB<br>Using AsyncHyperBand: num_stopped=0\n",
       "Bracket: Iter 64.000: None | Iter 16.000: None | Iter 4.000: None | Iter 1.000: None<br>Resources requested: 1.0/1 CPUs, 1.0/2 GPUs, 0.0/33.52 GiB heap, 0.0/16.76 GiB objects (0.0/1.0 accelerator_type:RTX)<br>Result logdir: /mnt/analysis/analysis/Research/TransferLearning4UrbanClimate/raytune/exp<br>Number of trials: 2/20 (1 PENDING, 1 RUNNING)<br><table>\n",
       "<thead>\n",
       "<tr><th>Trial name              </th><th>status  </th><th>loc                </th><th style=\"text-align: right;\">  drop_1_p</th><th style=\"text-align: right;\">  drop_2_p</th><th style=\"text-align: right;\">  layer_1_num</th><th style=\"text-align: right;\">  layer_2_num</th><th style=\"text-align: right;\">  layer_3_num</th><th style=\"text-align: right;\">  layer_4_num</th><th style=\"text-align: right;\">  linear_1</th><th style=\"text-align: right;\">  linear_2</th><th style=\"text-align: right;\">        lr</th><th style=\"text-align: right;\">  weight_decay</th></tr>\n",
       "</thead>\n",
       "<tbody>\n",
       "<tr><td>training_script_609639a0</td><td>RUNNING </td><td>192.168.1.108:64474</td><td style=\"text-align: right;\">  0.198334</td><td style=\"text-align: right;\"> 0.0513232</td><td style=\"text-align: right;\">            1</td><td style=\"text-align: right;\">            3</td><td style=\"text-align: right;\">            3</td><td style=\"text-align: right;\">            2</td><td style=\"text-align: right;\">        64</td><td style=\"text-align: right;\">        88</td><td style=\"text-align: right;\">0.00888175</td><td style=\"text-align: right;\">    0.00317946</td></tr>\n",
       "<tr><td>training_script_61ca8ba2</td><td>PENDING </td><td>                   </td><td style=\"text-align: right;\">  0.440468</td><td style=\"text-align: right;\"> 0.154535 </td><td style=\"text-align: right;\">            2</td><td style=\"text-align: right;\">            3</td><td style=\"text-align: right;\">            1</td><td style=\"text-align: right;\">            1</td><td style=\"text-align: right;\">        57</td><td style=\"text-align: right;\">        15</td><td style=\"text-align: right;\">0.00239941</td><td style=\"text-align: right;\">    0.00148879</td></tr>\n",
       "</tbody>\n",
       "</table><br><br>"
      ],
      "text/plain": [
       "<IPython.core.display.HTML object>"
      ]
     },
     "metadata": {},
     "output_type": "display_data"
    },
    {
     "data": {
      "text/html": [
       "== Status ==<br>Current time: 2022-04-18 08:42:45 (running for 00:00:22.06)<br>Memory usage on this node: 10.0/62.7 GiB<br>Using AsyncHyperBand: num_stopped=0\n",
       "Bracket: Iter 64.000: None | Iter 16.000: None | Iter 4.000: None | Iter 1.000: None<br>Resources requested: 1.0/1 CPUs, 1.0/2 GPUs, 0.0/33.52 GiB heap, 0.0/16.76 GiB objects (0.0/1.0 accelerator_type:RTX)<br>Result logdir: /mnt/analysis/analysis/Research/TransferLearning4UrbanClimate/raytune/exp<br>Number of trials: 2/20 (1 PENDING, 1 RUNNING)<br><table>\n",
       "<thead>\n",
       "<tr><th>Trial name              </th><th>status  </th><th>loc                </th><th style=\"text-align: right;\">  drop_1_p</th><th style=\"text-align: right;\">  drop_2_p</th><th style=\"text-align: right;\">  layer_1_num</th><th style=\"text-align: right;\">  layer_2_num</th><th style=\"text-align: right;\">  layer_3_num</th><th style=\"text-align: right;\">  layer_4_num</th><th style=\"text-align: right;\">  linear_1</th><th style=\"text-align: right;\">  linear_2</th><th style=\"text-align: right;\">        lr</th><th style=\"text-align: right;\">  weight_decay</th></tr>\n",
       "</thead>\n",
       "<tbody>\n",
       "<tr><td>training_script_609639a0</td><td>RUNNING </td><td>192.168.1.108:64474</td><td style=\"text-align: right;\">  0.198334</td><td style=\"text-align: right;\"> 0.0513232</td><td style=\"text-align: right;\">            1</td><td style=\"text-align: right;\">            3</td><td style=\"text-align: right;\">            3</td><td style=\"text-align: right;\">            2</td><td style=\"text-align: right;\">        64</td><td style=\"text-align: right;\">        88</td><td style=\"text-align: right;\">0.00888175</td><td style=\"text-align: right;\">    0.00317946</td></tr>\n",
       "<tr><td>training_script_61ca8ba2</td><td>PENDING </td><td>                   </td><td style=\"text-align: right;\">  0.440468</td><td style=\"text-align: right;\"> 0.154535 </td><td style=\"text-align: right;\">            2</td><td style=\"text-align: right;\">            3</td><td style=\"text-align: right;\">            1</td><td style=\"text-align: right;\">            1</td><td style=\"text-align: right;\">        57</td><td style=\"text-align: right;\">        15</td><td style=\"text-align: right;\">0.00239941</td><td style=\"text-align: right;\">    0.00148879</td></tr>\n",
       "</tbody>\n",
       "</table><br><br>"
      ],
      "text/plain": [
       "<IPython.core.display.HTML object>"
      ]
     },
     "metadata": {},
     "output_type": "display_data"
    },
    {
     "data": {
      "text/html": [
       "== Status ==<br>Current time: 2022-04-18 08:42:50 (running for 00:00:27.06)<br>Memory usage on this node: 10.0/62.7 GiB<br>Using AsyncHyperBand: num_stopped=0\n",
       "Bracket: Iter 64.000: None | Iter 16.000: None | Iter 4.000: None | Iter 1.000: None<br>Resources requested: 1.0/1 CPUs, 1.0/2 GPUs, 0.0/33.52 GiB heap, 0.0/16.76 GiB objects (0.0/1.0 accelerator_type:RTX)<br>Result logdir: /mnt/analysis/analysis/Research/TransferLearning4UrbanClimate/raytune/exp<br>Number of trials: 2/20 (1 PENDING, 1 RUNNING)<br><table>\n",
       "<thead>\n",
       "<tr><th>Trial name              </th><th>status  </th><th>loc                </th><th style=\"text-align: right;\">  drop_1_p</th><th style=\"text-align: right;\">  drop_2_p</th><th style=\"text-align: right;\">  layer_1_num</th><th style=\"text-align: right;\">  layer_2_num</th><th style=\"text-align: right;\">  layer_3_num</th><th style=\"text-align: right;\">  layer_4_num</th><th style=\"text-align: right;\">  linear_1</th><th style=\"text-align: right;\">  linear_2</th><th style=\"text-align: right;\">        lr</th><th style=\"text-align: right;\">  weight_decay</th></tr>\n",
       "</thead>\n",
       "<tbody>\n",
       "<tr><td>training_script_609639a0</td><td>RUNNING </td><td>192.168.1.108:64474</td><td style=\"text-align: right;\">  0.198334</td><td style=\"text-align: right;\"> 0.0513232</td><td style=\"text-align: right;\">            1</td><td style=\"text-align: right;\">            3</td><td style=\"text-align: right;\">            3</td><td style=\"text-align: right;\">            2</td><td style=\"text-align: right;\">        64</td><td style=\"text-align: right;\">        88</td><td style=\"text-align: right;\">0.00888175</td><td style=\"text-align: right;\">    0.00317946</td></tr>\n",
       "<tr><td>training_script_61ca8ba2</td><td>PENDING </td><td>                   </td><td style=\"text-align: right;\">  0.440468</td><td style=\"text-align: right;\"> 0.154535 </td><td style=\"text-align: right;\">            2</td><td style=\"text-align: right;\">            3</td><td style=\"text-align: right;\">            1</td><td style=\"text-align: right;\">            1</td><td style=\"text-align: right;\">        57</td><td style=\"text-align: right;\">        15</td><td style=\"text-align: right;\">0.00239941</td><td style=\"text-align: right;\">    0.00148879</td></tr>\n",
       "</tbody>\n",
       "</table><br><br>"
      ],
      "text/plain": [
       "<IPython.core.display.HTML object>"
      ]
     },
     "metadata": {},
     "output_type": "display_data"
    },
    {
     "data": {
      "text/html": [
       "== Status ==<br>Current time: 2022-04-18 08:42:55 (running for 00:00:32.07)<br>Memory usage on this node: 10.0/62.7 GiB<br>Using AsyncHyperBand: num_stopped=0\n",
       "Bracket: Iter 64.000: None | Iter 16.000: None | Iter 4.000: None | Iter 1.000: None<br>Resources requested: 1.0/1 CPUs, 1.0/2 GPUs, 0.0/33.52 GiB heap, 0.0/16.76 GiB objects (0.0/1.0 accelerator_type:RTX)<br>Result logdir: /mnt/analysis/analysis/Research/TransferLearning4UrbanClimate/raytune/exp<br>Number of trials: 2/20 (1 PENDING, 1 RUNNING)<br><table>\n",
       "<thead>\n",
       "<tr><th>Trial name              </th><th>status  </th><th>loc                </th><th style=\"text-align: right;\">  drop_1_p</th><th style=\"text-align: right;\">  drop_2_p</th><th style=\"text-align: right;\">  layer_1_num</th><th style=\"text-align: right;\">  layer_2_num</th><th style=\"text-align: right;\">  layer_3_num</th><th style=\"text-align: right;\">  layer_4_num</th><th style=\"text-align: right;\">  linear_1</th><th style=\"text-align: right;\">  linear_2</th><th style=\"text-align: right;\">        lr</th><th style=\"text-align: right;\">  weight_decay</th></tr>\n",
       "</thead>\n",
       "<tbody>\n",
       "<tr><td>training_script_609639a0</td><td>RUNNING </td><td>192.168.1.108:64474</td><td style=\"text-align: right;\">  0.198334</td><td style=\"text-align: right;\"> 0.0513232</td><td style=\"text-align: right;\">            1</td><td style=\"text-align: right;\">            3</td><td style=\"text-align: right;\">            3</td><td style=\"text-align: right;\">            2</td><td style=\"text-align: right;\">        64</td><td style=\"text-align: right;\">        88</td><td style=\"text-align: right;\">0.00888175</td><td style=\"text-align: right;\">    0.00317946</td></tr>\n",
       "<tr><td>training_script_61ca8ba2</td><td>PENDING </td><td>                   </td><td style=\"text-align: right;\">  0.440468</td><td style=\"text-align: right;\"> 0.154535 </td><td style=\"text-align: right;\">            2</td><td style=\"text-align: right;\">            3</td><td style=\"text-align: right;\">            1</td><td style=\"text-align: right;\">            1</td><td style=\"text-align: right;\">        57</td><td style=\"text-align: right;\">        15</td><td style=\"text-align: right;\">0.00239941</td><td style=\"text-align: right;\">    0.00148879</td></tr>\n",
       "</tbody>\n",
       "</table><br><br>"
      ],
      "text/plain": [
       "<IPython.core.display.HTML object>"
      ]
     },
     "metadata": {},
     "output_type": "display_data"
    },
    {
     "data": {
      "text/html": [
       "== Status ==<br>Current time: 2022-04-18 08:43:00 (running for 00:00:37.08)<br>Memory usage on this node: 9.9/62.7 GiB<br>Using AsyncHyperBand: num_stopped=0\n",
       "Bracket: Iter 64.000: None | Iter 16.000: None | Iter 4.000: None | Iter 1.000: None<br>Resources requested: 1.0/1 CPUs, 1.0/2 GPUs, 0.0/33.52 GiB heap, 0.0/16.76 GiB objects (0.0/1.0 accelerator_type:RTX)<br>Result logdir: /mnt/analysis/analysis/Research/TransferLearning4UrbanClimate/raytune/exp<br>Number of trials: 2/20 (1 PENDING, 1 RUNNING)<br><table>\n",
       "<thead>\n",
       "<tr><th>Trial name              </th><th>status  </th><th>loc                </th><th style=\"text-align: right;\">  drop_1_p</th><th style=\"text-align: right;\">  drop_2_p</th><th style=\"text-align: right;\">  layer_1_num</th><th style=\"text-align: right;\">  layer_2_num</th><th style=\"text-align: right;\">  layer_3_num</th><th style=\"text-align: right;\">  layer_4_num</th><th style=\"text-align: right;\">  linear_1</th><th style=\"text-align: right;\">  linear_2</th><th style=\"text-align: right;\">        lr</th><th style=\"text-align: right;\">  weight_decay</th></tr>\n",
       "</thead>\n",
       "<tbody>\n",
       "<tr><td>training_script_609639a0</td><td>RUNNING </td><td>192.168.1.108:64474</td><td style=\"text-align: right;\">  0.198334</td><td style=\"text-align: right;\"> 0.0513232</td><td style=\"text-align: right;\">            1</td><td style=\"text-align: right;\">            3</td><td style=\"text-align: right;\">            3</td><td style=\"text-align: right;\">            2</td><td style=\"text-align: right;\">        64</td><td style=\"text-align: right;\">        88</td><td style=\"text-align: right;\">0.00888175</td><td style=\"text-align: right;\">    0.00317946</td></tr>\n",
       "<tr><td>training_script_61ca8ba2</td><td>PENDING </td><td>                   </td><td style=\"text-align: right;\">  0.440468</td><td style=\"text-align: right;\"> 0.154535 </td><td style=\"text-align: right;\">            2</td><td style=\"text-align: right;\">            3</td><td style=\"text-align: right;\">            1</td><td style=\"text-align: right;\">            1</td><td style=\"text-align: right;\">        57</td><td style=\"text-align: right;\">        15</td><td style=\"text-align: right;\">0.00239941</td><td style=\"text-align: right;\">    0.00148879</td></tr>\n",
       "</tbody>\n",
       "</table><br><br>"
      ],
      "text/plain": [
       "<IPython.core.display.HTML object>"
      ]
     },
     "metadata": {},
     "output_type": "display_data"
    },
    {
     "data": {
      "text/html": [
       "== Status ==<br>Current time: 2022-04-18 08:43:05 (running for 00:00:42.09)<br>Memory usage on this node: 9.9/62.7 GiB<br>Using AsyncHyperBand: num_stopped=0\n",
       "Bracket: Iter 64.000: None | Iter 16.000: None | Iter 4.000: None | Iter 1.000: None<br>Resources requested: 1.0/1 CPUs, 1.0/2 GPUs, 0.0/33.52 GiB heap, 0.0/16.76 GiB objects (0.0/1.0 accelerator_type:RTX)<br>Result logdir: /mnt/analysis/analysis/Research/TransferLearning4UrbanClimate/raytune/exp<br>Number of trials: 2/20 (1 PENDING, 1 RUNNING)<br><table>\n",
       "<thead>\n",
       "<tr><th>Trial name              </th><th>status  </th><th>loc                </th><th style=\"text-align: right;\">  drop_1_p</th><th style=\"text-align: right;\">  drop_2_p</th><th style=\"text-align: right;\">  layer_1_num</th><th style=\"text-align: right;\">  layer_2_num</th><th style=\"text-align: right;\">  layer_3_num</th><th style=\"text-align: right;\">  layer_4_num</th><th style=\"text-align: right;\">  linear_1</th><th style=\"text-align: right;\">  linear_2</th><th style=\"text-align: right;\">        lr</th><th style=\"text-align: right;\">  weight_decay</th></tr>\n",
       "</thead>\n",
       "<tbody>\n",
       "<tr><td>training_script_609639a0</td><td>RUNNING </td><td>192.168.1.108:64474</td><td style=\"text-align: right;\">  0.198334</td><td style=\"text-align: right;\"> 0.0513232</td><td style=\"text-align: right;\">            1</td><td style=\"text-align: right;\">            3</td><td style=\"text-align: right;\">            3</td><td style=\"text-align: right;\">            2</td><td style=\"text-align: right;\">        64</td><td style=\"text-align: right;\">        88</td><td style=\"text-align: right;\">0.00888175</td><td style=\"text-align: right;\">    0.00317946</td></tr>\n",
       "<tr><td>training_script_61ca8ba2</td><td>PENDING </td><td>                   </td><td style=\"text-align: right;\">  0.440468</td><td style=\"text-align: right;\"> 0.154535 </td><td style=\"text-align: right;\">            2</td><td style=\"text-align: right;\">            3</td><td style=\"text-align: right;\">            1</td><td style=\"text-align: right;\">            1</td><td style=\"text-align: right;\">        57</td><td style=\"text-align: right;\">        15</td><td style=\"text-align: right;\">0.00239941</td><td style=\"text-align: right;\">    0.00148879</td></tr>\n",
       "</tbody>\n",
       "</table><br><br>"
      ],
      "text/plain": [
       "<IPython.core.display.HTML object>"
      ]
     },
     "metadata": {},
     "output_type": "display_data"
    },
    {
     "data": {
      "text/html": [
       "== Status ==<br>Current time: 2022-04-18 08:43:10 (running for 00:00:47.09)<br>Memory usage on this node: 10.0/62.7 GiB<br>Using AsyncHyperBand: num_stopped=0\n",
       "Bracket: Iter 64.000: None | Iter 16.000: None | Iter 4.000: None | Iter 1.000: None<br>Resources requested: 1.0/1 CPUs, 1.0/2 GPUs, 0.0/33.52 GiB heap, 0.0/16.76 GiB objects (0.0/1.0 accelerator_type:RTX)<br>Result logdir: /mnt/analysis/analysis/Research/TransferLearning4UrbanClimate/raytune/exp<br>Number of trials: 2/20 (1 PENDING, 1 RUNNING)<br><table>\n",
       "<thead>\n",
       "<tr><th>Trial name              </th><th>status  </th><th>loc                </th><th style=\"text-align: right;\">  drop_1_p</th><th style=\"text-align: right;\">  drop_2_p</th><th style=\"text-align: right;\">  layer_1_num</th><th style=\"text-align: right;\">  layer_2_num</th><th style=\"text-align: right;\">  layer_3_num</th><th style=\"text-align: right;\">  layer_4_num</th><th style=\"text-align: right;\">  linear_1</th><th style=\"text-align: right;\">  linear_2</th><th style=\"text-align: right;\">        lr</th><th style=\"text-align: right;\">  weight_decay</th></tr>\n",
       "</thead>\n",
       "<tbody>\n",
       "<tr><td>training_script_609639a0</td><td>RUNNING </td><td>192.168.1.108:64474</td><td style=\"text-align: right;\">  0.198334</td><td style=\"text-align: right;\"> 0.0513232</td><td style=\"text-align: right;\">            1</td><td style=\"text-align: right;\">            3</td><td style=\"text-align: right;\">            3</td><td style=\"text-align: right;\">            2</td><td style=\"text-align: right;\">        64</td><td style=\"text-align: right;\">        88</td><td style=\"text-align: right;\">0.00888175</td><td style=\"text-align: right;\">    0.00317946</td></tr>\n",
       "<tr><td>training_script_61ca8ba2</td><td>PENDING </td><td>                   </td><td style=\"text-align: right;\">  0.440468</td><td style=\"text-align: right;\"> 0.154535 </td><td style=\"text-align: right;\">            2</td><td style=\"text-align: right;\">            3</td><td style=\"text-align: right;\">            1</td><td style=\"text-align: right;\">            1</td><td style=\"text-align: right;\">        57</td><td style=\"text-align: right;\">        15</td><td style=\"text-align: right;\">0.00239941</td><td style=\"text-align: right;\">    0.00148879</td></tr>\n",
       "</tbody>\n",
       "</table><br><br>"
      ],
      "text/plain": [
       "<IPython.core.display.HTML object>"
      ]
     },
     "metadata": {},
     "output_type": "display_data"
    },
    {
     "data": {
      "text/html": [
       "== Status ==<br>Current time: 2022-04-18 08:43:15 (running for 00:00:52.10)<br>Memory usage on this node: 10.0/62.7 GiB<br>Using AsyncHyperBand: num_stopped=0\n",
       "Bracket: Iter 64.000: None | Iter 16.000: None | Iter 4.000: None | Iter 1.000: None<br>Resources requested: 1.0/1 CPUs, 1.0/2 GPUs, 0.0/33.52 GiB heap, 0.0/16.76 GiB objects (0.0/1.0 accelerator_type:RTX)<br>Result logdir: /mnt/analysis/analysis/Research/TransferLearning4UrbanClimate/raytune/exp<br>Number of trials: 2/20 (1 PENDING, 1 RUNNING)<br><table>\n",
       "<thead>\n",
       "<tr><th>Trial name              </th><th>status  </th><th>loc                </th><th style=\"text-align: right;\">  drop_1_p</th><th style=\"text-align: right;\">  drop_2_p</th><th style=\"text-align: right;\">  layer_1_num</th><th style=\"text-align: right;\">  layer_2_num</th><th style=\"text-align: right;\">  layer_3_num</th><th style=\"text-align: right;\">  layer_4_num</th><th style=\"text-align: right;\">  linear_1</th><th style=\"text-align: right;\">  linear_2</th><th style=\"text-align: right;\">        lr</th><th style=\"text-align: right;\">  weight_decay</th></tr>\n",
       "</thead>\n",
       "<tbody>\n",
       "<tr><td>training_script_609639a0</td><td>RUNNING </td><td>192.168.1.108:64474</td><td style=\"text-align: right;\">  0.198334</td><td style=\"text-align: right;\"> 0.0513232</td><td style=\"text-align: right;\">            1</td><td style=\"text-align: right;\">            3</td><td style=\"text-align: right;\">            3</td><td style=\"text-align: right;\">            2</td><td style=\"text-align: right;\">        64</td><td style=\"text-align: right;\">        88</td><td style=\"text-align: right;\">0.00888175</td><td style=\"text-align: right;\">    0.00317946</td></tr>\n",
       "<tr><td>training_script_61ca8ba2</td><td>PENDING </td><td>                   </td><td style=\"text-align: right;\">  0.440468</td><td style=\"text-align: right;\"> 0.154535 </td><td style=\"text-align: right;\">            2</td><td style=\"text-align: right;\">            3</td><td style=\"text-align: right;\">            1</td><td style=\"text-align: right;\">            1</td><td style=\"text-align: right;\">        57</td><td style=\"text-align: right;\">        15</td><td style=\"text-align: right;\">0.00239941</td><td style=\"text-align: right;\">    0.00148879</td></tr>\n",
       "</tbody>\n",
       "</table><br><br>"
      ],
      "text/plain": [
       "<IPython.core.display.HTML object>"
      ]
     },
     "metadata": {},
     "output_type": "display_data"
    },
    {
     "data": {
      "text/html": [
       "== Status ==<br>Current time: 2022-04-18 08:43:20 (running for 00:00:57.11)<br>Memory usage on this node: 10.0/62.7 GiB<br>Using AsyncHyperBand: num_stopped=0\n",
       "Bracket: Iter 64.000: None | Iter 16.000: None | Iter 4.000: None | Iter 1.000: None<br>Resources requested: 1.0/1 CPUs, 1.0/2 GPUs, 0.0/33.52 GiB heap, 0.0/16.76 GiB objects (0.0/1.0 accelerator_type:RTX)<br>Result logdir: /mnt/analysis/analysis/Research/TransferLearning4UrbanClimate/raytune/exp<br>Number of trials: 2/20 (1 PENDING, 1 RUNNING)<br><table>\n",
       "<thead>\n",
       "<tr><th>Trial name              </th><th>status  </th><th>loc                </th><th style=\"text-align: right;\">  drop_1_p</th><th style=\"text-align: right;\">  drop_2_p</th><th style=\"text-align: right;\">  layer_1_num</th><th style=\"text-align: right;\">  layer_2_num</th><th style=\"text-align: right;\">  layer_3_num</th><th style=\"text-align: right;\">  layer_4_num</th><th style=\"text-align: right;\">  linear_1</th><th style=\"text-align: right;\">  linear_2</th><th style=\"text-align: right;\">        lr</th><th style=\"text-align: right;\">  weight_decay</th></tr>\n",
       "</thead>\n",
       "<tbody>\n",
       "<tr><td>training_script_609639a0</td><td>RUNNING </td><td>192.168.1.108:64474</td><td style=\"text-align: right;\">  0.198334</td><td style=\"text-align: right;\"> 0.0513232</td><td style=\"text-align: right;\">            1</td><td style=\"text-align: right;\">            3</td><td style=\"text-align: right;\">            3</td><td style=\"text-align: right;\">            2</td><td style=\"text-align: right;\">        64</td><td style=\"text-align: right;\">        88</td><td style=\"text-align: right;\">0.00888175</td><td style=\"text-align: right;\">    0.00317946</td></tr>\n",
       "<tr><td>training_script_61ca8ba2</td><td>PENDING </td><td>                   </td><td style=\"text-align: right;\">  0.440468</td><td style=\"text-align: right;\"> 0.154535 </td><td style=\"text-align: right;\">            2</td><td style=\"text-align: right;\">            3</td><td style=\"text-align: right;\">            1</td><td style=\"text-align: right;\">            1</td><td style=\"text-align: right;\">        57</td><td style=\"text-align: right;\">        15</td><td style=\"text-align: right;\">0.00239941</td><td style=\"text-align: right;\">    0.00148879</td></tr>\n",
       "</tbody>\n",
       "</table><br><br>"
      ],
      "text/plain": [
       "<IPython.core.display.HTML object>"
      ]
     },
     "metadata": {},
     "output_type": "display_data"
    },
    {
     "data": {
      "text/html": [
       "== Status ==<br>Current time: 2022-04-18 08:43:25 (running for 00:01:02.12)<br>Memory usage on this node: 10.0/62.7 GiB<br>Using AsyncHyperBand: num_stopped=0\n",
       "Bracket: Iter 64.000: None | Iter 16.000: None | Iter 4.000: None | Iter 1.000: None<br>Resources requested: 1.0/1 CPUs, 1.0/2 GPUs, 0.0/33.52 GiB heap, 0.0/16.76 GiB objects (0.0/1.0 accelerator_type:RTX)<br>Result logdir: /mnt/analysis/analysis/Research/TransferLearning4UrbanClimate/raytune/exp<br>Number of trials: 2/20 (1 PENDING, 1 RUNNING)<br><table>\n",
       "<thead>\n",
       "<tr><th>Trial name              </th><th>status  </th><th>loc                </th><th style=\"text-align: right;\">  drop_1_p</th><th style=\"text-align: right;\">  drop_2_p</th><th style=\"text-align: right;\">  layer_1_num</th><th style=\"text-align: right;\">  layer_2_num</th><th style=\"text-align: right;\">  layer_3_num</th><th style=\"text-align: right;\">  layer_4_num</th><th style=\"text-align: right;\">  linear_1</th><th style=\"text-align: right;\">  linear_2</th><th style=\"text-align: right;\">        lr</th><th style=\"text-align: right;\">  weight_decay</th></tr>\n",
       "</thead>\n",
       "<tbody>\n",
       "<tr><td>training_script_609639a0</td><td>RUNNING </td><td>192.168.1.108:64474</td><td style=\"text-align: right;\">  0.198334</td><td style=\"text-align: right;\"> 0.0513232</td><td style=\"text-align: right;\">            1</td><td style=\"text-align: right;\">            3</td><td style=\"text-align: right;\">            3</td><td style=\"text-align: right;\">            2</td><td style=\"text-align: right;\">        64</td><td style=\"text-align: right;\">        88</td><td style=\"text-align: right;\">0.00888175</td><td style=\"text-align: right;\">    0.00317946</td></tr>\n",
       "<tr><td>training_script_61ca8ba2</td><td>PENDING </td><td>                   </td><td style=\"text-align: right;\">  0.440468</td><td style=\"text-align: right;\"> 0.154535 </td><td style=\"text-align: right;\">            2</td><td style=\"text-align: right;\">            3</td><td style=\"text-align: right;\">            1</td><td style=\"text-align: right;\">            1</td><td style=\"text-align: right;\">        57</td><td style=\"text-align: right;\">        15</td><td style=\"text-align: right;\">0.00239941</td><td style=\"text-align: right;\">    0.00148879</td></tr>\n",
       "</tbody>\n",
       "</table><br><br>"
      ],
      "text/plain": [
       "<IPython.core.display.HTML object>"
      ]
     },
     "metadata": {},
     "output_type": "display_data"
    },
    {
     "data": {
      "text/html": [
       "== Status ==<br>Current time: 2022-04-18 08:43:30 (running for 00:01:07.12)<br>Memory usage on this node: 10.0/62.7 GiB<br>Using AsyncHyperBand: num_stopped=0\n",
       "Bracket: Iter 64.000: None | Iter 16.000: None | Iter 4.000: None | Iter 1.000: None<br>Resources requested: 1.0/1 CPUs, 1.0/2 GPUs, 0.0/33.52 GiB heap, 0.0/16.76 GiB objects (0.0/1.0 accelerator_type:RTX)<br>Result logdir: /mnt/analysis/analysis/Research/TransferLearning4UrbanClimate/raytune/exp<br>Number of trials: 2/20 (1 PENDING, 1 RUNNING)<br><table>\n",
       "<thead>\n",
       "<tr><th>Trial name              </th><th>status  </th><th>loc                </th><th style=\"text-align: right;\">  drop_1_p</th><th style=\"text-align: right;\">  drop_2_p</th><th style=\"text-align: right;\">  layer_1_num</th><th style=\"text-align: right;\">  layer_2_num</th><th style=\"text-align: right;\">  layer_3_num</th><th style=\"text-align: right;\">  layer_4_num</th><th style=\"text-align: right;\">  linear_1</th><th style=\"text-align: right;\">  linear_2</th><th style=\"text-align: right;\">        lr</th><th style=\"text-align: right;\">  weight_decay</th></tr>\n",
       "</thead>\n",
       "<tbody>\n",
       "<tr><td>training_script_609639a0</td><td>RUNNING </td><td>192.168.1.108:64474</td><td style=\"text-align: right;\">  0.198334</td><td style=\"text-align: right;\"> 0.0513232</td><td style=\"text-align: right;\">            1</td><td style=\"text-align: right;\">            3</td><td style=\"text-align: right;\">            3</td><td style=\"text-align: right;\">            2</td><td style=\"text-align: right;\">        64</td><td style=\"text-align: right;\">        88</td><td style=\"text-align: right;\">0.00888175</td><td style=\"text-align: right;\">    0.00317946</td></tr>\n",
       "<tr><td>training_script_61ca8ba2</td><td>PENDING </td><td>                   </td><td style=\"text-align: right;\">  0.440468</td><td style=\"text-align: right;\"> 0.154535 </td><td style=\"text-align: right;\">            2</td><td style=\"text-align: right;\">            3</td><td style=\"text-align: right;\">            1</td><td style=\"text-align: right;\">            1</td><td style=\"text-align: right;\">        57</td><td style=\"text-align: right;\">        15</td><td style=\"text-align: right;\">0.00239941</td><td style=\"text-align: right;\">    0.00148879</td></tr>\n",
       "</tbody>\n",
       "</table><br><br>"
      ],
      "text/plain": [
       "<IPython.core.display.HTML object>"
      ]
     },
     "metadata": {},
     "output_type": "display_data"
    },
    {
     "data": {
      "text/html": [
       "== Status ==<br>Current time: 2022-04-18 08:43:35 (running for 00:01:12.13)<br>Memory usage on this node: 10.0/62.7 GiB<br>Using AsyncHyperBand: num_stopped=0\n",
       "Bracket: Iter 64.000: None | Iter 16.000: None | Iter 4.000: None | Iter 1.000: None<br>Resources requested: 1.0/1 CPUs, 1.0/2 GPUs, 0.0/33.52 GiB heap, 0.0/16.76 GiB objects (0.0/1.0 accelerator_type:RTX)<br>Result logdir: /mnt/analysis/analysis/Research/TransferLearning4UrbanClimate/raytune/exp<br>Number of trials: 2/20 (1 PENDING, 1 RUNNING)<br><table>\n",
       "<thead>\n",
       "<tr><th>Trial name              </th><th>status  </th><th>loc                </th><th style=\"text-align: right;\">  drop_1_p</th><th style=\"text-align: right;\">  drop_2_p</th><th style=\"text-align: right;\">  layer_1_num</th><th style=\"text-align: right;\">  layer_2_num</th><th style=\"text-align: right;\">  layer_3_num</th><th style=\"text-align: right;\">  layer_4_num</th><th style=\"text-align: right;\">  linear_1</th><th style=\"text-align: right;\">  linear_2</th><th style=\"text-align: right;\">        lr</th><th style=\"text-align: right;\">  weight_decay</th></tr>\n",
       "</thead>\n",
       "<tbody>\n",
       "<tr><td>training_script_609639a0</td><td>RUNNING </td><td>192.168.1.108:64474</td><td style=\"text-align: right;\">  0.198334</td><td style=\"text-align: right;\"> 0.0513232</td><td style=\"text-align: right;\">            1</td><td style=\"text-align: right;\">            3</td><td style=\"text-align: right;\">            3</td><td style=\"text-align: right;\">            2</td><td style=\"text-align: right;\">        64</td><td style=\"text-align: right;\">        88</td><td style=\"text-align: right;\">0.00888175</td><td style=\"text-align: right;\">    0.00317946</td></tr>\n",
       "<tr><td>training_script_61ca8ba2</td><td>PENDING </td><td>                   </td><td style=\"text-align: right;\">  0.440468</td><td style=\"text-align: right;\"> 0.154535 </td><td style=\"text-align: right;\">            2</td><td style=\"text-align: right;\">            3</td><td style=\"text-align: right;\">            1</td><td style=\"text-align: right;\">            1</td><td style=\"text-align: right;\">        57</td><td style=\"text-align: right;\">        15</td><td style=\"text-align: right;\">0.00239941</td><td style=\"text-align: right;\">    0.00148879</td></tr>\n",
       "</tbody>\n",
       "</table><br><br>"
      ],
      "text/plain": [
       "<IPython.core.display.HTML object>"
      ]
     },
     "metadata": {},
     "output_type": "display_data"
    },
    {
     "data": {
      "text/html": [
       "== Status ==<br>Current time: 2022-04-18 08:43:40 (running for 00:01:17.14)<br>Memory usage on this node: 9.9/62.7 GiB<br>Using AsyncHyperBand: num_stopped=0\n",
       "Bracket: Iter 64.000: None | Iter 16.000: None | Iter 4.000: None | Iter 1.000: None<br>Resources requested: 1.0/1 CPUs, 1.0/2 GPUs, 0.0/33.52 GiB heap, 0.0/16.76 GiB objects (0.0/1.0 accelerator_type:RTX)<br>Result logdir: /mnt/analysis/analysis/Research/TransferLearning4UrbanClimate/raytune/exp<br>Number of trials: 2/20 (1 PENDING, 1 RUNNING)<br><table>\n",
       "<thead>\n",
       "<tr><th>Trial name              </th><th>status  </th><th>loc                </th><th style=\"text-align: right;\">  drop_1_p</th><th style=\"text-align: right;\">  drop_2_p</th><th style=\"text-align: right;\">  layer_1_num</th><th style=\"text-align: right;\">  layer_2_num</th><th style=\"text-align: right;\">  layer_3_num</th><th style=\"text-align: right;\">  layer_4_num</th><th style=\"text-align: right;\">  linear_1</th><th style=\"text-align: right;\">  linear_2</th><th style=\"text-align: right;\">        lr</th><th style=\"text-align: right;\">  weight_decay</th></tr>\n",
       "</thead>\n",
       "<tbody>\n",
       "<tr><td>training_script_609639a0</td><td>RUNNING </td><td>192.168.1.108:64474</td><td style=\"text-align: right;\">  0.198334</td><td style=\"text-align: right;\"> 0.0513232</td><td style=\"text-align: right;\">            1</td><td style=\"text-align: right;\">            3</td><td style=\"text-align: right;\">            3</td><td style=\"text-align: right;\">            2</td><td style=\"text-align: right;\">        64</td><td style=\"text-align: right;\">        88</td><td style=\"text-align: right;\">0.00888175</td><td style=\"text-align: right;\">    0.00317946</td></tr>\n",
       "<tr><td>training_script_61ca8ba2</td><td>PENDING </td><td>                   </td><td style=\"text-align: right;\">  0.440468</td><td style=\"text-align: right;\"> 0.154535 </td><td style=\"text-align: right;\">            2</td><td style=\"text-align: right;\">            3</td><td style=\"text-align: right;\">            1</td><td style=\"text-align: right;\">            1</td><td style=\"text-align: right;\">        57</td><td style=\"text-align: right;\">        15</td><td style=\"text-align: right;\">0.00239941</td><td style=\"text-align: right;\">    0.00148879</td></tr>\n",
       "</tbody>\n",
       "</table><br><br>"
      ],
      "text/plain": [
       "<IPython.core.display.HTML object>"
      ]
     },
     "metadata": {},
     "output_type": "display_data"
    },
    {
     "data": {
      "text/html": [
       "== Status ==<br>Current time: 2022-04-18 08:43:45 (running for 00:01:22.15)<br>Memory usage on this node: 9.8/62.7 GiB<br>Using AsyncHyperBand: num_stopped=0\n",
       "Bracket: Iter 64.000: None | Iter 16.000: None | Iter 4.000: None | Iter 1.000: None<br>Resources requested: 1.0/1 CPUs, 1.0/2 GPUs, 0.0/33.52 GiB heap, 0.0/16.76 GiB objects (0.0/1.0 accelerator_type:RTX)<br>Result logdir: /mnt/analysis/analysis/Research/TransferLearning4UrbanClimate/raytune/exp<br>Number of trials: 2/20 (1 PENDING, 1 RUNNING)<br><table>\n",
       "<thead>\n",
       "<tr><th>Trial name              </th><th>status  </th><th>loc                </th><th style=\"text-align: right;\">  drop_1_p</th><th style=\"text-align: right;\">  drop_2_p</th><th style=\"text-align: right;\">  layer_1_num</th><th style=\"text-align: right;\">  layer_2_num</th><th style=\"text-align: right;\">  layer_3_num</th><th style=\"text-align: right;\">  layer_4_num</th><th style=\"text-align: right;\">  linear_1</th><th style=\"text-align: right;\">  linear_2</th><th style=\"text-align: right;\">        lr</th><th style=\"text-align: right;\">  weight_decay</th></tr>\n",
       "</thead>\n",
       "<tbody>\n",
       "<tr><td>training_script_609639a0</td><td>RUNNING </td><td>192.168.1.108:64474</td><td style=\"text-align: right;\">  0.198334</td><td style=\"text-align: right;\"> 0.0513232</td><td style=\"text-align: right;\">            1</td><td style=\"text-align: right;\">            3</td><td style=\"text-align: right;\">            3</td><td style=\"text-align: right;\">            2</td><td style=\"text-align: right;\">        64</td><td style=\"text-align: right;\">        88</td><td style=\"text-align: right;\">0.00888175</td><td style=\"text-align: right;\">    0.00317946</td></tr>\n",
       "<tr><td>training_script_61ca8ba2</td><td>PENDING </td><td>                   </td><td style=\"text-align: right;\">  0.440468</td><td style=\"text-align: right;\"> 0.154535 </td><td style=\"text-align: right;\">            2</td><td style=\"text-align: right;\">            3</td><td style=\"text-align: right;\">            1</td><td style=\"text-align: right;\">            1</td><td style=\"text-align: right;\">        57</td><td style=\"text-align: right;\">        15</td><td style=\"text-align: right;\">0.00239941</td><td style=\"text-align: right;\">    0.00148879</td></tr>\n",
       "</tbody>\n",
       "</table><br><br>"
      ],
      "text/plain": [
       "<IPython.core.display.HTML object>"
      ]
     },
     "metadata": {},
     "output_type": "display_data"
    },
    {
     "data": {
      "text/html": [
       "== Status ==<br>Current time: 2022-04-18 08:43:50 (running for 00:01:27.15)<br>Memory usage on this node: 9.8/62.7 GiB<br>Using AsyncHyperBand: num_stopped=0\n",
       "Bracket: Iter 64.000: None | Iter 16.000: None | Iter 4.000: None | Iter 1.000: None<br>Resources requested: 1.0/1 CPUs, 1.0/2 GPUs, 0.0/33.52 GiB heap, 0.0/16.76 GiB objects (0.0/1.0 accelerator_type:RTX)<br>Result logdir: /mnt/analysis/analysis/Research/TransferLearning4UrbanClimate/raytune/exp<br>Number of trials: 2/20 (1 PENDING, 1 RUNNING)<br><table>\n",
       "<thead>\n",
       "<tr><th>Trial name              </th><th>status  </th><th>loc                </th><th style=\"text-align: right;\">  drop_1_p</th><th style=\"text-align: right;\">  drop_2_p</th><th style=\"text-align: right;\">  layer_1_num</th><th style=\"text-align: right;\">  layer_2_num</th><th style=\"text-align: right;\">  layer_3_num</th><th style=\"text-align: right;\">  layer_4_num</th><th style=\"text-align: right;\">  linear_1</th><th style=\"text-align: right;\">  linear_2</th><th style=\"text-align: right;\">        lr</th><th style=\"text-align: right;\">  weight_decay</th></tr>\n",
       "</thead>\n",
       "<tbody>\n",
       "<tr><td>training_script_609639a0</td><td>RUNNING </td><td>192.168.1.108:64474</td><td style=\"text-align: right;\">  0.198334</td><td style=\"text-align: right;\"> 0.0513232</td><td style=\"text-align: right;\">            1</td><td style=\"text-align: right;\">            3</td><td style=\"text-align: right;\">            3</td><td style=\"text-align: right;\">            2</td><td style=\"text-align: right;\">        64</td><td style=\"text-align: right;\">        88</td><td style=\"text-align: right;\">0.00888175</td><td style=\"text-align: right;\">    0.00317946</td></tr>\n",
       "<tr><td>training_script_61ca8ba2</td><td>PENDING </td><td>                   </td><td style=\"text-align: right;\">  0.440468</td><td style=\"text-align: right;\"> 0.154535 </td><td style=\"text-align: right;\">            2</td><td style=\"text-align: right;\">            3</td><td style=\"text-align: right;\">            1</td><td style=\"text-align: right;\">            1</td><td style=\"text-align: right;\">        57</td><td style=\"text-align: right;\">        15</td><td style=\"text-align: right;\">0.00239941</td><td style=\"text-align: right;\">    0.00148879</td></tr>\n",
       "</tbody>\n",
       "</table><br><br>"
      ],
      "text/plain": [
       "<IPython.core.display.HTML object>"
      ]
     },
     "metadata": {},
     "output_type": "display_data"
    },
    {
     "data": {
      "text/html": [
       "== Status ==<br>Current time: 2022-04-18 08:43:55 (running for 00:01:32.16)<br>Memory usage on this node: 9.9/62.7 GiB<br>Using AsyncHyperBand: num_stopped=0\n",
       "Bracket: Iter 64.000: None | Iter 16.000: None | Iter 4.000: None | Iter 1.000: None<br>Resources requested: 1.0/1 CPUs, 1.0/2 GPUs, 0.0/33.52 GiB heap, 0.0/16.76 GiB objects (0.0/1.0 accelerator_type:RTX)<br>Result logdir: /mnt/analysis/analysis/Research/TransferLearning4UrbanClimate/raytune/exp<br>Number of trials: 2/20 (1 PENDING, 1 RUNNING)<br><table>\n",
       "<thead>\n",
       "<tr><th>Trial name              </th><th>status  </th><th>loc                </th><th style=\"text-align: right;\">  drop_1_p</th><th style=\"text-align: right;\">  drop_2_p</th><th style=\"text-align: right;\">  layer_1_num</th><th style=\"text-align: right;\">  layer_2_num</th><th style=\"text-align: right;\">  layer_3_num</th><th style=\"text-align: right;\">  layer_4_num</th><th style=\"text-align: right;\">  linear_1</th><th style=\"text-align: right;\">  linear_2</th><th style=\"text-align: right;\">        lr</th><th style=\"text-align: right;\">  weight_decay</th></tr>\n",
       "</thead>\n",
       "<tbody>\n",
       "<tr><td>training_script_609639a0</td><td>RUNNING </td><td>192.168.1.108:64474</td><td style=\"text-align: right;\">  0.198334</td><td style=\"text-align: right;\"> 0.0513232</td><td style=\"text-align: right;\">            1</td><td style=\"text-align: right;\">            3</td><td style=\"text-align: right;\">            3</td><td style=\"text-align: right;\">            2</td><td style=\"text-align: right;\">        64</td><td style=\"text-align: right;\">        88</td><td style=\"text-align: right;\">0.00888175</td><td style=\"text-align: right;\">    0.00317946</td></tr>\n",
       "<tr><td>training_script_61ca8ba2</td><td>PENDING </td><td>                   </td><td style=\"text-align: right;\">  0.440468</td><td style=\"text-align: right;\"> 0.154535 </td><td style=\"text-align: right;\">            2</td><td style=\"text-align: right;\">            3</td><td style=\"text-align: right;\">            1</td><td style=\"text-align: right;\">            1</td><td style=\"text-align: right;\">        57</td><td style=\"text-align: right;\">        15</td><td style=\"text-align: right;\">0.00239941</td><td style=\"text-align: right;\">    0.00148879</td></tr>\n",
       "</tbody>\n",
       "</table><br><br>"
      ],
      "text/plain": [
       "<IPython.core.display.HTML object>"
      ]
     },
     "metadata": {},
     "output_type": "display_data"
    },
    {
     "data": {
      "text/html": [
       "== Status ==<br>Current time: 2022-04-18 08:44:00 (running for 00:01:37.17)<br>Memory usage on this node: 9.9/62.7 GiB<br>Using AsyncHyperBand: num_stopped=0\n",
       "Bracket: Iter 64.000: None | Iter 16.000: None | Iter 4.000: None | Iter 1.000: None<br>Resources requested: 1.0/1 CPUs, 1.0/2 GPUs, 0.0/33.52 GiB heap, 0.0/16.76 GiB objects (0.0/1.0 accelerator_type:RTX)<br>Result logdir: /mnt/analysis/analysis/Research/TransferLearning4UrbanClimate/raytune/exp<br>Number of trials: 2/20 (1 PENDING, 1 RUNNING)<br><table>\n",
       "<thead>\n",
       "<tr><th>Trial name              </th><th>status  </th><th>loc                </th><th style=\"text-align: right;\">  drop_1_p</th><th style=\"text-align: right;\">  drop_2_p</th><th style=\"text-align: right;\">  layer_1_num</th><th style=\"text-align: right;\">  layer_2_num</th><th style=\"text-align: right;\">  layer_3_num</th><th style=\"text-align: right;\">  layer_4_num</th><th style=\"text-align: right;\">  linear_1</th><th style=\"text-align: right;\">  linear_2</th><th style=\"text-align: right;\">        lr</th><th style=\"text-align: right;\">  weight_decay</th></tr>\n",
       "</thead>\n",
       "<tbody>\n",
       "<tr><td>training_script_609639a0</td><td>RUNNING </td><td>192.168.1.108:64474</td><td style=\"text-align: right;\">  0.198334</td><td style=\"text-align: right;\"> 0.0513232</td><td style=\"text-align: right;\">            1</td><td style=\"text-align: right;\">            3</td><td style=\"text-align: right;\">            3</td><td style=\"text-align: right;\">            2</td><td style=\"text-align: right;\">        64</td><td style=\"text-align: right;\">        88</td><td style=\"text-align: right;\">0.00888175</td><td style=\"text-align: right;\">    0.00317946</td></tr>\n",
       "<tr><td>training_script_61ca8ba2</td><td>PENDING </td><td>                   </td><td style=\"text-align: right;\">  0.440468</td><td style=\"text-align: right;\"> 0.154535 </td><td style=\"text-align: right;\">            2</td><td style=\"text-align: right;\">            3</td><td style=\"text-align: right;\">            1</td><td style=\"text-align: right;\">            1</td><td style=\"text-align: right;\">        57</td><td style=\"text-align: right;\">        15</td><td style=\"text-align: right;\">0.00239941</td><td style=\"text-align: right;\">    0.00148879</td></tr>\n",
       "</tbody>\n",
       "</table><br><br>"
      ],
      "text/plain": [
       "<IPython.core.display.HTML object>"
      ]
     },
     "metadata": {},
     "output_type": "display_data"
    },
    {
     "data": {
      "text/html": [
       "== Status ==<br>Current time: 2022-04-18 08:44:05 (running for 00:01:42.18)<br>Memory usage on this node: 9.9/62.7 GiB<br>Using AsyncHyperBand: num_stopped=0\n",
       "Bracket: Iter 64.000: None | Iter 16.000: None | Iter 4.000: None | Iter 1.000: None<br>Resources requested: 1.0/1 CPUs, 1.0/2 GPUs, 0.0/33.52 GiB heap, 0.0/16.76 GiB objects (0.0/1.0 accelerator_type:RTX)<br>Result logdir: /mnt/analysis/analysis/Research/TransferLearning4UrbanClimate/raytune/exp<br>Number of trials: 2/20 (1 PENDING, 1 RUNNING)<br><table>\n",
       "<thead>\n",
       "<tr><th>Trial name              </th><th>status  </th><th>loc                </th><th style=\"text-align: right;\">  drop_1_p</th><th style=\"text-align: right;\">  drop_2_p</th><th style=\"text-align: right;\">  layer_1_num</th><th style=\"text-align: right;\">  layer_2_num</th><th style=\"text-align: right;\">  layer_3_num</th><th style=\"text-align: right;\">  layer_4_num</th><th style=\"text-align: right;\">  linear_1</th><th style=\"text-align: right;\">  linear_2</th><th style=\"text-align: right;\">        lr</th><th style=\"text-align: right;\">  weight_decay</th></tr>\n",
       "</thead>\n",
       "<tbody>\n",
       "<tr><td>training_script_609639a0</td><td>RUNNING </td><td>192.168.1.108:64474</td><td style=\"text-align: right;\">  0.198334</td><td style=\"text-align: right;\"> 0.0513232</td><td style=\"text-align: right;\">            1</td><td style=\"text-align: right;\">            3</td><td style=\"text-align: right;\">            3</td><td style=\"text-align: right;\">            2</td><td style=\"text-align: right;\">        64</td><td style=\"text-align: right;\">        88</td><td style=\"text-align: right;\">0.00888175</td><td style=\"text-align: right;\">    0.00317946</td></tr>\n",
       "<tr><td>training_script_61ca8ba2</td><td>PENDING </td><td>                   </td><td style=\"text-align: right;\">  0.440468</td><td style=\"text-align: right;\"> 0.154535 </td><td style=\"text-align: right;\">            2</td><td style=\"text-align: right;\">            3</td><td style=\"text-align: right;\">            1</td><td style=\"text-align: right;\">            1</td><td style=\"text-align: right;\">        57</td><td style=\"text-align: right;\">        15</td><td style=\"text-align: right;\">0.00239941</td><td style=\"text-align: right;\">    0.00148879</td></tr>\n",
       "</tbody>\n",
       "</table><br><br>"
      ],
      "text/plain": [
       "<IPython.core.display.HTML object>"
      ]
     },
     "metadata": {},
     "output_type": "display_data"
    },
    {
     "data": {
      "text/html": [
       "== Status ==<br>Current time: 2022-04-18 08:44:10 (running for 00:01:47.18)<br>Memory usage on this node: 9.9/62.7 GiB<br>Using AsyncHyperBand: num_stopped=0\n",
       "Bracket: Iter 64.000: None | Iter 16.000: None | Iter 4.000: None | Iter 1.000: None<br>Resources requested: 1.0/1 CPUs, 1.0/2 GPUs, 0.0/33.52 GiB heap, 0.0/16.76 GiB objects (0.0/1.0 accelerator_type:RTX)<br>Result logdir: /mnt/analysis/analysis/Research/TransferLearning4UrbanClimate/raytune/exp<br>Number of trials: 2/20 (1 PENDING, 1 RUNNING)<br><table>\n",
       "<thead>\n",
       "<tr><th>Trial name              </th><th>status  </th><th>loc                </th><th style=\"text-align: right;\">  drop_1_p</th><th style=\"text-align: right;\">  drop_2_p</th><th style=\"text-align: right;\">  layer_1_num</th><th style=\"text-align: right;\">  layer_2_num</th><th style=\"text-align: right;\">  layer_3_num</th><th style=\"text-align: right;\">  layer_4_num</th><th style=\"text-align: right;\">  linear_1</th><th style=\"text-align: right;\">  linear_2</th><th style=\"text-align: right;\">        lr</th><th style=\"text-align: right;\">  weight_decay</th></tr>\n",
       "</thead>\n",
       "<tbody>\n",
       "<tr><td>training_script_609639a0</td><td>RUNNING </td><td>192.168.1.108:64474</td><td style=\"text-align: right;\">  0.198334</td><td style=\"text-align: right;\"> 0.0513232</td><td style=\"text-align: right;\">            1</td><td style=\"text-align: right;\">            3</td><td style=\"text-align: right;\">            3</td><td style=\"text-align: right;\">            2</td><td style=\"text-align: right;\">        64</td><td style=\"text-align: right;\">        88</td><td style=\"text-align: right;\">0.00888175</td><td style=\"text-align: right;\">    0.00317946</td></tr>\n",
       "<tr><td>training_script_61ca8ba2</td><td>PENDING </td><td>                   </td><td style=\"text-align: right;\">  0.440468</td><td style=\"text-align: right;\"> 0.154535 </td><td style=\"text-align: right;\">            2</td><td style=\"text-align: right;\">            3</td><td style=\"text-align: right;\">            1</td><td style=\"text-align: right;\">            1</td><td style=\"text-align: right;\">        57</td><td style=\"text-align: right;\">        15</td><td style=\"text-align: right;\">0.00239941</td><td style=\"text-align: right;\">    0.00148879</td></tr>\n",
       "</tbody>\n",
       "</table><br><br>"
      ],
      "text/plain": [
       "<IPython.core.display.HTML object>"
      ]
     },
     "metadata": {},
     "output_type": "display_data"
    },
    {
     "data": {
      "text/html": [
       "== Status ==<br>Current time: 2022-04-18 08:44:15 (running for 00:01:52.19)<br>Memory usage on this node: 10.0/62.7 GiB<br>Using AsyncHyperBand: num_stopped=0\n",
       "Bracket: Iter 64.000: None | Iter 16.000: None | Iter 4.000: None | Iter 1.000: None<br>Resources requested: 1.0/1 CPUs, 1.0/2 GPUs, 0.0/33.52 GiB heap, 0.0/16.76 GiB objects (0.0/1.0 accelerator_type:RTX)<br>Result logdir: /mnt/analysis/analysis/Research/TransferLearning4UrbanClimate/raytune/exp<br>Number of trials: 2/20 (1 PENDING, 1 RUNNING)<br><table>\n",
       "<thead>\n",
       "<tr><th>Trial name              </th><th>status  </th><th>loc                </th><th style=\"text-align: right;\">  drop_1_p</th><th style=\"text-align: right;\">  drop_2_p</th><th style=\"text-align: right;\">  layer_1_num</th><th style=\"text-align: right;\">  layer_2_num</th><th style=\"text-align: right;\">  layer_3_num</th><th style=\"text-align: right;\">  layer_4_num</th><th style=\"text-align: right;\">  linear_1</th><th style=\"text-align: right;\">  linear_2</th><th style=\"text-align: right;\">        lr</th><th style=\"text-align: right;\">  weight_decay</th></tr>\n",
       "</thead>\n",
       "<tbody>\n",
       "<tr><td>training_script_609639a0</td><td>RUNNING </td><td>192.168.1.108:64474</td><td style=\"text-align: right;\">  0.198334</td><td style=\"text-align: right;\"> 0.0513232</td><td style=\"text-align: right;\">            1</td><td style=\"text-align: right;\">            3</td><td style=\"text-align: right;\">            3</td><td style=\"text-align: right;\">            2</td><td style=\"text-align: right;\">        64</td><td style=\"text-align: right;\">        88</td><td style=\"text-align: right;\">0.00888175</td><td style=\"text-align: right;\">    0.00317946</td></tr>\n",
       "<tr><td>training_script_61ca8ba2</td><td>PENDING </td><td>                   </td><td style=\"text-align: right;\">  0.440468</td><td style=\"text-align: right;\"> 0.154535 </td><td style=\"text-align: right;\">            2</td><td style=\"text-align: right;\">            3</td><td style=\"text-align: right;\">            1</td><td style=\"text-align: right;\">            1</td><td style=\"text-align: right;\">        57</td><td style=\"text-align: right;\">        15</td><td style=\"text-align: right;\">0.00239941</td><td style=\"text-align: right;\">    0.00148879</td></tr>\n",
       "</tbody>\n",
       "</table><br><br>"
      ],
      "text/plain": [
       "<IPython.core.display.HTML object>"
      ]
     },
     "metadata": {},
     "output_type": "display_data"
    },
    {
     "data": {
      "text/html": [
       "== Status ==<br>Current time: 2022-04-18 08:44:20 (running for 00:01:57.20)<br>Memory usage on this node: 9.9/62.7 GiB<br>Using AsyncHyperBand: num_stopped=0\n",
       "Bracket: Iter 64.000: None | Iter 16.000: None | Iter 4.000: None | Iter 1.000: None<br>Resources requested: 1.0/1 CPUs, 1.0/2 GPUs, 0.0/33.52 GiB heap, 0.0/16.76 GiB objects (0.0/1.0 accelerator_type:RTX)<br>Result logdir: /mnt/analysis/analysis/Research/TransferLearning4UrbanClimate/raytune/exp<br>Number of trials: 2/20 (1 PENDING, 1 RUNNING)<br><table>\n",
       "<thead>\n",
       "<tr><th>Trial name              </th><th>status  </th><th>loc                </th><th style=\"text-align: right;\">  drop_1_p</th><th style=\"text-align: right;\">  drop_2_p</th><th style=\"text-align: right;\">  layer_1_num</th><th style=\"text-align: right;\">  layer_2_num</th><th style=\"text-align: right;\">  layer_3_num</th><th style=\"text-align: right;\">  layer_4_num</th><th style=\"text-align: right;\">  linear_1</th><th style=\"text-align: right;\">  linear_2</th><th style=\"text-align: right;\">        lr</th><th style=\"text-align: right;\">  weight_decay</th></tr>\n",
       "</thead>\n",
       "<tbody>\n",
       "<tr><td>training_script_609639a0</td><td>RUNNING </td><td>192.168.1.108:64474</td><td style=\"text-align: right;\">  0.198334</td><td style=\"text-align: right;\"> 0.0513232</td><td style=\"text-align: right;\">            1</td><td style=\"text-align: right;\">            3</td><td style=\"text-align: right;\">            3</td><td style=\"text-align: right;\">            2</td><td style=\"text-align: right;\">        64</td><td style=\"text-align: right;\">        88</td><td style=\"text-align: right;\">0.00888175</td><td style=\"text-align: right;\">    0.00317946</td></tr>\n",
       "<tr><td>training_script_61ca8ba2</td><td>PENDING </td><td>                   </td><td style=\"text-align: right;\">  0.440468</td><td style=\"text-align: right;\"> 0.154535 </td><td style=\"text-align: right;\">            2</td><td style=\"text-align: right;\">            3</td><td style=\"text-align: right;\">            1</td><td style=\"text-align: right;\">            1</td><td style=\"text-align: right;\">        57</td><td style=\"text-align: right;\">        15</td><td style=\"text-align: right;\">0.00239941</td><td style=\"text-align: right;\">    0.00148879</td></tr>\n",
       "</tbody>\n",
       "</table><br><br>"
      ],
      "text/plain": [
       "<IPython.core.display.HTML object>"
      ]
     },
     "metadata": {},
     "output_type": "display_data"
    }
   ],
   "source": [
    "analysis = tune.run(training_script,\n",
    "                    local_dir=os.getcwd(),\n",
    "                    name=\"exp\",\n",
    "                    metric=\"mean_accuracy\",\n",
    "                    mode=\"min\",\n",
    "                    search_alg=algo,\n",
    "                    scheduler=sched,\n",
    "                    resources_per_trial={\n",
    "                        \"cpu\":1,\n",
    "                        \"gpu\":1\n",
    "                    },\n",
    "                   \n",
    "                    num_samples=20,\n",
    "                    config = config)"
   ]
  },
  {
   "cell_type": "code",
   "execution_count": null,
   "id": "0ef62e7a",
   "metadata": {},
   "outputs": [],
   "source": [
    "ray.shutdown()"
   ]
  },
  {
   "cell_type": "code",
   "execution_count": null,
   "id": "c4584fd5",
   "metadata": {},
   "outputs": [],
   "source": []
  },
  {
   "cell_type": "code",
   "execution_count": null,
   "id": "c15b0556",
   "metadata": {},
   "outputs": [],
   "source": []
  },
  {
   "cell_type": "code",
   "execution_count": null,
   "id": "a1ef975b",
   "metadata": {},
   "outputs": [],
   "source": []
  },
  {
   "cell_type": "code",
   "execution_count": null,
   "id": "5500e1b9",
   "metadata": {},
   "outputs": [],
   "source": []
  },
  {
   "cell_type": "code",
   "execution_count": null,
   "id": "acf430ee",
   "metadata": {},
   "outputs": [],
   "source": []
  }
 ],
 "metadata": {
  "kernelspec": {
   "display_name": "Python 3 (ipykernel)",
   "language": "python",
   "name": "python3"
  },
  "language_info": {
   "codemirror_mode": {
    "name": "ipython",
    "version": 3
   },
   "file_extension": ".py",
   "mimetype": "text/x-python",
   "name": "python",
   "nbconvert_exporter": "python",
   "pygments_lexer": "ipython3",
   "version": "3.9.7"
  }
 },
 "nbformat": 4,
 "nbformat_minor": 5
}
